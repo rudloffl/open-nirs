{
 "cells": [
  {
   "cell_type": "code",
   "execution_count": 1,
   "metadata": {},
   "outputs": [],
   "source": [
    "import numpy as np\n",
    "import pandas as pd\n",
    "import matplotlib.pyplot as plt\n",
    "import seaborn as sns"
   ]
  },
  {
   "cell_type": "code",
   "execution_count": 2,
   "metadata": {},
   "outputs": [],
   "source": [
    "# Font modification\n",
    "#plt.rcParams['font.sans-serif'] = \"Times New Roman\"\n",
    "#plt.rcParams['font.family'] = \"sans-serif\"\n",
    "plt.rcParams['font.size'] = 18\n"
   ]
  },
  {
   "cell_type": "code",
   "execution_count": 3,
   "metadata": {},
   "outputs": [],
   "source": [
    "# Use with caution\n",
    "if True:\n",
    "    import warnings\n",
    "    warnings.filterwarnings(\"ignore\")"
   ]
  },
  {
   "cell_type": "markdown",
   "metadata": {},
   "source": [
    "# Data loading and assembly"
   ]
  },
  {
   "cell_type": "code",
   "execution_count": 4,
   "metadata": {},
   "outputs": [
    {
     "name": "stdout",
     "output_type": "stream",
     "text": [
      "(591, 293)\n"
     ]
    },
    {
     "data": {
      "text/html": [
       "<div>\n",
       "<style scoped>\n",
       "    .dataframe tbody tr th:only-of-type {\n",
       "        vertical-align: middle;\n",
       "    }\n",
       "\n",
       "    .dataframe tbody tr th {\n",
       "        vertical-align: top;\n",
       "    }\n",
       "\n",
       "    .dataframe thead th {\n",
       "        text-align: right;\n",
       "    }\n",
       "</style>\n",
       "<table border=\"1\" class=\"dataframe\">\n",
       "  <thead>\n",
       "    <tr style=\"text-align: right;\">\n",
       "      <th></th>\n",
       "      <th>target</th>\n",
       "      <th>sampleID</th>\n",
       "      <th>950</th>\n",
       "      <th>952</th>\n",
       "      <th>954</th>\n",
       "      <th>956</th>\n",
       "      <th>958</th>\n",
       "      <th>960</th>\n",
       "      <th>962</th>\n",
       "      <th>964</th>\n",
       "      <th>...</th>\n",
       "      <th>1512</th>\n",
       "      <th>1514</th>\n",
       "      <th>1516</th>\n",
       "      <th>1518</th>\n",
       "      <th>1520</th>\n",
       "      <th>1522</th>\n",
       "      <th>1524</th>\n",
       "      <th>1526</th>\n",
       "      <th>1528</th>\n",
       "      <th>1530</th>\n",
       "    </tr>\n",
       "  </thead>\n",
       "  <tbody>\n",
       "    <tr>\n",
       "      <th>0</th>\n",
       "      <td>94.333333</td>\n",
       "      <td>0.0</td>\n",
       "      <td>36.723839</td>\n",
       "      <td>35.745964</td>\n",
       "      <td>34.811623</td>\n",
       "      <td>33.955212</td>\n",
       "      <td>33.197552</td>\n",
       "      <td>32.570518</td>\n",
       "      <td>32.147972</td>\n",
       "      <td>31.807793</td>\n",
       "      <td>...</td>\n",
       "      <td>0.791820</td>\n",
       "      <td>0.831189</td>\n",
       "      <td>0.883438</td>\n",
       "      <td>0.940272</td>\n",
       "      <td>0.993729</td>\n",
       "      <td>1.046867</td>\n",
       "      <td>1.098642</td>\n",
       "      <td>1.152454</td>\n",
       "      <td>1.215338</td>\n",
       "      <td>1.271571</td>\n",
       "    </tr>\n",
       "    <tr>\n",
       "      <th>1</th>\n",
       "      <td>94.333333</td>\n",
       "      <td>0.0</td>\n",
       "      <td>36.369366</td>\n",
       "      <td>35.383987</td>\n",
       "      <td>34.443897</td>\n",
       "      <td>33.584080</td>\n",
       "      <td>32.823158</td>\n",
       "      <td>32.192280</td>\n",
       "      <td>31.770844</td>\n",
       "      <td>31.431589</td>\n",
       "      <td>...</td>\n",
       "      <td>0.685869</td>\n",
       "      <td>0.728103</td>\n",
       "      <td>0.785778</td>\n",
       "      <td>0.845810</td>\n",
       "      <td>0.902551</td>\n",
       "      <td>0.961095</td>\n",
       "      <td>1.017545</td>\n",
       "      <td>1.073209</td>\n",
       "      <td>1.138063</td>\n",
       "      <td>1.196826</td>\n",
       "    </tr>\n",
       "    <tr>\n",
       "      <th>2</th>\n",
       "      <td>94.333333</td>\n",
       "      <td>0.0</td>\n",
       "      <td>35.385422</td>\n",
       "      <td>34.405182</td>\n",
       "      <td>33.466976</td>\n",
       "      <td>32.614578</td>\n",
       "      <td>31.862633</td>\n",
       "      <td>31.242191</td>\n",
       "      <td>30.828016</td>\n",
       "      <td>30.496775</td>\n",
       "      <td>...</td>\n",
       "      <td>0.618997</td>\n",
       "      <td>0.659589</td>\n",
       "      <td>0.712821</td>\n",
       "      <td>0.769303</td>\n",
       "      <td>0.822148</td>\n",
       "      <td>0.875681</td>\n",
       "      <td>0.929040</td>\n",
       "      <td>0.979519</td>\n",
       "      <td>1.040625</td>\n",
       "      <td>1.100850</td>\n",
       "    </tr>\n",
       "    <tr>\n",
       "      <th>3</th>\n",
       "      <td>94.333333</td>\n",
       "      <td>0.0</td>\n",
       "      <td>35.121685</td>\n",
       "      <td>34.145687</td>\n",
       "      <td>33.217796</td>\n",
       "      <td>32.374218</td>\n",
       "      <td>31.630789</td>\n",
       "      <td>31.019081</td>\n",
       "      <td>30.611959</td>\n",
       "      <td>30.286642</td>\n",
       "      <td>...</td>\n",
       "      <td>0.751016</td>\n",
       "      <td>0.796110</td>\n",
       "      <td>0.852175</td>\n",
       "      <td>0.909087</td>\n",
       "      <td>0.965727</td>\n",
       "      <td>1.024710</td>\n",
       "      <td>1.080235</td>\n",
       "      <td>1.133445</td>\n",
       "      <td>1.197904</td>\n",
       "      <td>1.262516</td>\n",
       "    </tr>\n",
       "    <tr>\n",
       "      <th>4</th>\n",
       "      <td>76.333333</td>\n",
       "      <td>1.0</td>\n",
       "      <td>36.185947</td>\n",
       "      <td>35.209904</td>\n",
       "      <td>34.280155</td>\n",
       "      <td>33.430157</td>\n",
       "      <td>32.679989</td>\n",
       "      <td>32.062084</td>\n",
       "      <td>31.647160</td>\n",
       "      <td>31.312046</td>\n",
       "      <td>...</td>\n",
       "      <td>1.001077</td>\n",
       "      <td>1.051815</td>\n",
       "      <td>1.112780</td>\n",
       "      <td>1.175900</td>\n",
       "      <td>1.240040</td>\n",
       "      <td>1.304035</td>\n",
       "      <td>1.365576</td>\n",
       "      <td>1.426388</td>\n",
       "      <td>1.495515</td>\n",
       "      <td>1.561842</td>\n",
       "    </tr>\n",
       "  </tbody>\n",
       "</table>\n",
       "<p>5 rows × 293 columns</p>\n",
       "</div>"
      ],
      "text/plain": [
       "      target  sampleID        950        952        954        956        958  \\\n",
       "0  94.333333       0.0  36.723839  35.745964  34.811623  33.955212  33.197552   \n",
       "1  94.333333       0.0  36.369366  35.383987  34.443897  33.584080  32.823158   \n",
       "2  94.333333       0.0  35.385422  34.405182  33.466976  32.614578  31.862633   \n",
       "3  94.333333       0.0  35.121685  34.145687  33.217796  32.374218  31.630789   \n",
       "4  76.333333       1.0  36.185947  35.209904  34.280155  33.430157  32.679989   \n",
       "\n",
       "         960        962        964    ...         1512      1514      1516  \\\n",
       "0  32.570518  32.147972  31.807793    ...     0.791820  0.831189  0.883438   \n",
       "1  32.192280  31.770844  31.431589    ...     0.685869  0.728103  0.785778   \n",
       "2  31.242191  30.828016  30.496775    ...     0.618997  0.659589  0.712821   \n",
       "3  31.019081  30.611959  30.286642    ...     0.751016  0.796110  0.852175   \n",
       "4  32.062084  31.647160  31.312046    ...     1.001077  1.051815  1.112780   \n",
       "\n",
       "       1518      1520      1522      1524      1526      1528      1530  \n",
       "0  0.940272  0.993729  1.046867  1.098642  1.152454  1.215338  1.271571  \n",
       "1  0.845810  0.902551  0.961095  1.017545  1.073209  1.138063  1.196826  \n",
       "2  0.769303  0.822148  0.875681  0.929040  0.979519  1.040625  1.100850  \n",
       "3  0.909087  0.965727  1.024710  1.080235  1.133445  1.197904  1.262516  \n",
       "4  1.175900  1.240040  1.304035  1.365576  1.426388  1.495515  1.561842  \n",
       "\n",
       "[5 rows x 293 columns]"
      ]
     },
     "execution_count": 4,
     "metadata": {},
     "output_type": "execute_result"
    }
   ],
   "source": [
    "spectra = pd.read_csv('../data/cleanedset.csv')\n",
    "columns = ['target', 'sampleID'] \n",
    "columns.extend([str(x) for x in range(950, 1530+1,2)])\n",
    "spectra = spectra[columns]\n",
    "print(spectra.shape)\n",
    "spectra.head()"
   ]
  },
  {
   "cell_type": "markdown",
   "metadata": {},
   "source": [
    "# Regression"
   ]
  },
  {
   "cell_type": "code",
   "execution_count": 5,
   "metadata": {},
   "outputs": [],
   "source": [
    "from sklearn.pipeline import Pipeline\n",
    "from sklearn.model_selection import GridSearchCV\n",
    "from sklearn.model_selection import cross_val_score\n",
    "from sklearn.model_selection import cross_val_predict\n",
    "from sklearn.metrics import mean_squared_error\n",
    "from sklearn.base import BaseEstimator, TransformerMixin\n",
    "from sklearn.pipeline import make_union"
   ]
  },
  {
   "cell_type": "markdown",
   "metadata": {},
   "source": [
    "## Folds definition"
   ]
  },
  {
   "cell_type": "code",
   "execution_count": 6,
   "metadata": {},
   "outputs": [],
   "source": [
    "from sklearn.model_selection import KFold\n",
    "kf = KFold(n_splits=5, shuffle=False, random_state=47)"
   ]
  },
  {
   "cell_type": "markdown",
   "metadata": {},
   "source": [
    "## Split definition"
   ]
  },
  {
   "cell_type": "code",
   "execution_count": 7,
   "metadata": {},
   "outputs": [],
   "source": [
    "from sklearn.model_selection import train_test_split"
   ]
  },
  {
   "cell_type": "code",
   "execution_count": 12,
   "metadata": {},
   "outputs": [],
   "source": [
    "X_train, X_test, y_train, y_test = train_test_split(spectra[[str(x) for x in range(950, 1530+1,2)]], spectra['target'], test_size=0.33, random_state=53)"
   ]
  },
  {
   "cell_type": "code",
   "execution_count": 14,
   "metadata": {},
   "outputs": [
    {
     "data": {
      "image/png": "[encoded data removed]",
      "text/plain": [
       "<Figure size 576x432 with 1 Axes>"
      ]
     },
     "metadata": {},
     "output_type": "display_data"
    }
   ],
   "source": [
    "plt.figure(figsize=(8, 6))\n",
    "plt.hist(y_train, label='Train set')\n",
    "plt.hist(y_test, label='Test set')\n",
    "plt.legend()\n",
    "plt.xlabel('Target reading')\n",
    "plt.ylabel('Count')\n",
    "plt.savefig('train vs test.png', bbox_inches = 'tight')\n",
    "plt.show()"
   ]
  },
  {
   "cell_type": "code",
   "execution_count": null,
   "metadata": {},
   "outputs": [],
   "source": []
  },
  {
   "cell_type": "markdown",
   "metadata": {},
   "source": [
    "## Data trimmer"
   ]
  },
  {
   "cell_type": "code",
   "execution_count": 18,
   "metadata": {},
   "outputs": [
    {
     "data": {
      "text/plain": [
       "(395, 105)"
      ]
     },
     "execution_count": 18,
     "metadata": {},
     "output_type": "execute_result"
    }
   ],
   "source": [
    "class Trimmer(BaseEstimator, TransformerMixin):\n",
    "    \"\"\"Apply a lambda feature\"\"\"\n",
    "    def __init__(self,wavemin=950, wavemax=1530):# \n",
    "        self.wavemin = wavemin\n",
    "        self.wavemax = wavemax\n",
    "    \n",
    "    def fit(self, X, y=None):\n",
    "        return self\n",
    "    \n",
    "    def transform(self, X, y=None):\n",
    "        colnames = [str(x) for x in range(self.wavemin, self.wavemax+1,2)]\n",
    "        return X[colnames]\n",
    "\n",
    "params={'wavemin':992, 'wavemax':1200,}\n",
    "trimmer = Trimmer(**params)\n",
    "Xtr = trimmer.fit_transform(X_train)\n",
    "Xtr.shape"
   ]
  },
  {
   "cell_type": "markdown",
   "metadata": {},
   "source": [
    "## Savgol filter"
   ]
  },
  {
   "cell_type": "markdown",
   "metadata": {},
   "source": [
    "https://en.wikipedia.org/wiki/Savitzky%E2%80%93Golay_filter"
   ]
  },
  {
   "cell_type": "code",
   "execution_count": 20,
   "metadata": {},
   "outputs": [
    {
     "data": {
      "text/plain": [
       "(395, 291)"
      ]
     },
     "execution_count": 20,
     "metadata": {},
     "output_type": "execute_result"
    }
   ],
   "source": [
    "from scipy.signal import savgol_filter\n",
    "\n",
    "class Savgol(BaseEstimator, TransformerMixin):\n",
    "    \"\"\"Apply a lambda feature\"\"\"\n",
    "    def __init__(self, window_length=5, polyorder=2, deriv=0):# \n",
    "        self.window_length = window_length\n",
    "        self.polyorder = polyorder\n",
    "        self.deriv = deriv\n",
    "    \n",
    "    def fit(self, X, y=None):\n",
    "        return self\n",
    "    \n",
    "    def transform(self, X, y=None):\n",
    "        df = X.copy(deep=True)\n",
    "        toreturn = df.apply(savgol_filter, args=(self.window_length, self.polyorder, self.deriv,1. , 0, 'nearest'), axis=1, raw=True, result_type='broadcast')\n",
    "        return toreturn\n",
    "\n",
    "params={'window_length':27, 'polyorder':2, 'deriv':2}\n",
    "savgol = Savgol(**params)\n",
    "Xtr = savgol.fit_transform(X_train)\n",
    "Xtr.shape"
   ]
  },
  {
   "cell_type": "code",
   "execution_count": 21,
   "metadata": {},
   "outputs": [
    {
     "data": {
      "image/png": "[encoded data removed]",
      "text/plain": [
       "<Figure size 864x576 with 1 Axes>"
      ]
     },
     "metadata": {},
     "output_type": "display_data"
    }
   ],
   "source": [
    "df = savgol.transform(X_train)\n",
    "df.head(50).T.plot(legend=None, figsize=(12,8))\n",
    "#plt.title('Spectras - 1rst derivative')\n",
    "plt.xlabel('Wave Length') #,fontname=\"Times New Roman\", fontsize=18\n",
    "plt.ylabel('2nd derivative')\n",
    "#plt.yticks(fontname=\"Times New Roman\", fontsize=18)\n",
    "#plt.xticks(fontname=\"Times New Roman\", fontsize=18)\n",
    "\n",
    "plt.xticks(np.arange(len(df.columns)), [v if (int(v) % 100 == 0) or k==0 or k==len(df.columns)-1 else '' for (k,v) in enumerate(df.columns)], rotation=90)\n",
    "plt.savefig('genera - raw Spectras - 2nd derivative.png')\n",
    "plt.show()"
   ]
  },
  {
   "cell_type": "markdown",
   "metadata": {},
   "source": [
    "## Log(1/(p+n))"
   ]
  },
  {
   "cell_type": "code",
   "execution_count": 22,
   "metadata": {},
   "outputs": [
    {
     "data": {
      "text/plain": [
       "(395, 291)"
      ]
     },
     "execution_count": 22,
     "metadata": {},
     "output_type": "execute_result"
    }
   ],
   "source": [
    "class Log1overN(BaseEstimator, TransformerMixin):\n",
    "    def __init__(self, n=1):# \n",
    "        self.n = n\n",
    "    \n",
    "    def fit(self, X, y=None):\n",
    "        return self\n",
    "    \n",
    "    def transform(self, X, y=None):\n",
    "        df = X.copy(deep=True)\n",
    "        toreturn = df.apply(lambda x:np.log(1/(x+self.n)), axis=0)\n",
    "        return toreturn\n",
    "\n",
    "log1over = Log1overN(n=3)\n",
    "log1over.fit_transform(X_train).shape"
   ]
  },
  {
   "cell_type": "markdown",
   "metadata": {},
   "source": [
    "## SNV"
   ]
  },
  {
   "cell_type": "code",
   "execution_count": 23,
   "metadata": {},
   "outputs": [
    {
     "data": {
      "text/plain": [
       "(395, 291)"
      ]
     },
     "execution_count": 23,
     "metadata": {},
     "output_type": "execute_result"
    }
   ],
   "source": [
    "class Snv(BaseEstimator, TransformerMixin):\n",
    "    def __init__(self,):# \n",
    "        pass\n",
    "    \n",
    "    def fit(self, X, y=None):\n",
    "        return self\n",
    "    \n",
    "    def transform(self, X, y=None):\n",
    "        data_snv = np.zeros_like(X.values)\n",
    "        for i in range(X.shape[0]):\n",
    "            # Apply correction\n",
    "            data_snv[i,:] = (X.values[i,:] - np.mean(X.values[i,:])) / np.std(X.values[i,:])\n",
    "        return pd.DataFrame(data_snv, columns=X.columns, index=X.index)\n",
    "\n",
    "snv = Snv()\n",
    "snv.fit_transform(X_train).shape"
   ]
  },
  {
   "cell_type": "markdown",
   "metadata": {},
   "source": [
    "## Blocs creation"
   ]
  },
  {
   "cell_type": "code",
   "execution_count": 25,
   "metadata": {},
   "outputs": [],
   "source": [
    "trimmer = Trimmer()"
   ]
  },
  {
   "cell_type": "code",
   "execution_count": 26,
   "metadata": {},
   "outputs": [],
   "source": [
    "params={'window_length':13, 'polyorder':3, 'deriv':2}\n",
    "savgol = Savgol(**params)"
   ]
  },
  {
   "cell_type": "code",
   "execution_count": 27,
   "metadata": {},
   "outputs": [],
   "source": [
    "snv = Snv()"
   ]
  },
  {
   "cell_type": "code",
   "execution_count": 28,
   "metadata": {},
   "outputs": [],
   "source": [
    "log1over = Log1overN(n=3)"
   ]
  },
  {
   "cell_type": "code",
   "execution_count": 29,
   "metadata": {},
   "outputs": [],
   "source": [
    "from sklearn.preprocessing import StandardScaler\n",
    "scaler = StandardScaler()"
   ]
  },
  {
   "cell_type": "code",
   "execution_count": 30,
   "metadata": {},
   "outputs": [],
   "source": [
    "from sklearn.decomposition import PCA\n",
    "pca = PCA()"
   ]
  },
  {
   "cell_type": "markdown",
   "metadata": {},
   "source": [
    "# Tree construction"
   ]
  },
  {
   "cell_type": "code",
   "execution_count": 31,
   "metadata": {},
   "outputs": [],
   "source": [
    "lrpipelist1 = [#\n",
    "                ('trimmer', trimmer),\n",
    "               ('snv', snv),\n",
    "               ('savgol', savgol),\n",
    "               ('log1over', log1over),\n",
    "               ('scaler', scaler),\n",
    "               ('pca', pca),\n",
    "                ] #\n",
    "pipe1 = Pipeline(lrpipelist1)\n",
    "#Xtrans = pipe1.fit_transform(spectra)#.shape"
   ]
  },
  {
   "cell_type": "code",
   "execution_count": 32,
   "metadata": {},
   "outputs": [
    {
     "data": {
      "text/plain": [
       "(395, 291)"
      ]
     },
     "execution_count": 32,
     "metadata": {},
     "output_type": "execute_result"
    }
   ],
   "source": [
    "pipe1.fit_transform(X_train).shape"
   ]
  },
  {
   "cell_type": "code",
   "execution_count": 33,
   "metadata": {},
   "outputs": [],
   "source": [
    "from sklearn.linear_model import ElasticNet\n",
    "elnet = ElasticNet(random_state=0, max_iter=10000)"
   ]
  },
  {
   "cell_type": "code",
   "execution_count": 34,
   "metadata": {},
   "outputs": [],
   "source": [
    "listpipereg = [('pipe1', pipe1), ('elnet', elnet)] #\n",
    "pipereg = Pipeline(listpipereg)"
   ]
  },
  {
   "cell_type": "code",
   "execution_count": 35,
   "metadata": {},
   "outputs": [
    {
     "data": {
      "text/plain": [
       "Pipeline(memory=None,\n",
       "     steps=[('pipe1', Pipeline(memory=None,\n",
       "     steps=[('trimmer', Trimmer(wavemax=1530, wavemin=950)), ('snv', Snv()), ('savgol', Savgol(deriv=2, polyorder=3, window_length=13)), ('log1over', Log1overN(n=3)), ('scaler', StandardScaler(copy=True, with_mean=True, with_std=True)), ('pca', PCA(copy=True, i...e=False, precompute=False,\n",
       "      random_state=0, selection='cyclic', tol=0.0001, warm_start=False))])"
      ]
     },
     "execution_count": 35,
     "metadata": {},
     "output_type": "execute_result"
    }
   ],
   "source": [
    "pipereg.fit(X_train, y_train)"
   ]
  },
  {
   "cell_type": "code",
   "execution_count": null,
   "metadata": {},
   "outputs": [],
   "source": []
  },
  {
   "cell_type": "code",
   "execution_count": null,
   "metadata": {},
   "outputs": [],
   "source": []
  },
  {
   "cell_type": "markdown",
   "metadata": {},
   "source": [
    "### HyperOpt"
   ]
  },
  {
   "cell_type": "code",
   "execution_count": 36,
   "metadata": {},
   "outputs": [
    {
     "data": {
      "text/plain": [
       "dict_keys(['memory', 'steps', 'trimmer', 'snv', 'savgol', 'log1over', 'scaler', 'pca', 'trimmer__wavemax', 'trimmer__wavemin', 'savgol__deriv', 'savgol__polyorder', 'savgol__window_length', 'log1over__n', 'scaler__copy', 'scaler__with_mean', 'scaler__with_std', 'pca__copy', 'pca__iterated_power', 'pca__n_components', 'pca__random_state', 'pca__svd_solver', 'pca__tol', 'pca__whiten'])"
      ]
     },
     "execution_count": 36,
     "metadata": {},
     "output_type": "execute_result"
    }
   ],
   "source": [
    "pipe1.get_params().keys()"
   ]
  },
  {
   "cell_type": "code",
   "execution_count": 37,
   "metadata": {},
   "outputs": [],
   "source": [
    "from hyperopt import hp, tpe\n",
    "from hyperopt.fmin import fmin"
   ]
  },
  {
   "cell_type": "code",
   "execution_count": 38,
   "metadata": {},
   "outputs": [],
   "source": [
    "from sklearn.metrics import r2_score"
   ]
  },
  {
   "cell_type": "code",
   "execution_count": 62,
   "metadata": {},
   "outputs": [
    {
     "name": "stdout",
     "output_type": "stream",
     "text": [
      "5 --> [False, True, True, True, True] -0.6134247605810381 {'alpha': 0.06770099338994064, 'l1_ratio': 0.847017429293049, 'savgol__deriv': 2.0, 'savgol__polyorder': 3.0, 'savgol__window_length': 10.0, 'trimmer__wavemax': 1300.0, 'trimmer__wavemin': 1168.0}\n",
      "5 --> [False, True, False, True, True] -0.6040194083135226 {'alpha': 0.7014644331430235, 'l1_ratio': 0.6992653920739325, 'savgol__deriv': 2.0, 'savgol__polyorder': 2.0, 'savgol__window_length': 16.0, 'trimmer__wavemax': 1354.0, 'trimmer__wavemin': 1162.0}\n",
      "8 --> [False, True, True, True, True] -0.6791877038731018 {'alpha': 0.18520141726707648, 'l1_ratio': 0.9646452419486129, 'savgol__deriv': 2.0, 'savgol__polyorder': 3.0, 'savgol__window_length': 8.0, 'trimmer__wavemax': 1342.0, 'trimmer__wavemin': 1034.0}\n",
      "8 --> [False, True, False, True, True] -0.6847737591470007 {'alpha': 0.0934724285373248, 'l1_ratio': 0.9395470135994377, 'savgol__deriv': 2.0, 'savgol__polyorder': 2.0, 'savgol__window_length': 10.0, 'trimmer__wavemax': 1344.0, 'trimmer__wavemin': 1168.0}\n",
      "10 --> [False, True, True, True, True] -0.7118274928304082 {'alpha': 0.050021153833744426, 'l1_ratio': 0.9191870017191942, 'savgol__deriv': 2.0, 'savgol__polyorder': 3.0, 'savgol__window_length': 18.0, 'trimmer__wavemax': 1408.0, 'trimmer__wavemin': 1200.0}\n",
      "10 --> [False, True, False, True, True] -0.7090136484296397 {'alpha': 0.056943404714802574, 'l1_ratio': 0.6784682585503796, 'savgol__deriv': 2.0, 'savgol__polyorder': 3.0, 'savgol__window_length': 18.0, 'trimmer__wavemax': 1408.0, 'trimmer__wavemin': 1200.0}\n",
      "15 --> [False, True, True, True, True] -0.736168979486774 {'alpha': 0.0743762351935918, 'l1_ratio': 0.5753180285616125, 'savgol__deriv': 2.0, 'savgol__polyorder': 2.0, 'savgol__window_length': 14.0, 'trimmer__wavemax': 1436.0, 'trimmer__wavemin': 1032.0}\n",
      "15 --> [False, True, False, True, True] -0.7353409735021486 {'alpha': 0.057026519839331546, 'l1_ratio': 0.6607052598359412, 'savgol__deriv': 2.0, 'savgol__polyorder': 2.0, 'savgol__window_length': 14.0, 'trimmer__wavemax': 1426.0, 'trimmer__wavemin': 1032.0}\n"
     ]
    }
   ],
   "source": [
    "counter = 0\n",
    "bestscore = 1e20\n",
    "\n",
    "\n",
    "trainscore = True\n",
    "\n",
    "def objective(params):\n",
    "    #print(params)\n",
    "    global counter\n",
    "    global bestscore\n",
    "    counter += 1\n",
    "    \n",
    "    hyperparams = {\n",
    "        'alpha': params['alpha'],\n",
    "        'l1_ratio': params['l1_ratio'],\n",
    "        'random_state': 0,\n",
    "        }\n",
    "    \n",
    "    lrpipelist1 = [('trimmer', trimmer), ]\n",
    "    if pipeoption[0] == True:\n",
    "        lrpipelist1.append(('snv', snv))\n",
    "    if pipeoption[1] == True:\n",
    "        lrpipelist1.append(('savgol', savgol))\n",
    "    if pipeoption[2] == True:\n",
    "        lrpipelist1.append(('log1over', log1over))\n",
    "    if pipeoption[3] == True:\n",
    "        lrpipelist1.append(('scaler', scaler))\n",
    "    if pipeoption[4] == True:\n",
    "        lrpipelist1.append(('pca', pca))\n",
    "\n",
    "    pipe1 = Pipeline(lrpipelist1)\n",
    "\n",
    "    pipe1.set_params(pca__n_components=int(component))\n",
    "    pipe1.set_params(savgol__window_length=int(params['savgol__window_length'])+1)\n",
    "    pipe1.set_params(savgol__deriv=int(params['savgol__deriv']))\n",
    "    pipe1.set_params(trimmer__wavemin=int(params['trimmer__wavemin']))\n",
    "    pipe1.set_params(trimmer__wavemax=int(params['trimmer__wavemax']))\n",
    "    pipe1.set_params(savgol__polyorder=int(params['savgol__polyorder']))\n",
    "    \n",
    "    Xtrans = pipe1.fit_transform(X_train)\n",
    "    \n",
    "    elnet = ElasticNet(**hyperparams)\n",
    "    \n",
    "    if trainscore:\n",
    "        preds = cross_val_predict(elnet, Xtrans, y_train, cv=kf, n_jobs=-2)\n",
    "        score = mean_squared_error(y_train , preds)\n",
    "        score = -r2_score(y_train, preds)\n",
    "    else:\n",
    "        Xtranstest = pipe1.transform(X_test)\n",
    "        elnet.fit(Xtrans, y_train)\n",
    "        preds = elnet.predict(Xtranstest)\n",
    "        score = mean_squared_error(y_test , preds)\n",
    "        #score = -r2_score(y_test , preds)\n",
    "    \n",
    "    \n",
    "    #score = -cross_val_score(regpip, X, y, scoring='neg_mean_squared_error', cv=kf, n_jobs=-2).mean()\n",
    "    if counter % 50 == 0:\n",
    "        #print(\"{} - MSECV {}\".format(counter, score))\n",
    "        #print(params)\n",
    "        pass\n",
    "    if score < bestscore:\n",
    "        bestscore = score\n",
    "        #print(\"{} - MSECV {} - {}\".format(counter, score, params))\n",
    "    \n",
    "    return score\n",
    "\n",
    "sequence = ('SNV', 'SAVGOL', 'LOG 1/p')\n",
    "pipeoptions = [#[True, True, True, True, True], #SNV - SAVGOL - LOG1p - SCALER - PCA\n",
    "                #[True, True, False, True, True], # No log1p\n",
    "                [False, True, True, True, True],  #No SNV\n",
    "                [False, True, False, True, True], #No SNV or log1p\n",
    "                ]\n",
    "\n",
    "space = {\n",
    "    'alpha': hp.loguniform('alpha', -3, 2),\n",
    "    'l1_ratio': hp.uniform('l1_ratio', 0.5, 1),\n",
    "    'savgol__window_length': hp.quniform('savgol__window_length', 3, 19, 2),\n",
    "    'savgol__deriv':hp.quniform('savgol__deriv', 0, 2, 1),\n",
    "    'trimmer__wavemin': hp.quniform('trimmer__wavemin', 950, 1200, 2),\n",
    "    'trimmer__wavemax': hp.quniform('trimmer__wavemax', 1300, 1530, 2),\n",
    "    'savgol__polyorder':hp.quniform('savgol__polyorder', 2, 3, 1),\n",
    "}\n",
    "\n",
    "bestscores = []\n",
    "pcacomp = {}\n",
    "components = [5, 8, 10, 15]\n",
    "\n",
    "for component in components:\n",
    "    for pipeoption in pipeoptions:\n",
    "        #print(pipeoption, component)\n",
    "        #print()\n",
    "        counter = 0\n",
    "        bestscore = 1e20\n",
    "        best = fmin(fn=objective,\n",
    "                    space=space,\n",
    "                    algo=tpe.suggest,\n",
    "                    max_evals=500)\n",
    "        print(component, '-->', pipeoption, bestscore, best)\n",
    "        bestscores.append((pipeoption, bestscore, best))\n",
    "    pcacomp[component] = bestscores\n",
    "    bestscores = []"
   ]
  },
  {
   "cell_type": "code",
   "execution_count": 63,
   "metadata": {},
   "outputs": [],
   "source": [
    "#pcacomp"
   ]
  },
  {
   "cell_type": "code",
   "execution_count": 64,
   "metadata": {},
   "outputs": [],
   "source": [
    "cleaned = {comp:results[np.argmin([x[1] for x in results])] for comp, results in pcacomp.items()}\n",
    "cleaned = [{**v[2], 'pca':k, 'SNV':v[0][0], 'savgol':v[0][1], 'log1op':v[0][2]} for k, v in cleaned.items()]\n",
    "#cleaned"
   ]
  },
  {
   "cell_type": "code",
   "execution_count": 65,
   "metadata": {},
   "outputs": [
    {
     "data": {
      "text/html": [
       "<div>\n",
       "<style scoped>\n",
       "    .dataframe tbody tr th:only-of-type {\n",
       "        vertical-align: middle;\n",
       "    }\n",
       "\n",
       "    .dataframe tbody tr th {\n",
       "        vertical-align: top;\n",
       "    }\n",
       "\n",
       "    .dataframe thead th {\n",
       "        text-align: right;\n",
       "    }\n",
       "</style>\n",
       "<table border=\"1\" class=\"dataframe\">\n",
       "  <thead>\n",
       "    <tr style=\"text-align: right;\">\n",
       "      <th></th>\n",
       "      <th>0</th>\n",
       "      <th>1</th>\n",
       "      <th>2</th>\n",
       "      <th>3</th>\n",
       "    </tr>\n",
       "  </thead>\n",
       "  <tbody>\n",
       "    <tr>\n",
       "      <th>SNV</th>\n",
       "      <td>False</td>\n",
       "      <td>False</td>\n",
       "      <td>False</td>\n",
       "      <td>False</td>\n",
       "    </tr>\n",
       "    <tr>\n",
       "      <th>alpha</th>\n",
       "      <td>0.067701</td>\n",
       "      <td>0.0934724</td>\n",
       "      <td>0.0500212</td>\n",
       "      <td>0.0743762</td>\n",
       "    </tr>\n",
       "    <tr>\n",
       "      <th>l1_ratio</th>\n",
       "      <td>0.847017</td>\n",
       "      <td>0.939547</td>\n",
       "      <td>0.919187</td>\n",
       "      <td>0.575318</td>\n",
       "    </tr>\n",
       "    <tr>\n",
       "      <th>log1op</th>\n",
       "      <td>True</td>\n",
       "      <td>False</td>\n",
       "      <td>True</td>\n",
       "      <td>True</td>\n",
       "    </tr>\n",
       "    <tr>\n",
       "      <th>pca</th>\n",
       "      <td>5</td>\n",
       "      <td>8</td>\n",
       "      <td>10</td>\n",
       "      <td>15</td>\n",
       "    </tr>\n",
       "    <tr>\n",
       "      <th>savgol</th>\n",
       "      <td>True</td>\n",
       "      <td>True</td>\n",
       "      <td>True</td>\n",
       "      <td>True</td>\n",
       "    </tr>\n",
       "    <tr>\n",
       "      <th>savgol__deriv</th>\n",
       "      <td>2</td>\n",
       "      <td>2</td>\n",
       "      <td>2</td>\n",
       "      <td>2</td>\n",
       "    </tr>\n",
       "    <tr>\n",
       "      <th>savgol__polyorder</th>\n",
       "      <td>3</td>\n",
       "      <td>2</td>\n",
       "      <td>3</td>\n",
       "      <td>2</td>\n",
       "    </tr>\n",
       "    <tr>\n",
       "      <th>savgol__window_length</th>\n",
       "      <td>10</td>\n",
       "      <td>10</td>\n",
       "      <td>18</td>\n",
       "      <td>14</td>\n",
       "    </tr>\n",
       "    <tr>\n",
       "      <th>trimmer__wavemax</th>\n",
       "      <td>1300</td>\n",
       "      <td>1344</td>\n",
       "      <td>1408</td>\n",
       "      <td>1436</td>\n",
       "    </tr>\n",
       "    <tr>\n",
       "      <th>trimmer__wavemin</th>\n",
       "      <td>1168</td>\n",
       "      <td>1168</td>\n",
       "      <td>1200</td>\n",
       "      <td>1032</td>\n",
       "    </tr>\n",
       "    <tr>\n",
       "      <th>RMSE CV train</th>\n",
       "      <td>NaN</td>\n",
       "      <td>NaN</td>\n",
       "      <td>NaN</td>\n",
       "      <td>NaN</td>\n",
       "    </tr>\n",
       "    <tr>\n",
       "      <th>RMSE test</th>\n",
       "      <td>NaN</td>\n",
       "      <td>NaN</td>\n",
       "      <td>NaN</td>\n",
       "      <td>NaN</td>\n",
       "    </tr>\n",
       "    <tr>\n",
       "      <th>R2 CV train</th>\n",
       "      <td>NaN</td>\n",
       "      <td>NaN</td>\n",
       "      <td>NaN</td>\n",
       "      <td>NaN</td>\n",
       "    </tr>\n",
       "    <tr>\n",
       "      <th>R2 test</th>\n",
       "      <td>NaN</td>\n",
       "      <td>NaN</td>\n",
       "      <td>NaN</td>\n",
       "      <td>NaN</td>\n",
       "    </tr>\n",
       "  </tbody>\n",
       "</table>\n",
       "</div>"
      ],
      "text/plain": [
       "                              0          1          2          3\n",
       "SNV                       False      False      False      False\n",
       "alpha                  0.067701  0.0934724  0.0500212  0.0743762\n",
       "l1_ratio               0.847017   0.939547   0.919187   0.575318\n",
       "log1op                     True      False       True       True\n",
       "pca                           5          8         10         15\n",
       "savgol                     True       True       True       True\n",
       "savgol__deriv                 2          2          2          2\n",
       "savgol__polyorder             3          2          3          2\n",
       "savgol__window_length        10         10         18         14\n",
       "trimmer__wavemax           1300       1344       1408       1436\n",
       "trimmer__wavemin           1168       1168       1200       1032\n",
       "RMSE CV train               NaN        NaN        NaN        NaN\n",
       "RMSE test                   NaN        NaN        NaN        NaN\n",
       "R2 CV train                 NaN        NaN        NaN        NaN\n",
       "R2 test                     NaN        NaN        NaN        NaN"
      ]
     },
     "execution_count": 65,
     "metadata": {},
     "output_type": "execute_result"
    }
   ],
   "source": [
    "\n",
    "dataset = pd.DataFrame(cleaned)#.set_index('pca')\n",
    "\n",
    "errors = [1 ,2 ,3 ,4 ,6 ,8, 10]\n",
    "\n",
    "dataset = dataset.join(pd.DataFrame({'RMSE CV train':[np.nan], 'RMSE test':[np.nan],\n",
    "                             'R2 CV train':[np.nan], 'R2 test':[np.nan],\n",
    "                           #**{'Pred +/- {}'.format(x):[np.nan] for x in errors}\n",
    "                              }))\n",
    "\n",
    "dataset.T"
   ]
  },
  {
   "cell_type": "code",
   "execution_count": 66,
   "metadata": {},
   "outputs": [],
   "source": [
    "for index, best in dataset.iterrows():\n",
    "    lrpipelist1 = [('trimmer', Trimmer(wavemin=int(best.trimmer__wavemin), wavemax=int(best.trimmer__wavemax))), ]\n",
    "\n",
    "    if best.SNV:\n",
    "        lrpipelist1.append(('snv', snv))\n",
    "    lrpipelist1.append(('savgol', Savgol(window_length=int(best.savgol__window_length)+1, polyorder=int(best.savgol__polyorder), deriv=int(best.savgol__deriv), )))\n",
    "    if best.log1op:\n",
    "        lrpipelist1.append(('log1over', log1over))\n",
    "    lrpipelist1.append(('scaler', scaler))\n",
    "    lrpipelist1.append(('pca', PCA(n_components=int(best.pca))))\n",
    "\n",
    "    pipe1 = Pipeline(lrpipelist1)\n",
    "    \n",
    "    params = {\n",
    "        'alpha': best.alpha,\n",
    "        'l1_ratio': best.l1_ratio,\n",
    "        'random_state': 0,\n",
    "        }\n",
    "\n",
    "    elnet = ElasticNet(**params)\n",
    "    \n",
    "    Xtrans = pipe1.fit_transform(X_train)\n",
    "    preds_train = cross_val_predict(elnet, Xtrans, y_train, cv=kf, n_jobs=-2)\n",
    "    \n",
    "    #Fit with best parameters\n",
    "    elnet.fit(Xtrans, y_train)\n",
    "    Xtranstest = pipe1.transform(X_test)\n",
    "    preds_test = elnet.predict(Xtranstest)\n",
    "\n",
    "    \n",
    "    dataset['RMSE CV train'].loc[index] = (mean_squared_error(y_train, preds_train, ))**.5\n",
    "    dataset['RMSE test'].loc[index]     = (mean_squared_error(y_test, preds_test, ))**.5\n",
    "    dataset['R2 CV train'].loc[index]   = r2_score(y_train, preds_train)\n",
    "    dataset['R2 test'].loc[index]       = r2_score(y_test, preds_test)\n",
    "    \n",
    "    for error in errors:\n",
    "        pass"
   ]
  },
  {
   "cell_type": "code",
   "execution_count": null,
   "metadata": {},
   "outputs": [],
   "source": []
  },
  {
   "cell_type": "code",
   "execution_count": 68,
   "metadata": {},
   "outputs": [
    {
     "data": {
      "text/html": [
       "<div>\n",
       "<style scoped>\n",
       "    .dataframe tbody tr th:only-of-type {\n",
       "        vertical-align: middle;\n",
       "    }\n",
       "\n",
       "    .dataframe tbody tr th {\n",
       "        vertical-align: top;\n",
       "    }\n",
       "\n",
       "    .dataframe thead th {\n",
       "        text-align: right;\n",
       "    }\n",
       "</style>\n",
       "<table border=\"1\" class=\"dataframe\">\n",
       "  <thead>\n",
       "    <tr style=\"text-align: right;\">\n",
       "      <th>pca</th>\n",
       "      <th>5</th>\n",
       "      <th>8</th>\n",
       "      <th>10</th>\n",
       "      <th>15</th>\n",
       "    </tr>\n",
       "  </thead>\n",
       "  <tbody>\n",
       "    <tr>\n",
       "      <th>SNV</th>\n",
       "      <td>False</td>\n",
       "      <td>False</td>\n",
       "      <td>False</td>\n",
       "      <td>False</td>\n",
       "    </tr>\n",
       "    <tr>\n",
       "      <th>alpha</th>\n",
       "      <td>0.067701</td>\n",
       "      <td>0.0934724</td>\n",
       "      <td>0.0500212</td>\n",
       "      <td>0.0743762</td>\n",
       "    </tr>\n",
       "    <tr>\n",
       "      <th>l1_ratio</th>\n",
       "      <td>0.847017</td>\n",
       "      <td>0.939547</td>\n",
       "      <td>0.919187</td>\n",
       "      <td>0.575318</td>\n",
       "    </tr>\n",
       "    <tr>\n",
       "      <th>log1op</th>\n",
       "      <td>True</td>\n",
       "      <td>False</td>\n",
       "      <td>True</td>\n",
       "      <td>True</td>\n",
       "    </tr>\n",
       "    <tr>\n",
       "      <th>savgol</th>\n",
       "      <td>True</td>\n",
       "      <td>True</td>\n",
       "      <td>True</td>\n",
       "      <td>True</td>\n",
       "    </tr>\n",
       "    <tr>\n",
       "      <th>savgol__deriv</th>\n",
       "      <td>2</td>\n",
       "      <td>2</td>\n",
       "      <td>2</td>\n",
       "      <td>2</td>\n",
       "    </tr>\n",
       "    <tr>\n",
       "      <th>savgol__polyorder</th>\n",
       "      <td>3</td>\n",
       "      <td>2</td>\n",
       "      <td>3</td>\n",
       "      <td>2</td>\n",
       "    </tr>\n",
       "    <tr>\n",
       "      <th>savgol__window_length</th>\n",
       "      <td>10</td>\n",
       "      <td>10</td>\n",
       "      <td>18</td>\n",
       "      <td>14</td>\n",
       "    </tr>\n",
       "    <tr>\n",
       "      <th>trimmer__wavemax</th>\n",
       "      <td>1300</td>\n",
       "      <td>1344</td>\n",
       "      <td>1408</td>\n",
       "      <td>1436</td>\n",
       "    </tr>\n",
       "    <tr>\n",
       "      <th>trimmer__wavemin</th>\n",
       "      <td>1168</td>\n",
       "      <td>1168</td>\n",
       "      <td>1200</td>\n",
       "      <td>1032</td>\n",
       "    </tr>\n",
       "    <tr>\n",
       "      <th>RMSE CV train</th>\n",
       "      <td>5.53358</td>\n",
       "      <td>4.9969</td>\n",
       "      <td>4.77767</td>\n",
       "      <td>4.57143</td>\n",
       "    </tr>\n",
       "    <tr>\n",
       "      <th>RMSE test</th>\n",
       "      <td>5.07504</td>\n",
       "      <td>4.55491</td>\n",
       "      <td>4.81959</td>\n",
       "      <td>4.52219</td>\n",
       "    </tr>\n",
       "    <tr>\n",
       "      <th>R2 CV train</th>\n",
       "      <td>0.613425</td>\n",
       "      <td>0.684774</td>\n",
       "      <td>0.711827</td>\n",
       "      <td>0.736169</td>\n",
       "    </tr>\n",
       "    <tr>\n",
       "      <th>R2 test</th>\n",
       "      <td>0.64512</td>\n",
       "      <td>0.714135</td>\n",
       "      <td>0.679947</td>\n",
       "      <td>0.718227</td>\n",
       "    </tr>\n",
       "  </tbody>\n",
       "</table>\n",
       "</div>"
      ],
      "text/plain": [
       "pca                          5          8          10         15\n",
       "SNV                       False      False      False      False\n",
       "alpha                  0.067701  0.0934724  0.0500212  0.0743762\n",
       "l1_ratio               0.847017   0.939547   0.919187   0.575318\n",
       "log1op                     True      False       True       True\n",
       "savgol                     True       True       True       True\n",
       "savgol__deriv                 2          2          2          2\n",
       "savgol__polyorder             3          2          3          2\n",
       "savgol__window_length        10         10         18         14\n",
       "trimmer__wavemax           1300       1344       1408       1436\n",
       "trimmer__wavemin           1168       1168       1200       1032\n",
       "RMSE CV train           5.53358     4.9969    4.77767    4.57143\n",
       "RMSE test               5.07504    4.55491    4.81959    4.52219\n",
       "R2 CV train            0.613425   0.684774   0.711827   0.736169\n",
       "R2 test                 0.64512   0.714135   0.679947   0.718227"
      ]
     },
     "execution_count": 68,
     "metadata": {},
     "output_type": "execute_result"
    }
   ],
   "source": [
    "dataset.set_index('pca').T.to_csv('../data/elnet_analysis.csv')\n",
    "dataset.set_index('pca').T"
   ]
  },
  {
   "cell_type": "code",
   "execution_count": null,
   "metadata": {},
   "outputs": [],
   "source": []
  },
  {
   "cell_type": "code",
   "execution_count": null,
   "metadata": {},
   "outputs": [],
   "source": []
  },
  {
   "cell_type": "code",
   "execution_count": null,
   "metadata": {},
   "outputs": [],
   "source": []
  },
  {
   "cell_type": "code",
   "execution_count": null,
   "metadata": {},
   "outputs": [],
   "source": []
  },
  {
   "cell_type": "code",
   "execution_count": null,
   "metadata": {},
   "outputs": [],
   "source": []
  },
  {
   "cell_type": "code",
   "execution_count": null,
   "metadata": {},
   "outputs": [],
   "source": []
  },
  {
   "cell_type": "code",
   "execution_count": null,
   "metadata": {},
   "outputs": [],
   "source": []
  },
  {
   "cell_type": "code",
   "execution_count": null,
   "metadata": {},
   "outputs": [],
   "source": []
  },
  {
   "cell_type": "code",
   "execution_count": null,
   "metadata": {},
   "outputs": [],
   "source": []
  },
  {
   "cell_type": "code",
   "execution_count": null,
   "metadata": {},
   "outputs": [],
   "source": []
  }
 ],
 "metadata": {
  "kernelspec": {
   "display_name": "Python 3",
   "language": "python",
   "name": "python3"
  },
  "language_info": {
   "codemirror_mode": {
    "name": "ipython",
    "version": 3
   },
   "file_extension": ".py",
   "mimetype": "text/x-python",
   "name": "python",
   "nbconvert_exporter": "python",
   "pygments_lexer": "ipython3",
   "version": "3.6.6"
  }
 },
 "nbformat": 4,
 "nbformat_minor": 2
}
