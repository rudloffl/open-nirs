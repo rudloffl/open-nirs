{
 "cells": [
  {
   "cell_type": "code",
   "execution_count": 1,
   "metadata": {},
   "outputs": [],
   "source": [
    "import numpy as np\n",
    "import pandas as pd\n",
    "import matplotlib.pyplot as plt\n",
    "import seaborn as sns"
   ]
  },
  {
   "cell_type": "code",
   "execution_count": 2,
   "metadata": {},
   "outputs": [],
   "source": [
    "# Font modification\n",
    "#plt.rcParams['font.sans-serif'] = \"Times New Roman\"\n",
    "#plt.rcParams['font.family'] = \"sans-serif\"\n",
    "plt.rcParams['font.size'] = 18\n"
   ]
  },
  {
   "cell_type": "code",
   "execution_count": 3,
   "metadata": {},
   "outputs": [],
   "source": [
    "# Use with caution\n",
    "if True:\n",
    "    import warnings\n",
    "    warnings.filterwarnings(\"ignore\")"
   ]
  },
  {
   "cell_type": "markdown",
   "metadata": {},
   "source": [
    "# Data loading and assembly"
   ]
  },
  {
   "cell_type": "code",
   "execution_count": 4,
   "metadata": {},
   "outputs": [
    {
     "name": "stdout",
     "output_type": "stream",
     "text": [
      "(591, 293)\n"
     ]
    },
    {
     "data": {
      "text/html": [
       "<div>\n",
       "<style scoped>\n",
       "    .dataframe tbody tr th:only-of-type {\n",
       "        vertical-align: middle;\n",
       "    }\n",
       "\n",
       "    .dataframe tbody tr th {\n",
       "        vertical-align: top;\n",
       "    }\n",
       "\n",
       "    .dataframe thead th {\n",
       "        text-align: right;\n",
       "    }\n",
       "</style>\n",
       "<table border=\"1\" class=\"dataframe\">\n",
       "  <thead>\n",
       "    <tr style=\"text-align: right;\">\n",
       "      <th></th>\n",
       "      <th>target</th>\n",
       "      <th>sampleID</th>\n",
       "      <th>950</th>\n",
       "      <th>952</th>\n",
       "      <th>954</th>\n",
       "      <th>956</th>\n",
       "      <th>958</th>\n",
       "      <th>960</th>\n",
       "      <th>962</th>\n",
       "      <th>964</th>\n",
       "      <th>...</th>\n",
       "      <th>1512</th>\n",
       "      <th>1514</th>\n",
       "      <th>1516</th>\n",
       "      <th>1518</th>\n",
       "      <th>1520</th>\n",
       "      <th>1522</th>\n",
       "      <th>1524</th>\n",
       "      <th>1526</th>\n",
       "      <th>1528</th>\n",
       "      <th>1530</th>\n",
       "    </tr>\n",
       "  </thead>\n",
       "  <tbody>\n",
       "    <tr>\n",
       "      <th>0</th>\n",
       "      <td>94.333333</td>\n",
       "      <td>0.0</td>\n",
       "      <td>36.723839</td>\n",
       "      <td>35.745964</td>\n",
       "      <td>34.811623</td>\n",
       "      <td>33.955212</td>\n",
       "      <td>33.197552</td>\n",
       "      <td>32.570518</td>\n",
       "      <td>32.147972</td>\n",
       "      <td>31.807793</td>\n",
       "      <td>...</td>\n",
       "      <td>0.791820</td>\n",
       "      <td>0.831189</td>\n",
       "      <td>0.883438</td>\n",
       "      <td>0.940272</td>\n",
       "      <td>0.993729</td>\n",
       "      <td>1.046867</td>\n",
       "      <td>1.098642</td>\n",
       "      <td>1.152454</td>\n",
       "      <td>1.215338</td>\n",
       "      <td>1.271571</td>\n",
       "    </tr>\n",
       "    <tr>\n",
       "      <th>1</th>\n",
       "      <td>94.333333</td>\n",
       "      <td>0.0</td>\n",
       "      <td>36.369366</td>\n",
       "      <td>35.383987</td>\n",
       "      <td>34.443897</td>\n",
       "      <td>33.584080</td>\n",
       "      <td>32.823158</td>\n",
       "      <td>32.192280</td>\n",
       "      <td>31.770844</td>\n",
       "      <td>31.431589</td>\n",
       "      <td>...</td>\n",
       "      <td>0.685869</td>\n",
       "      <td>0.728103</td>\n",
       "      <td>0.785778</td>\n",
       "      <td>0.845810</td>\n",
       "      <td>0.902551</td>\n",
       "      <td>0.961095</td>\n",
       "      <td>1.017545</td>\n",
       "      <td>1.073209</td>\n",
       "      <td>1.138063</td>\n",
       "      <td>1.196826</td>\n",
       "    </tr>\n",
       "    <tr>\n",
       "      <th>2</th>\n",
       "      <td>94.333333</td>\n",
       "      <td>0.0</td>\n",
       "      <td>35.385422</td>\n",
       "      <td>34.405182</td>\n",
       "      <td>33.466976</td>\n",
       "      <td>32.614578</td>\n",
       "      <td>31.862633</td>\n",
       "      <td>31.242191</td>\n",
       "      <td>30.828016</td>\n",
       "      <td>30.496775</td>\n",
       "      <td>...</td>\n",
       "      <td>0.618997</td>\n",
       "      <td>0.659589</td>\n",
       "      <td>0.712821</td>\n",
       "      <td>0.769303</td>\n",
       "      <td>0.822148</td>\n",
       "      <td>0.875681</td>\n",
       "      <td>0.929040</td>\n",
       "      <td>0.979519</td>\n",
       "      <td>1.040625</td>\n",
       "      <td>1.100850</td>\n",
       "    </tr>\n",
       "    <tr>\n",
       "      <th>3</th>\n",
       "      <td>94.333333</td>\n",
       "      <td>0.0</td>\n",
       "      <td>35.121685</td>\n",
       "      <td>34.145687</td>\n",
       "      <td>33.217796</td>\n",
       "      <td>32.374218</td>\n",
       "      <td>31.630789</td>\n",
       "      <td>31.019081</td>\n",
       "      <td>30.611959</td>\n",
       "      <td>30.286642</td>\n",
       "      <td>...</td>\n",
       "      <td>0.751016</td>\n",
       "      <td>0.796110</td>\n",
       "      <td>0.852175</td>\n",
       "      <td>0.909087</td>\n",
       "      <td>0.965727</td>\n",
       "      <td>1.024710</td>\n",
       "      <td>1.080235</td>\n",
       "      <td>1.133445</td>\n",
       "      <td>1.197904</td>\n",
       "      <td>1.262516</td>\n",
       "    </tr>\n",
       "    <tr>\n",
       "      <th>4</th>\n",
       "      <td>76.333333</td>\n",
       "      <td>1.0</td>\n",
       "      <td>36.185947</td>\n",
       "      <td>35.209904</td>\n",
       "      <td>34.280155</td>\n",
       "      <td>33.430157</td>\n",
       "      <td>32.679989</td>\n",
       "      <td>32.062084</td>\n",
       "      <td>31.647160</td>\n",
       "      <td>31.312046</td>\n",
       "      <td>...</td>\n",
       "      <td>1.001077</td>\n",
       "      <td>1.051815</td>\n",
       "      <td>1.112780</td>\n",
       "      <td>1.175900</td>\n",
       "      <td>1.240040</td>\n",
       "      <td>1.304035</td>\n",
       "      <td>1.365576</td>\n",
       "      <td>1.426388</td>\n",
       "      <td>1.495515</td>\n",
       "      <td>1.561842</td>\n",
       "    </tr>\n",
       "  </tbody>\n",
       "</table>\n",
       "<p>5 rows × 293 columns</p>\n",
       "</div>"
      ],
      "text/plain": [
       "      target  sampleID        950        952        954        956        958  \\\n",
       "0  94.333333       0.0  36.723839  35.745964  34.811623  33.955212  33.197552   \n",
       "1  94.333333       0.0  36.369366  35.383987  34.443897  33.584080  32.823158   \n",
       "2  94.333333       0.0  35.385422  34.405182  33.466976  32.614578  31.862633   \n",
       "3  94.333333       0.0  35.121685  34.145687  33.217796  32.374218  31.630789   \n",
       "4  76.333333       1.0  36.185947  35.209904  34.280155  33.430157  32.679989   \n",
       "\n",
       "         960        962        964    ...         1512      1514      1516  \\\n",
       "0  32.570518  32.147972  31.807793    ...     0.791820  0.831189  0.883438   \n",
       "1  32.192280  31.770844  31.431589    ...     0.685869  0.728103  0.785778   \n",
       "2  31.242191  30.828016  30.496775    ...     0.618997  0.659589  0.712821   \n",
       "3  31.019081  30.611959  30.286642    ...     0.751016  0.796110  0.852175   \n",
       "4  32.062084  31.647160  31.312046    ...     1.001077  1.051815  1.112780   \n",
       "\n",
       "       1518      1520      1522      1524      1526      1528      1530  \n",
       "0  0.940272  0.993729  1.046867  1.098642  1.152454  1.215338  1.271571  \n",
       "1  0.845810  0.902551  0.961095  1.017545  1.073209  1.138063  1.196826  \n",
       "2  0.769303  0.822148  0.875681  0.929040  0.979519  1.040625  1.100850  \n",
       "3  0.909087  0.965727  1.024710  1.080235  1.133445  1.197904  1.262516  \n",
       "4  1.175900  1.240040  1.304035  1.365576  1.426388  1.495515  1.561842  \n",
       "\n",
       "[5 rows x 293 columns]"
      ]
     },
     "execution_count": 4,
     "metadata": {},
     "output_type": "execute_result"
    }
   ],
   "source": [
    "spectra = pd.read_csv('../data/cleanedset.csv')\n",
    "columns = ['target', 'sampleID'] \n",
    "columns.extend([str(x) for x in range(950, 1530+1,2)])\n",
    "spectra = spectra[columns]\n",
    "print(spectra.shape)\n",
    "spectra.head()"
   ]
  },
  {
   "cell_type": "markdown",
   "metadata": {},
   "source": [
    "# Regression"
   ]
  },
  {
   "cell_type": "code",
   "execution_count": 5,
   "metadata": {},
   "outputs": [],
   "source": [
    "from sklearn.pipeline import Pipeline\n",
    "from sklearn.model_selection import GridSearchCV\n",
    "from sklearn.model_selection import cross_val_score\n",
    "from sklearn.model_selection import cross_val_predict\n",
    "from sklearn.metrics import mean_squared_error\n",
    "from sklearn.base import BaseEstimator, TransformerMixin\n",
    "from sklearn.pipeline import make_union"
   ]
  },
  {
   "cell_type": "markdown",
   "metadata": {},
   "source": [
    "## Folds definition"
   ]
  },
  {
   "cell_type": "code",
   "execution_count": 6,
   "metadata": {},
   "outputs": [],
   "source": [
    "from sklearn.model_selection import KFold\n",
    "kf = KFold(n_splits=5, shuffle=False, random_state=47)"
   ]
  },
  {
   "cell_type": "markdown",
   "metadata": {},
   "source": [
    "## Split definition"
   ]
  },
  {
   "cell_type": "code",
   "execution_count": 7,
   "metadata": {},
   "outputs": [],
   "source": [
    "from sklearn.model_selection import train_test_split"
   ]
  },
  {
   "cell_type": "code",
   "execution_count": 8,
   "metadata": {},
   "outputs": [],
   "source": [
    "X_train, X_test, y_train, y_test = train_test_split(spectra, spectra['target'], test_size=0.33, random_state=42)"
   ]
  },
  {
   "cell_type": "code",
   "execution_count": 9,
   "metadata": {},
   "outputs": [
    {
     "data": {
      "image/png": "[encoded data removed]",
      "text/plain": [
       "<Figure size 576x432 with 1 Axes>"
      ]
     },
     "metadata": {},
     "output_type": "display_data"
    }
   ],
   "source": [
    "plt.figure(figsize=(8, 6))\n",
    "plt.hist(y_train, label='Train set')\n",
    "plt.hist(y_test, label='Test set')\n",
    "plt.legend()\n",
    "plt.xlabel('Target reading')\n",
    "plt.ylabel('Count')\n",
    "plt.savefig('train vs test.png', bbox_inches = 'tight')\n",
    "plt.show()"
   ]
  },
  {
   "cell_type": "code",
   "execution_count": null,
   "metadata": {},
   "outputs": [],
   "source": []
  },
  {
   "cell_type": "markdown",
   "metadata": {},
   "source": [
    "## Savgol filter"
   ]
  },
  {
   "cell_type": "markdown",
   "metadata": {},
   "source": [
    "https://en.wikipedia.org/wiki/Savitzky%E2%80%93Golay_filter"
   ]
  },
  {
   "cell_type": "code",
   "execution_count": 10,
   "metadata": {},
   "outputs": [
    {
     "data": {
      "text/plain": [
       "(395, 291)"
      ]
     },
     "execution_count": 10,
     "metadata": {},
     "output_type": "execute_result"
    }
   ],
   "source": [
    "from scipy.signal import savgol_filter\n",
    "\n",
    "class Savgol(BaseEstimator, TransformerMixin):\n",
    "    \"\"\"Apply a lambda feature\"\"\"\n",
    "    def __init__(self, window_length=5, polyorder=2, deriv=0, wavemin=950, wavemax=1530):# \n",
    "        self.window_length = window_length\n",
    "        self.polyorder = polyorder\n",
    "        self.deriv = deriv\n",
    "        self.wavemin = wavemin\n",
    "        self.wavemax = wavemax\n",
    "    \n",
    "    def fit(self, X, y=None):\n",
    "        return self\n",
    "    \n",
    "    def transform(self, X, y=None):\n",
    "        colnames = [str(x) for x in range(self.wavemin, self.wavemax+1,2)]\n",
    "        df = X[colnames].copy(deep=True)\n",
    "        toreturn = df.apply(savgol_filter, args=(self.window_length, self.polyorder, self.deriv,1. , 0, 'nearest'), axis=1, raw=True, result_type='broadcast')\n",
    "        return toreturn\n",
    "\n",
    "params={'window_length':27, 'polyorder':2, 'deriv':2}\n",
    "savgol = Savgol(**params)\n",
    "Xtr = savgol.fit_transform(X_train)\n",
    "Xtr.shape"
   ]
  },
  {
   "cell_type": "code",
   "execution_count": 11,
   "metadata": {},
   "outputs": [
    {
     "data": {
      "image/png": "[encoded data removed]",
      "text/plain": [
       "<Figure size 864x576 with 1 Axes>"
      ]
     },
     "metadata": {},
     "output_type": "display_data"
    }
   ],
   "source": [
    "df = savgol.transform(X_train)\n",
    "df.head(50).T.plot(legend=None, figsize=(12,8))\n",
    "#plt.title('Spectras - 1rst derivative')\n",
    "plt.xlabel('Wave Length') #,fontname=\"Times New Roman\", fontsize=18\n",
    "plt.ylabel('2nd derivative')\n",
    "#plt.yticks(fontname=\"Times New Roman\", fontsize=18)\n",
    "#plt.xticks(fontname=\"Times New Roman\", fontsize=18)\n",
    "\n",
    "plt.xticks(np.arange(len(df.columns)), [v if (int(v) % 100 == 0) or k==0 or k==len(df.columns)-1 else '' for (k,v) in enumerate(df.columns)], rotation=90)\n",
    "plt.savefig('genera - raw Spectras - 2nd derivative.png')\n",
    "plt.show()"
   ]
  },
  {
   "cell_type": "markdown",
   "metadata": {},
   "source": [
    "## Log(1/(p+n))"
   ]
  },
  {
   "cell_type": "code",
   "execution_count": 12,
   "metadata": {},
   "outputs": [
    {
     "data": {
      "text/plain": [
       "(395, 293)"
      ]
     },
     "execution_count": 12,
     "metadata": {},
     "output_type": "execute_result"
    }
   ],
   "source": [
    "class Log1overN(BaseEstimator, TransformerMixin):\n",
    "    def __init__(self, n=1):# \n",
    "        self.n = n\n",
    "    \n",
    "    def fit(self, X, y=None):\n",
    "        return self\n",
    "    \n",
    "    def transform(self, X, y=None):\n",
    "        df = X.copy(deep=True)\n",
    "        toreturn = df.apply(lambda x:np.log(1/(x+self.n)), axis=0)\n",
    "        return toreturn\n",
    "\n",
    "log1over = Log1overN(n=3)\n",
    "log1over.fit_transform(X_train).shape"
   ]
  },
  {
   "cell_type": "markdown",
   "metadata": {},
   "source": [
    "## SNV"
   ]
  },
  {
   "cell_type": "code",
   "execution_count": 13,
   "metadata": {},
   "outputs": [
    {
     "data": {
      "text/plain": [
       "(395, 293)"
      ]
     },
     "execution_count": 13,
     "metadata": {},
     "output_type": "execute_result"
    }
   ],
   "source": [
    "class Snv(BaseEstimator, TransformerMixin):\n",
    "    def __init__(self,):# \n",
    "        pass\n",
    "    \n",
    "    def fit(self, X, y=None):\n",
    "        return self\n",
    "    \n",
    "    def transform(self, X, y=None):\n",
    "        data_snv = np.zeros_like(X.values)\n",
    "        for i in range(X.shape[0]):\n",
    "            # Apply correction\n",
    "            data_snv[i,:] = (X.values[i,:] - np.mean(X.values[i,:])) / np.std(X.values[i,:])\n",
    "        return pd.DataFrame(data_snv, columns=X.columns, index=X.index)\n",
    "\n",
    "snv = Snv()\n",
    "snv.fit_transform(X_train).shape"
   ]
  },
  {
   "cell_type": "markdown",
   "metadata": {},
   "source": [
    "## Blocs creation"
   ]
  },
  {
   "cell_type": "code",
   "execution_count": 14,
   "metadata": {},
   "outputs": [],
   "source": [
    "params={'window_length':13, 'polyorder':3, 'deriv':2}\n",
    "savgol = Savgol(**params)"
   ]
  },
  {
   "cell_type": "code",
   "execution_count": 15,
   "metadata": {},
   "outputs": [],
   "source": [
    "snv = Snv()"
   ]
  },
  {
   "cell_type": "code",
   "execution_count": 16,
   "metadata": {},
   "outputs": [],
   "source": [
    "log1over = Log1overN(n=3)"
   ]
  },
  {
   "cell_type": "code",
   "execution_count": 17,
   "metadata": {},
   "outputs": [],
   "source": [
    "from sklearn.preprocessing import StandardScaler\n",
    "scaler = StandardScaler()"
   ]
  },
  {
   "cell_type": "code",
   "execution_count": 18,
   "metadata": {},
   "outputs": [],
   "source": [
    "from sklearn.decomposition import PCA\n",
    "pca = PCA()"
   ]
  },
  {
   "cell_type": "markdown",
   "metadata": {},
   "source": [
    "# Tree construction"
   ]
  },
  {
   "cell_type": "code",
   "execution_count": 19,
   "metadata": {},
   "outputs": [],
   "source": [
    "lrpipelist1 = [#\n",
    "               ('snv', snv),\n",
    "               ('savgol', savgol),\n",
    "               ('log1over', log1over),\n",
    "               ('scaler', scaler),\n",
    "               ('pca', pca),\n",
    "                ] #\n",
    "pipe1 = Pipeline(lrpipelist1)\n",
    "#Xtrans = pipe1.fit_transform(spectra)#.shape"
   ]
  },
  {
   "cell_type": "code",
   "execution_count": 20,
   "metadata": {},
   "outputs": [
    {
     "data": {
      "text/plain": [
       "(395, 291)"
      ]
     },
     "execution_count": 20,
     "metadata": {},
     "output_type": "execute_result"
    }
   ],
   "source": [
    "pipe1.fit_transform(X_train).shape"
   ]
  },
  {
   "cell_type": "code",
   "execution_count": 21,
   "metadata": {},
   "outputs": [],
   "source": [
    "from sklearn.linear_model import ElasticNet\n",
    "elnet = ElasticNet(random_state=0, max_iter=10000)"
   ]
  },
  {
   "cell_type": "code",
   "execution_count": 22,
   "metadata": {},
   "outputs": [],
   "source": [
    "listpipereg = [('pipe1', pipe1), ('elnet', elnet)] #\n",
    "pipereg = Pipeline(listpipereg)"
   ]
  },
  {
   "cell_type": "code",
   "execution_count": 23,
   "metadata": {},
   "outputs": [
    {
     "data": {
      "text/plain": [
       "Pipeline(memory=None,\n",
       "     steps=[('pipe1', Pipeline(memory=None,\n",
       "     steps=[('snv', Snv()), ('savgol', Savgol(deriv=2, polyorder=3, wavemax=1530, wavemin=950, window_length=13)), ('log1over', Log1overN(n=3)), ('scaler', StandardScaler(copy=True, with_mean=True, with_std=True)), ('pca', PCA(copy=True, iterated_power='auto', ...e=False, precompute=False,\n",
       "      random_state=0, selection='cyclic', tol=0.0001, warm_start=False))])"
      ]
     },
     "execution_count": 23,
     "metadata": {},
     "output_type": "execute_result"
    }
   ],
   "source": [
    "pipereg.fit(X_train, y_train)"
   ]
  },
  {
   "cell_type": "code",
   "execution_count": null,
   "metadata": {},
   "outputs": [],
   "source": []
  },
  {
   "cell_type": "markdown",
   "metadata": {},
   "source": [
    "## Component Selection - Elastic net"
   ]
  },
  {
   "cell_type": "code",
   "execution_count": 24,
   "metadata": {},
   "outputs": [],
   "source": [
    "rmsecv = []\n",
    "components = [2,5,]\n",
    "components.extend(np.arange(10,50+1,5))\n",
    "alpha_opt = []\n",
    "l1_ratio_opt = []\n",
    "\n",
    "for component in components:\n",
    "    pipe1.set_params(pca__n_components=component)\n",
    "    Xtrans = pipe1.fit_transform(X_train)\n",
    "    \n",
    "    elnet = ElasticNet(random_state=0)\n",
    "    \n",
    "    alpha_range = np.logspace(-3, 0, 11)\n",
    "    l1_ratio_range = np.linspace(0.0001, 1, 11)\n",
    "    param_grid = dict(alpha=alpha_range, l1_ratio=l1_ratio_range)\n",
    "    \n",
    "    gridpca = GridSearchCV(elnet, param_grid=param_grid, cv=kf, n_jobs=-2, scoring='neg_mean_squared_error')\n",
    "    gridpca.fit(Xtrans, y_train)\n",
    "    \n",
    "    alpha_opt.append(gridpca.best_params_['alpha'])\n",
    "    l1_ratio_opt.append(gridpca.best_params_['l1_ratio'])\n",
    "    \n",
    "    elnet = ElasticNet(random_state=0, **gridpca.best_params_)\n",
    "    \n",
    "    \n",
    "    #preds = cross_val_predict(elnet, Xtrans, y_train, cv=kf, n_jobs=-2)\n",
    "    preds = gridpca.predict(pipe1.transform(X_test))\n",
    "    score = mean_squared_error(y_test , preds)\n",
    "    \n",
    "    rmsecv.append(score)"
   ]
  },
  {
   "cell_type": "code",
   "execution_count": 25,
   "metadata": {},
   "outputs": [
    {
     "data": {
      "image/png": "[encoded data removed]",
      "text/plain": [
       "<Figure size 1728x576 with 2 Axes>"
      ]
     },
     "metadata": {},
     "output_type": "display_data"
    }
   ],
   "source": [
    "fig, ax1 = plt.subplots(figsize=(24, 8))\n",
    "\n",
    "color = 'tab:red'\n",
    "ax1.set_ylabel('RMSE', color=color)\n",
    "ax1.tick_params(axis='y', labelcolor=color)\n",
    "err=ax1.plot(components, np.array(rmsecv)**.5, '-', linewidth=2, label='RMSE', color='red')\n",
    "\n",
    "color = 'tab:green'\n",
    "ax2 = ax1.twinx()\n",
    "grad=ax2.plot(components, np.gradient(rmsecv), '-', linewidth=2, label='Gradient', color='green')\n",
    "ax2.set_ylabel('Gradient', color=color)\n",
    "ax2.tick_params(axis='y', labelcolor=color)\n",
    "\n",
    "# added these three lines\n",
    "lns = err+grad\n",
    "labs = [l.get_label() for l in lns]\n",
    "ax1.legend(lns, labs, loc=5)\n",
    "\n",
    "ax1.set_xlabel('Latent variable number') #,labelpad=40\n",
    "\n",
    "steps = 10\n",
    "\n",
    "simp_alpha = []\n",
    "simp_l1 = []\n",
    "simp_comp = []\n",
    "simp_rmsecv = []\n",
    "gradient = savgol_filter(rmsecv, window_length=3, polyorder=2, deriv=1, mode='nearest')\n",
    "simp_gradient = []\n",
    "\n",
    "for index, (comp, alpha, l1, rm, gr) in enumerate(zip(components, alpha_opt, l1_ratio_opt, rmsecv, gradient)):    \n",
    "    if (comp)%steps == 0:\n",
    "        simp_alpha.append('{:.2e}'.format(alpha))\n",
    "        simp_l1.append('{:.2f}'.format(l1))\n",
    "        simp_comp.append('{}'.format(int(comp)))\n",
    "        simp_rmsecv.append('{:.3f}'.format(np.sqrt(rm)))\n",
    "        simp_gradient.append('{:.3f}'.format(gr))\n",
    "\n",
    "\n",
    "the_table = plt.table(cellText=[simp_rmsecv, simp_gradient, simp_alpha,simp_l1], rowLabels=['RMSECV', 'Gradient Err.', 'Alpha', 'L1 ratio'],\n",
    "                      colLabels=simp_comp,\n",
    "                      colLoc='center',\n",
    "                      loc='bottom',\n",
    "                      cellLoc='center',\n",
    "                      bbox=[0, -.4, 1, 0.275])\n",
    "\n",
    "the_table.auto_set_font_size(True)\n",
    "the_table.set_fontsize(12)\n",
    "\n",
    "#plt.xticks(components, components)\n",
    "plt.grid(axis='x', which='both')\n",
    "plt.savefig('Elastic Net - components - RMSECV.png', bbox_inches='tight')\n",
    "plt.show()"
   ]
  },
  {
   "cell_type": "code",
   "execution_count": null,
   "metadata": {},
   "outputs": [],
   "source": []
  },
  {
   "cell_type": "markdown",
   "metadata": {},
   "source": [
    "### HyperOpt"
   ]
  },
  {
   "cell_type": "code",
   "execution_count": 26,
   "metadata": {},
   "outputs": [
    {
     "data": {
      "text/plain": [
       "dict_keys(['memory', 'steps', 'snv', 'savgol', 'log1over', 'scaler', 'pca', 'savgol__deriv', 'savgol__polyorder', 'savgol__wavemax', 'savgol__wavemin', 'savgol__window_length', 'log1over__n', 'scaler__copy', 'scaler__with_mean', 'scaler__with_std', 'pca__copy', 'pca__iterated_power', 'pca__n_components', 'pca__random_state', 'pca__svd_solver', 'pca__tol', 'pca__whiten'])"
      ]
     },
     "execution_count": 26,
     "metadata": {},
     "output_type": "execute_result"
    }
   ],
   "source": [
    "pipe1.get_params().keys()"
   ]
  },
  {
   "cell_type": "code",
   "execution_count": 27,
   "metadata": {},
   "outputs": [],
   "source": [
    "from hyperopt import hp, tpe\n",
    "from hyperopt.fmin import fmin"
   ]
  },
  {
   "cell_type": "code",
   "execution_count": 28,
   "metadata": {},
   "outputs": [],
   "source": [
    "from sklearn.metrics import r2_score"
   ]
  },
  {
   "cell_type": "code",
   "execution_count": null,
   "metadata": {},
   "outputs": [
    {
     "name": "stdout",
     "output_type": "stream",
     "text": [
      "[True, True, True, True, True]\n",
      "\n",
      "1 - MSECV 50.062253246598225 - {'alpha': 0.22169751090225487, 'l1_ratio': 0.8679598482238263, 'savgol__deriv': 0.0, 'savgol__polyorder': 2.0, 'savgol__wavemax': 1510.0, 'savgol__wavemin': 996.0, 'savgol__window_length': 8.0}\n",
      "3 - MSECV 36.70336620023357 - {'alpha': 0.8876795345827618, 'l1_ratio': 0.6302035389076692, 'savgol__deriv': 1.0, 'savgol__polyorder': 2.0, 'savgol__wavemax': 1402.0, 'savgol__wavemin': 1072.0, 'savgol__window_length': 10.0}\n",
      "6 - MSECV 33.84646601138077 - {'alpha': 0.3640804468583755, 'l1_ratio': 0.5040252634207241, 'savgol__deriv': 1.0, 'savgol__polyorder': 2.0, 'savgol__wavemax': 1322.0, 'savgol__wavemin': 1022.0, 'savgol__window_length': 6.0}\n",
      "8 - MSECV 29.159922690202873 - {'alpha': 0.09190280396388727, 'l1_ratio': 0.5965821587130862, 'savgol__deriv': 2.0, 'savgol__polyorder': 2.0, 'savgol__wavemax': 1464.0, 'savgol__wavemin': 1132.0, 'savgol__window_length': 8.0}\n",
      "15 - MSECV 28.8660627773882 - {'alpha': 0.05819863263160821, 'l1_ratio': 0.7306624614375742, 'savgol__deriv': 2.0, 'savgol__polyorder': 3.0, 'savgol__wavemax': 1436.0, 'savgol__wavemin': 950.0, 'savgol__window_length': 8.0}\n",
      "20 - MSECV 27.569948229148395 - {'alpha': 0.15590279071059043, 'l1_ratio': 0.7390428129823469, 'savgol__deriv': 1.0, 'savgol__polyorder': 2.0, 'savgol__wavemax': 1496.0, 'savgol__wavemin': 1112.0, 'savgol__window_length': 12.0}\n",
      "23 - MSECV 26.925442688517315 - {'alpha': 0.050641623124890595, 'l1_ratio': 0.8022085913339794, 'savgol__deriv': 1.0, 'savgol__polyorder': 2.0, 'savgol__wavemax': 1504.0, 'savgol__wavemin': 1112.0, 'savgol__window_length': 12.0}\n",
      "25 - MSECV 26.05451118803243 - {'alpha': 0.08014185080510693, 'l1_ratio': 0.9928301833880349, 'savgol__deriv': 1.0, 'savgol__polyorder': 2.0, 'savgol__wavemax': 1520.0, 'savgol__wavemin': 1110.0, 'savgol__window_length': 14.0}\n",
      "50 - MSECV 28.526572715729614\n",
      "74 - MSECV 25.80129298004761 - {'alpha': 0.051964014031160785, 'l1_ratio': 0.7752917098010824, 'savgol__deriv': 1.0, 'savgol__polyorder': 2.0, 'savgol__wavemax': 1474.0, 'savgol__wavemin': 1130.0, 'savgol__window_length': 8.0}\n",
      "77 - MSECV 25.5789265086203 - {'alpha': 0.04987562417352273, 'l1_ratio': 0.8436411249906645, 'savgol__deriv': 1.0, 'savgol__polyorder': 2.0, 'savgol__wavemax': 1472.0, 'savgol__wavemin': 1134.0, 'savgol__window_length': 8.0}\n",
      "100 - MSECV 30.58742180115849\n",
      "104 - MSECV 24.973076717756157 - {'alpha': 0.05692428666225244, 'l1_ratio': 0.8860917043044515, 'savgol__deriv': 1.0, 'savgol__polyorder': 3.0, 'savgol__wavemax': 1452.0, 'savgol__wavemin': 1106.0, 'savgol__window_length': 22.0}\n",
      "146 - MSECV 24.838184785457116 - {'alpha': 0.05532698444940957, 'l1_ratio': 0.84426335186859, 'savgol__deriv': 1.0, 'savgol__polyorder': 3.0, 'savgol__wavemax': 1464.0, 'savgol__wavemin': 1088.0, 'savgol__window_length': 20.0}\n",
      "150 - MSECV 24.58881950124724\n",
      "150 - MSECV 24.58881950124724 - {'alpha': 0.06176786608821207, 'l1_ratio': 0.9143079978438319, 'savgol__deriv': 1.0, 'savgol__polyorder': 3.0, 'savgol__wavemax': 1454.0, 'savgol__wavemin': 1092.0, 'savgol__window_length': 22.0}\n",
      "151 - MSECV 23.569862065165154 - {'alpha': 0.07985773212709366, 'l1_ratio': 0.9938437136956981, 'savgol__deriv': 1.0, 'savgol__polyorder': 3.0, 'savgol__wavemax': 1434.0, 'savgol__wavemin': 1090.0, 'savgol__window_length': 22.0}\n",
      "200 - MSECV 28.068375225163937\n",
      "250 - MSECV 30.22749111643518\n",
      "300 - MSECV 28.856730577409618\n",
      "350 - MSECV 27.287434272456256\n"
     ]
    }
   ],
   "source": [
    "counter = 0\n",
    "bestscore = 1e20\n",
    "\n",
    "#pipe1.set_params(savgol__window_length=9)\n",
    "#Xtrans = pipe1.fit_transform(spectra)\n",
    "\n",
    "trainscore = False\n",
    "\n",
    "def objective(params):\n",
    "    #print(params)\n",
    "    global counter\n",
    "    global bestscore\n",
    "    counter += 1\n",
    "    \n",
    "    hyperparams = {\n",
    "        'alpha': params['alpha'],\n",
    "        'l1_ratio': params['l1_ratio'],\n",
    "        'random_state': 0,\n",
    "        }\n",
    "    \n",
    "    lrpipelist1 = []\n",
    "    if pipeoption[0] == True:\n",
    "        lrpipelist1.append(('snv', snv))\n",
    "    if pipeoption[1] == True:\n",
    "        lrpipelist1.append(('savgol', savgol))\n",
    "    if pipeoption[2] == True:\n",
    "        lrpipelist1.append(('log1over', log1over))\n",
    "    if pipeoption[3] == True:\n",
    "        lrpipelist1.append(('scaler', scaler))\n",
    "    if pipeoption[4] == True:\n",
    "        lrpipelist1.append(('pca', pca))\n",
    "\n",
    "    pipe1 = Pipeline(lrpipelist1)\n",
    "    \n",
    "    #pipe1.set_params(pca__n_components=int(params['pca__n_components']))\n",
    "    pipe1.set_params(pca__n_components=int(15))\n",
    "    pipe1.set_params(savgol__window_length=int(params['savgol__window_length'])+1)\n",
    "    pipe1.set_params(savgol__deriv=int(params['savgol__deriv']))\n",
    "    pipe1.set_params(savgol__wavemin=int(params['savgol__wavemin']))\n",
    "    pipe1.set_params(savgol__wavemax=int(params['savgol__wavemax']))\n",
    "    pipe1.set_params(savgol__polyorder=int(params['savgol__polyorder']))\n",
    "    \n",
    "    Xtrans = pipe1.fit_transform(X_train)\n",
    "    \n",
    "    elnet = ElasticNet(**hyperparams)\n",
    "    \n",
    "    if trainscore:\n",
    "        preds = cross_val_predict(elnet, Xtrans, y_train, cv=kf, n_jobs=-2)\n",
    "        score = mean_squared_error(y_train , preds)\n",
    "    else:\n",
    "        Xtranstest = pipe1.transform(X_test)\n",
    "        elnet.fit(Xtrans, y_train)\n",
    "        preds = elnet.predict(Xtranstest)\n",
    "        score = mean_squared_error(y_test , preds)\n",
    "    \n",
    "    \n",
    "    #score = -r2_score(spectra['target'] , preds)\n",
    "    \n",
    "    #score = -cross_val_score(regpip, X, y, scoring='neg_mean_squared_error', cv=kf, n_jobs=-2).mean()\n",
    "    if counter % 50 == 0:\n",
    "        print(\"{} - MSECV {}\".format(counter, score))\n",
    "        #print(params)\n",
    "    if score < bestscore:\n",
    "        bestscore = score\n",
    "        print(\"{} - MSECV {} - {}\".format(counter, score, params))\n",
    "    \n",
    "    return score\n",
    "\n",
    "pipeoptions = [[True, True, True, True, True], #SNV - SAVFOL - LOG1p - SCALER - PCA\n",
    "                [True, True, False, True, True], # No log1p\n",
    "                [False, True, True, True, True],  #No SNV\n",
    "                [False, True, False, True, True], #No SNV or log1p\n",
    "                ]\n",
    "\n",
    "space = {\n",
    "    'alpha': hp.loguniform('alpha', -3, 0),\n",
    "    'l1_ratio': hp.uniform('l1_ratio', 0.5, 1),\n",
    "    #'pca__n_components': hp.quniform('pca__n_components',5, 15, 1),\n",
    "    'savgol__window_length': hp.quniform('savgol__window_length', 3, 23, 2),\n",
    "    'savgol__deriv':hp.quniform('savgol__deriv', 0, 2, 1),\n",
    "    'savgol__wavemin': hp.quniform('savgol__wavemin', 950, 1200, 2),\n",
    "    'savgol__wavemax': hp.quniform('savgol__wavemax', 1300, 1530, 2),\n",
    "    'savgol__polyorder':hp.quniform('savgol__polyorder', 2, 3, 1),\n",
    "}\n",
    "\n",
    "bestscores = []\n",
    "\n",
    "for pipeoption in pipeoptions:\n",
    "    print(pipeoption)\n",
    "    print()\n",
    "    counter = 0\n",
    "    bestscore = 1e20\n",
    "    best = fmin(fn=objective,\n",
    "                space=space,\n",
    "                algo=tpe.suggest,\n",
    "                max_evals=500)\n",
    "    print()\n",
    "    bestscores.append((pipeoption, bestscore, best))"
   ]
  },
  {
   "cell_type": "code",
   "execution_count": null,
   "metadata": {},
   "outputs": [],
   "source": [
    "bestscores"
   ]
  },
  {
   "cell_type": "code",
   "execution_count": null,
   "metadata": {},
   "outputs": [],
   "source": [
    "bestindex = np.argmin([x[1] for x in bestscores])"
   ]
  },
  {
   "cell_type": "code",
   "execution_count": null,
   "metadata": {},
   "outputs": [],
   "source": [
    "lrpipelist1 = []\n",
    "\n",
    "sequence = bestscores[bestindex][0]\n",
    "\n",
    "if sequence[0] == True:\n",
    "    lrpipelist1.append(('snv', snv))\n",
    "if sequence[1] == True:\n",
    "    lrpipelist1.append(('savgol', savgol))\n",
    "if sequence[2] == True:\n",
    "    lrpipelist1.append(('log1over', log1over))\n",
    "if sequence[3] == True:\n",
    "    lrpipelist1.append(('scaler', scaler))\n",
    "if sequence[4] == True:\n",
    "    lrpipelist1.append(('pca', pca))\n",
    "\n",
    "pipe1 = Pipeline(lrpipelist1)\n",
    "pipe1"
   ]
  },
  {
   "cell_type": "code",
   "execution_count": null,
   "metadata": {},
   "outputs": [],
   "source": [
    "params = {\n",
    "        'alpha': bestscores[bestindex][2]['alpha'],\n",
    "        'l1_ratio': bestscores[bestindex][2]['l1_ratio'],\n",
    "        'random_state': 0,\n",
    "        }\n",
    "\n",
    "elnet = ElasticNet(**params)\n",
    "\n",
    "params"
   ]
  },
  {
   "cell_type": "code",
   "execution_count": null,
   "metadata": {},
   "outputs": [],
   "source": [
    "#pipe1.set_params(pca__n_components=int(best['pca__n_components']))\n",
    "pipe1.set_params(pca__n_components=int(15))\n",
    "pipe1.set_params(savgol__window_length=int(bestscores[bestindex][2]['savgol__window_length'])+1)\n",
    "pipe1.set_params(savgol__deriv=int(bestscores[bestindex][2]['savgol__deriv']))\n",
    "pipe1.set_params(savgol__wavemin=int(bestscores[bestindex][2]['savgol__wavemin']))\n",
    "pipe1.set_params(savgol__wavemax=int(bestscores[bestindex][2]['savgol__wavemax']))\n",
    "pipe1.set_params(savgol__polyorder=int(bestscores[bestindex][2]['savgol__polyorder']))\n",
    "pipe1.fit(X_train)\n",
    "Xtrans = pipe1.transform(X_train)"
   ]
  },
  {
   "cell_type": "code",
   "execution_count": null,
   "metadata": {},
   "outputs": [],
   "source": [
    "\n",
    "preds = cross_val_predict(elnet, Xtrans, y_train, cv=kf)\n",
    "mean_squared_error(y_train, preds)"
   ]
  },
  {
   "cell_type": "code",
   "execution_count": null,
   "metadata": {},
   "outputs": [],
   "source": [
    "mean_squared_error(y_train, preds)**.5"
   ]
  },
  {
   "cell_type": "code",
   "execution_count": null,
   "metadata": {},
   "outputs": [],
   "source": [
    "elnet.fit(Xtrans, y_train)\n",
    "Xtranstest = pipe1.transform(X_test)\n",
    "mean_squared_error(y_test, elnet.predict(Xtranstest))**.5"
   ]
  },
  {
   "cell_type": "markdown",
   "metadata": {},
   "source": [
    "# PCA visualisation"
   ]
  },
  {
   "cell_type": "code",
   "execution_count": null,
   "metadata": {},
   "outputs": [],
   "source": [
    "\n",
    "Xtrans = pipe1.fit_transform(X_train)\n",
    "Xtrans.shape"
   ]
  },
  {
   "cell_type": "code",
   "execution_count": null,
   "metadata": {},
   "outputs": [],
   "source": [
    "exp_variance_ratio_ = pipe1.named_steps['pca'].explained_variance_ratio_\n",
    "cumsum=np.cumsum(exp_variance_ratio_)\n",
    "\n",
    "plt.plot(range(cumsum.shape[0]), cumsum)\n",
    "# Axis\n",
    "#plt.plot([-40, 40], [0, 0], color='black', ls='--')\n",
    "#plt.plot([0, 0], [-14, 14], color='black', ls='--')\n",
    "# Title\n",
    "#plt.title('Cumulative sum - explained variance ratio')\n",
    "plt.xlabel('Latent variable number')\n",
    "plt.ylabel('Explained variance ratio (%)')\n",
    "plt.savefig('elnet - pca latent variable.png', bbox_inches = 'tight')\n",
    "plt.show()"
   ]
  },
  {
   "cell_type": "code",
   "execution_count": null,
   "metadata": {},
   "outputs": [],
   "source": [
    "cumsum"
   ]
  },
  {
   "cell_type": "markdown",
   "metadata": {},
   "source": [
    "## Truncated spectras"
   ]
  },
  {
   "cell_type": "code",
   "execution_count": null,
   "metadata": {},
   "outputs": [],
   "source": [
    "colnames = [str(x) for x in range(int(best['savgol__wavemin']), int(best['savgol__wavemax'])+1,2)]\n",
    "df = spectra[colnames].T\n",
    "df.plot(legend=False, figsize=(10,8))\n",
    "#plt.title('Spectras')\n",
    "plt.xlabel('Wavelength (nm)')\n",
    "plt.ylabel('Reflectance (%)')\n",
    "plt.xticks(np.arange(len(colnames)), [v if (int(v) % 100 == 0) or k==0 or k==len(colnames)-1 else '' for (k,v) in enumerate(colnames)], rotation=90)\n",
    "plt.savefig('elnet - Spectras - Elasticnet cleaning.png', bbox_inches = 'tight')\n",
    "plt.show()"
   ]
  },
  {
   "cell_type": "code",
   "execution_count": null,
   "metadata": {},
   "outputs": [],
   "source": [
    "params={'window_length':int(best['savgol__window_length'])+1,\n",
    "        'polyorder':int(best['savgol__polyorder']),\n",
    "        'deriv':int(best['savgol__deriv']),\n",
    "        'wavemin':int(best['savgol__wavemin']),\n",
    "        'wavemax':int(best['savgol__wavemax'])}\n",
    "savgol = Savgol(**params)\n",
    "\n",
    "#colnames = [str(x) for x in range(int(best['savgol__wavemin']), int(best['savgol__wavemax'])+1,2)]\n",
    "df = savgol.fit_transform(spectra).T\n",
    "df.plot(legend=False, figsize=(10,8))\n",
    "plt.xlabel('Wavelength (nm)')\n",
    "plt.ylabel('Reflectance (%) - {}nd derivative'.format(int(best['savgol__deriv'])))\n",
    "plt.xticks(np.arange(len(colnames)), [v if (int(v) % 100 == 0) or k==0 or k==len(colnames)-1 else '' for (k,v) in enumerate(colnames)], rotation=90)\n",
    "plt.savefig('elnet - Spectras-savgol - Elasticnet cleaning 2nd derivative.png', bbox_inches = 'tight')\n",
    "plt.show()"
   ]
  },
  {
   "cell_type": "code",
   "execution_count": null,
   "metadata": {},
   "outputs": [],
   "source": []
  },
  {
   "cell_type": "code",
   "execution_count": null,
   "metadata": {},
   "outputs": [],
   "source": [
    "preds = cross_val_predict(elnet, Xtrans, y_train, cv=kf)\n",
    "mean_squared_error(y_train, preds, )"
   ]
  },
  {
   "cell_type": "markdown",
   "metadata": {},
   "source": [
    "# hyper parameters Sensitivity - RMSECV"
   ]
  },
  {
   "cell_type": "code",
   "execution_count": null,
   "metadata": {},
   "outputs": [],
   "source": [
    "alpha_range = np.logspace(-3, 0, 11)\n",
    "l1_ratio_range = np.linspace(0.0001, 1, 11)\n",
    "param_grid = dict(alpha=alpha_range, l1_ratio=l1_ratio_range)\n",
    "\n",
    "elnet = ElasticNet(random_state=0, max_iter=10000)\n",
    "\n",
    "gridrmse = GridSearchCV(elnet, param_grid=param_grid, cv=kf, n_jobs=-2, scoring='neg_mean_squared_error') #'neg_mean_squared_error'\n",
    "gridrmse.fit(Xtrans, y_train)\n"
   ]
  },
  {
   "cell_type": "code",
   "execution_count": null,
   "metadata": {},
   "outputs": [],
   "source": [
    "gridrmse.best_params_"
   ]
  },
  {
   "cell_type": "code",
   "execution_count": null,
   "metadata": {},
   "outputs": [],
   "source": [
    "gridrmse.best_score_"
   ]
  },
  {
   "cell_type": "code",
   "execution_count": null,
   "metadata": {},
   "outputs": [],
   "source": [
    "scores = gridrmse.cv_results_['mean_test_score'].reshape(len(l1_ratio_range),len(alpha_range))"
   ]
  },
  {
   "cell_type": "code",
   "execution_count": null,
   "metadata": {},
   "outputs": [],
   "source": [
    "# heat map\n",
    "plt.figure(figsize=(8, 6))\n",
    "plt.imshow(scores, interpolation='nearest', cmap=plt.cm.hot,)\n",
    "plt.ylabel('Alpha')\n",
    "plt.xlabel('l1 ratio')\n",
    "cb = plt.colorbar()#.set_params(fontname=\"Times New Roman\", fontsize=18)\n",
    "plt.yticks(np.arange(len(alpha_range)), ['{:.2e}'.format(x) for x in alpha_range])\n",
    "plt.xticks(np.arange(len(l1_ratio_range)), ['{:.2f}'.format(x) for x in l1_ratio_range], rotation=90)\n",
    "#plt.yticks(fontname=\"Times New Roman\", fontsize=18)\n",
    "#plt.xticks(fontname=\"Times New Roman\", fontsize=18)\n",
    "plt.savefig('elnet - elasticnet sensitivity.png', bbox_inches = 'tight')\n",
    "plt.show()"
   ]
  },
  {
   "cell_type": "code",
   "execution_count": null,
   "metadata": {},
   "outputs": [],
   "source": [
    "# RMSECV TRAIN SCORE\n",
    "elnet = ElasticNet(random_state=0, max_iter=10000, **gridrmse.best_params_)\n",
    "predsrmse = cross_val_predict(elnet, Xtrans, y_train, cv=kf)\n",
    "\n",
    "(mean_squared_error(predsrmse, y_train))**.5"
   ]
  },
  {
   "cell_type": "code",
   "execution_count": null,
   "metadata": {},
   "outputs": [],
   "source": [
    "# RMSE TEST SCORE\n",
    "\n",
    "#Fit with best parameters\n",
    "Xtranstest = pipe1.transform(X_test)\n",
    "elnet = ElasticNet(random_state=0, max_iter=10000, **gridrmse.best_params_)\n",
    "elnet.fit(Xtrans, y_train)\n",
    "\n",
    "\n",
    "# Prediction on test set\n",
    "preds_test = elnet.predict(Xtranstest)\n",
    "(mean_squared_error(preds_test, y_test))**.5"
   ]
  },
  {
   "cell_type": "markdown",
   "metadata": {},
   "source": [
    "# hyper parameters Sensitivity - R2"
   ]
  },
  {
   "cell_type": "code",
   "execution_count": null,
   "metadata": {},
   "outputs": [],
   "source": [
    "alpha_range = np.logspace(-3, 0, 11)\n",
    "l1_ratio_range = np.linspace(0.0001, 1, 11)\n",
    "param_grid = dict(alpha=alpha_range, l1_ratio=l1_ratio_range)\n",
    "\n",
    "elnet = ElasticNet(random_state=0)\n",
    "\n",
    "gridr2 = GridSearchCV(elnet, param_grid=param_grid, cv=kf, n_jobs=-2, scoring='r2') #'neg_mean_squared_error'\n",
    "gridr2.fit(Xtrans, y_train)"
   ]
  },
  {
   "cell_type": "code",
   "execution_count": null,
   "metadata": {},
   "outputs": [],
   "source": [
    "gridr2.best_params_"
   ]
  },
  {
   "cell_type": "code",
   "execution_count": null,
   "metadata": {},
   "outputs": [],
   "source": [
    "gridr2.best_score_"
   ]
  },
  {
   "cell_type": "code",
   "execution_count": null,
   "metadata": {},
   "outputs": [],
   "source": [
    "# heat map\n",
    "scores = gridr2.cv_results_['mean_test_score'].reshape(len(l1_ratio_range),len(alpha_range))\n",
    "plt.figure(figsize=(8, 6))\n",
    "plt.imshow(scores, interpolation='nearest', cmap=plt.cm.bone,)\n",
    "plt.ylabel('Alpha')\n",
    "plt.xlabel('l1 ratio')\n",
    "plt.colorbar()\n",
    "plt.yticks(np.arange(len(alpha_range)), ['{:.2e}'.format(x) for x in alpha_range])\n",
    "plt.xticks(np.arange(len(l1_ratio_range)), ['{:.2f}'.format(x) for x in l1_ratio_range], rotation=90)\n",
    "plt.savefig('elnet - elasticnet sensitivity - R2.png', bbox_inches = 'tight')\n",
    "plt.show()"
   ]
  },
  {
   "cell_type": "code",
   "execution_count": null,
   "metadata": {},
   "outputs": [],
   "source": []
  },
  {
   "cell_type": "code",
   "execution_count": null,
   "metadata": {},
   "outputs": [],
   "source": [
    "# R2 CV train set\n",
    "\n",
    "elnet = ElasticNet(random_state=0, max_iter=10000, **gridr2.best_params_)\n",
    "predsr2 = cross_val_predict(elnet, Xtrans, y_train, cv=kf)\n",
    "r2_score( y_train,predsr2 , )"
   ]
  },
  {
   "cell_type": "code",
   "execution_count": null,
   "metadata": {},
   "outputs": [],
   "source": [
    "# R2 CV test set\n",
    "\n",
    "elnet = ElasticNet(random_state=0, max_iter=10000, **gridr2.best_params_)\n",
    "#Fit with best parameters\n",
    "\n",
    "Xtranstest = pipe1.transform(X_test)\n",
    "elnet.fit(Xtrans, y_train)\n",
    "\n",
    "predsr2 = elnet.predict(Xtranstest)\n",
    "r2_score( y_test,predsr2 )"
   ]
  },
  {
   "cell_type": "code",
   "execution_count": null,
   "metadata": {},
   "outputs": [],
   "source": []
  },
  {
   "cell_type": "code",
   "execution_count": null,
   "metadata": {},
   "outputs": [],
   "source": []
  },
  {
   "cell_type": "markdown",
   "metadata": {},
   "source": [
    "## Score accuracy - Elastic Net"
   ]
  },
  {
   "cell_type": "code",
   "execution_count": null,
   "metadata": {},
   "outputs": [],
   "source": []
  },
  {
   "cell_type": "code",
   "execution_count": null,
   "metadata": {},
   "outputs": [],
   "source": [
    "# Generate test results\n",
    "\n",
    "#elnet = ElasticNet(**params)\n",
    "\n",
    "#Fit with best parameters\n",
    "Xtrans = pipe1.fit_transform(X_train)\n",
    "elnet.fit(Xtrans, y_train)\n",
    "\n",
    "\n",
    "# Prediction on test set\n",
    "Xtranstest = pipe1.transform(X_test)\n",
    "preds_test = elnet.predict(Xtranstest)\n",
    "(mean_squared_error(y_test, preds_test, ))**.5"
   ]
  },
  {
   "cell_type": "code",
   "execution_count": null,
   "metadata": {},
   "outputs": [],
   "source": [
    "df = pd.DataFrame({'target':y_test, 'pred':preds_test}) #\n",
    "df.head()"
   ]
  },
  {
   "cell_type": "code",
   "execution_count": null,
   "metadata": {},
   "outputs": [],
   "source": [
    "df['delta'] = df['target'] - df['pred']\n",
    "df['deltaabs'] = np.abs(df['delta'])\n",
    "df.head()"
   ]
  },
  {
   "cell_type": "code",
   "execution_count": null,
   "metadata": {},
   "outputs": [],
   "source": [
    "df[['delta']].describe()"
   ]
  },
  {
   "cell_type": "code",
   "execution_count": null,
   "metadata": {},
   "outputs": [],
   "source": [
    "import seaborn as sns"
   ]
  },
  {
   "cell_type": "code",
   "execution_count": null,
   "metadata": {},
   "outputs": [],
   "source": []
  },
  {
   "cell_type": "code",
   "execution_count": null,
   "metadata": {},
   "outputs": [],
   "source": [
    "from scipy import stats\n",
    "from sklearn.metrics import r2_score\n",
    "\n",
    "sns.jointplot(x='target', y='pred', data=df,  height=8, stat_func=r2_score, kind='reg')\n",
    "plt.xlabel('Actual tenderometer reading')\n",
    "plt.ylabel('Predicted tenderometer reading')\n",
    "\n",
    "plt.savefig('elnet - result regression.png', bbox_inches = 'tight')\n",
    "plt.show()"
   ]
  },
  {
   "cell_type": "code",
   "execution_count": null,
   "metadata": {},
   "outputs": [],
   "source": [
    "\n",
    "df.plot.scatter('target', 'delta')\n",
    "plt.plot([df['target'].min(), df['target'].max()], [0, 0], color='k', linestyle='--')\n",
    "#plt.title('Delta error ')\n",
    "plt.xlabel('Actual tenderometer reading')\n",
    "plt.ylabel('Residual')\n",
    "\n",
    "\n",
    "\n",
    "plt.savefig('elnet - residual.png', bbox_inches = 'tight')\n",
    "plt.show()\n",
    "df[['delta']].describe()"
   ]
  },
  {
   "cell_type": "code",
   "execution_count": null,
   "metadata": {},
   "outputs": [],
   "source": [
    "elnet.alpha"
   ]
  },
  {
   "cell_type": "code",
   "execution_count": null,
   "metadata": {},
   "outputs": [],
   "source": []
  },
  {
   "cell_type": "code",
   "execution_count": null,
   "metadata": {},
   "outputs": [],
   "source": [
    "bestscores[bestindex][2]"
   ]
  },
  {
   "cell_type": "markdown",
   "metadata": {},
   "source": [
    "# Result saving"
   ]
  },
  {
   "cell_type": "code",
   "execution_count": null,
   "metadata": {},
   "outputs": [],
   "source": [
    "params = bestscores[bestindex][2]\n",
    "params = {**params, 'alpha' : elnet.alpha, 'l1_ratio' : elnet.l1_ratio}\n",
    "params = {**params, 'RMSE train':mean_squared_error(y_train, predsrmse)**.5, 'R2 train':r2_score(y_train, predsrmse)}\n",
    "params = {**params, 'RMSE test':mean_squared_error(y_test, preds_test)**.5, 'R2 test':r2_score(y_test, preds_test)}\n",
    "params"
   ]
  },
  {
   "cell_type": "code",
   "execution_count": null,
   "metadata": {},
   "outputs": [],
   "source": [
    "samplesize = df.shape[0]\n",
    "print('sample size:', samplesize)\n",
    "\n",
    "for errorabs in [1 ,2 ,3 ,4 ,6 ,8, 10]:\n",
    "    correctcount = df[df['deltaabs'] < errorabs].shape[0]\n",
    "    percent = correctcount/samplesize\n",
    "    print('prediction +/- {:.1f} : percent {:05.02f} %'.format(errorabs, percent*100))\n",
    "    params = {**params, 'preds +/-{}'.format(int(errorabs)):percent}\n"
   ]
  },
  {
   "cell_type": "code",
   "execution_count": null,
   "metadata": {},
   "outputs": [],
   "source": [
    "resultset = pd.DataFrame(params, index=['elnet'])\n",
    "resultset.to_csv('../data/res_elnet.csv')\n",
    "resultset.T"
   ]
  },
  {
   "cell_type": "code",
   "execution_count": null,
   "metadata": {},
   "outputs": [],
   "source": []
  },
  {
   "cell_type": "code",
   "execution_count": null,
   "metadata": {},
   "outputs": [],
   "source": []
  }
 ],
 "metadata": {
  "kernelspec": {
   "display_name": "Python 3",
   "language": "python",
   "name": "python3"
  },
  "language_info": {
   "codemirror_mode": {
    "name": "ipython",
    "version": 3
   },
   "file_extension": ".py",
   "mimetype": "text/x-python",
   "name": "python",
   "nbconvert_exporter": "python",
   "pygments_lexer": "ipython3",
   "version": "3.6.6"
  }
 },
 "nbformat": 4,
 "nbformat_minor": 2
}
