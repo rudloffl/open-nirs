{
 "cells": [
  {
   "cell_type": "code",
   "execution_count": 1,
   "metadata": {},
   "outputs": [],
   "source": [
    "import numpy as np\n",
    "import pandas as pd\n",
    "import matplotlib.pyplot as plt"
   ]
  },
  {
   "cell_type": "code",
   "execution_count": 2,
   "metadata": {},
   "outputs": [],
   "source": [
    "# Font modification\n",
    "#plt.rcParams['font.sans-serif'] = \"Times New Roman\"\n",
    "#plt.rcParams['font.family'] = \"sans-serif\"\n",
    "plt.rcParams['font.size'] = 18\n"
   ]
  },
  {
   "cell_type": "code",
   "execution_count": 3,
   "metadata": {},
   "outputs": [],
   "source": [
    "# Use with caution\n",
    "if True:\n",
    "    import warnings\n",
    "    warnings.filterwarnings(\"ignore\")"
   ]
  },
  {
   "cell_type": "markdown",
   "metadata": {},
   "source": [
    "# Data loading and assembly"
   ]
  },
  {
   "cell_type": "code",
   "execution_count": 4,
   "metadata": {},
   "outputs": [
    {
     "name": "stdout",
     "output_type": "stream",
     "text": [
      "(591, 293)\n"
     ]
    },
    {
     "data": {
      "text/html": [
       "<div>\n",
       "<style scoped>\n",
       "    .dataframe tbody tr th:only-of-type {\n",
       "        vertical-align: middle;\n",
       "    }\n",
       "\n",
       "    .dataframe tbody tr th {\n",
       "        vertical-align: top;\n",
       "    }\n",
       "\n",
       "    .dataframe thead th {\n",
       "        text-align: right;\n",
       "    }\n",
       "</style>\n",
       "<table border=\"1\" class=\"dataframe\">\n",
       "  <thead>\n",
       "    <tr style=\"text-align: right;\">\n",
       "      <th></th>\n",
       "      <th>target</th>\n",
       "      <th>sampleID</th>\n",
       "      <th>950</th>\n",
       "      <th>952</th>\n",
       "      <th>954</th>\n",
       "      <th>956</th>\n",
       "      <th>958</th>\n",
       "      <th>960</th>\n",
       "      <th>962</th>\n",
       "      <th>964</th>\n",
       "      <th>...</th>\n",
       "      <th>1512</th>\n",
       "      <th>1514</th>\n",
       "      <th>1516</th>\n",
       "      <th>1518</th>\n",
       "      <th>1520</th>\n",
       "      <th>1522</th>\n",
       "      <th>1524</th>\n",
       "      <th>1526</th>\n",
       "      <th>1528</th>\n",
       "      <th>1530</th>\n",
       "    </tr>\n",
       "  </thead>\n",
       "  <tbody>\n",
       "    <tr>\n",
       "      <th>0</th>\n",
       "      <td>94.333333</td>\n",
       "      <td>0.0</td>\n",
       "      <td>36.723839</td>\n",
       "      <td>35.745964</td>\n",
       "      <td>34.811623</td>\n",
       "      <td>33.955212</td>\n",
       "      <td>33.197552</td>\n",
       "      <td>32.570518</td>\n",
       "      <td>32.147972</td>\n",
       "      <td>31.807793</td>\n",
       "      <td>...</td>\n",
       "      <td>0.791820</td>\n",
       "      <td>0.831189</td>\n",
       "      <td>0.883438</td>\n",
       "      <td>0.940272</td>\n",
       "      <td>0.993729</td>\n",
       "      <td>1.046867</td>\n",
       "      <td>1.098642</td>\n",
       "      <td>1.152454</td>\n",
       "      <td>1.215338</td>\n",
       "      <td>1.271571</td>\n",
       "    </tr>\n",
       "    <tr>\n",
       "      <th>1</th>\n",
       "      <td>94.333333</td>\n",
       "      <td>0.0</td>\n",
       "      <td>36.369366</td>\n",
       "      <td>35.383987</td>\n",
       "      <td>34.443897</td>\n",
       "      <td>33.584080</td>\n",
       "      <td>32.823158</td>\n",
       "      <td>32.192280</td>\n",
       "      <td>31.770844</td>\n",
       "      <td>31.431589</td>\n",
       "      <td>...</td>\n",
       "      <td>0.685869</td>\n",
       "      <td>0.728103</td>\n",
       "      <td>0.785778</td>\n",
       "      <td>0.845810</td>\n",
       "      <td>0.902551</td>\n",
       "      <td>0.961095</td>\n",
       "      <td>1.017545</td>\n",
       "      <td>1.073209</td>\n",
       "      <td>1.138063</td>\n",
       "      <td>1.196826</td>\n",
       "    </tr>\n",
       "    <tr>\n",
       "      <th>2</th>\n",
       "      <td>94.333333</td>\n",
       "      <td>0.0</td>\n",
       "      <td>35.385422</td>\n",
       "      <td>34.405182</td>\n",
       "      <td>33.466976</td>\n",
       "      <td>32.614578</td>\n",
       "      <td>31.862633</td>\n",
       "      <td>31.242191</td>\n",
       "      <td>30.828016</td>\n",
       "      <td>30.496775</td>\n",
       "      <td>...</td>\n",
       "      <td>0.618997</td>\n",
       "      <td>0.659589</td>\n",
       "      <td>0.712821</td>\n",
       "      <td>0.769303</td>\n",
       "      <td>0.822148</td>\n",
       "      <td>0.875681</td>\n",
       "      <td>0.929040</td>\n",
       "      <td>0.979519</td>\n",
       "      <td>1.040625</td>\n",
       "      <td>1.100850</td>\n",
       "    </tr>\n",
       "    <tr>\n",
       "      <th>3</th>\n",
       "      <td>94.333333</td>\n",
       "      <td>0.0</td>\n",
       "      <td>35.121685</td>\n",
       "      <td>34.145687</td>\n",
       "      <td>33.217796</td>\n",
       "      <td>32.374218</td>\n",
       "      <td>31.630789</td>\n",
       "      <td>31.019081</td>\n",
       "      <td>30.611959</td>\n",
       "      <td>30.286642</td>\n",
       "      <td>...</td>\n",
       "      <td>0.751016</td>\n",
       "      <td>0.796110</td>\n",
       "      <td>0.852175</td>\n",
       "      <td>0.909087</td>\n",
       "      <td>0.965727</td>\n",
       "      <td>1.024710</td>\n",
       "      <td>1.080235</td>\n",
       "      <td>1.133445</td>\n",
       "      <td>1.197904</td>\n",
       "      <td>1.262516</td>\n",
       "    </tr>\n",
       "    <tr>\n",
       "      <th>4</th>\n",
       "      <td>76.333333</td>\n",
       "      <td>1.0</td>\n",
       "      <td>36.185947</td>\n",
       "      <td>35.209904</td>\n",
       "      <td>34.280155</td>\n",
       "      <td>33.430157</td>\n",
       "      <td>32.679989</td>\n",
       "      <td>32.062084</td>\n",
       "      <td>31.647160</td>\n",
       "      <td>31.312046</td>\n",
       "      <td>...</td>\n",
       "      <td>1.001077</td>\n",
       "      <td>1.051815</td>\n",
       "      <td>1.112780</td>\n",
       "      <td>1.175900</td>\n",
       "      <td>1.240040</td>\n",
       "      <td>1.304035</td>\n",
       "      <td>1.365576</td>\n",
       "      <td>1.426388</td>\n",
       "      <td>1.495515</td>\n",
       "      <td>1.561842</td>\n",
       "    </tr>\n",
       "  </tbody>\n",
       "</table>\n",
       "<p>5 rows × 293 columns</p>\n",
       "</div>"
      ],
      "text/plain": [
       "      target  sampleID        950        952        954        956        958  \\\n",
       "0  94.333333       0.0  36.723839  35.745964  34.811623  33.955212  33.197552   \n",
       "1  94.333333       0.0  36.369366  35.383987  34.443897  33.584080  32.823158   \n",
       "2  94.333333       0.0  35.385422  34.405182  33.466976  32.614578  31.862633   \n",
       "3  94.333333       0.0  35.121685  34.145687  33.217796  32.374218  31.630789   \n",
       "4  76.333333       1.0  36.185947  35.209904  34.280155  33.430157  32.679989   \n",
       "\n",
       "         960        962        964    ...         1512      1514      1516  \\\n",
       "0  32.570518  32.147972  31.807793    ...     0.791820  0.831189  0.883438   \n",
       "1  32.192280  31.770844  31.431589    ...     0.685869  0.728103  0.785778   \n",
       "2  31.242191  30.828016  30.496775    ...     0.618997  0.659589  0.712821   \n",
       "3  31.019081  30.611959  30.286642    ...     0.751016  0.796110  0.852175   \n",
       "4  32.062084  31.647160  31.312046    ...     1.001077  1.051815  1.112780   \n",
       "\n",
       "       1518      1520      1522      1524      1526      1528      1530  \n",
       "0  0.940272  0.993729  1.046867  1.098642  1.152454  1.215338  1.271571  \n",
       "1  0.845810  0.902551  0.961095  1.017545  1.073209  1.138063  1.196826  \n",
       "2  0.769303  0.822148  0.875681  0.929040  0.979519  1.040625  1.100850  \n",
       "3  0.909087  0.965727  1.024710  1.080235  1.133445  1.197904  1.262516  \n",
       "4  1.175900  1.240040  1.304035  1.365576  1.426388  1.495515  1.561842  \n",
       "\n",
       "[5 rows x 293 columns]"
      ]
     },
     "execution_count": 4,
     "metadata": {},
     "output_type": "execute_result"
    }
   ],
   "source": [
    "spectra = pd.read_csv('../data/cleanedset.csv')\n",
    "columns = ['target', 'sampleID'] \n",
    "columns.extend([str(x) for x in range(950, 1530+1,2)])\n",
    "spectra = spectra[columns]\n",
    "print(spectra.shape)\n",
    "spectra.head()"
   ]
  },
  {
   "cell_type": "markdown",
   "metadata": {},
   "source": [
    "# Regression"
   ]
  },
  {
   "cell_type": "code",
   "execution_count": 5,
   "metadata": {},
   "outputs": [],
   "source": [
    "from sklearn.pipeline import Pipeline\n",
    "from sklearn.model_selection import GridSearchCV\n",
    "from sklearn.model_selection import cross_val_score\n",
    "from sklearn.model_selection import cross_val_predict\n",
    "from sklearn.metrics import mean_squared_error\n",
    "from sklearn.base import BaseEstimator, TransformerMixin\n",
    "from sklearn.pipeline import make_union"
   ]
  },
  {
   "cell_type": "markdown",
   "metadata": {},
   "source": [
    "## Folds definition"
   ]
  },
  {
   "cell_type": "code",
   "execution_count": 6,
   "metadata": {},
   "outputs": [],
   "source": [
    "from sklearn.model_selection import KFold\n",
    "kf = KFold(n_splits=5, shuffle=False, random_state=47)"
   ]
  },
  {
   "cell_type": "markdown",
   "metadata": {},
   "source": [
    "# Splits definition"
   ]
  },
  {
   "cell_type": "code",
   "execution_count": 7,
   "metadata": {},
   "outputs": [],
   "source": [
    "from sklearn.model_selection import train_test_split"
   ]
  },
  {
   "cell_type": "code",
   "execution_count": 8,
   "metadata": {},
   "outputs": [],
   "source": [
    "X_train, X_test, y_train, y_test = train_test_split(spectra, spectra['target'], test_size=0.33, random_state=53)"
   ]
  },
  {
   "cell_type": "markdown",
   "metadata": {},
   "source": [
    "## Data trimmer"
   ]
  },
  {
   "cell_type": "code",
   "execution_count": 9,
   "metadata": {},
   "outputs": [
    {
     "data": {
      "text/plain": [
       "(395, 105)"
      ]
     },
     "execution_count": 9,
     "metadata": {},
     "output_type": "execute_result"
    }
   ],
   "source": [
    "class Trimmer(BaseEstimator, TransformerMixin):\n",
    "    \"\"\"Apply a lambda feature\"\"\"\n",
    "    def __init__(self,wavemin=950, wavemax=1530):# \n",
    "        self.wavemin = wavemin\n",
    "        self.wavemax = wavemax\n",
    "    \n",
    "    def fit(self, X, y=None):\n",
    "        return self\n",
    "    \n",
    "    def transform(self, X, y=None):\n",
    "        colnames = [str(x) for x in range(self.wavemin, self.wavemax+1,2)]\n",
    "        return X[colnames]\n",
    "\n",
    "params={'wavemin':992, 'wavemax':1200,}\n",
    "trimmer = Trimmer(**params)\n",
    "Xtr = trimmer.fit_transform(X_train)\n",
    "Xtr.shape"
   ]
  },
  {
   "cell_type": "code",
   "execution_count": null,
   "metadata": {},
   "outputs": [],
   "source": []
  },
  {
   "cell_type": "markdown",
   "metadata": {},
   "source": [
    "## Savgol filter"
   ]
  },
  {
   "cell_type": "markdown",
   "metadata": {},
   "source": [
    "https://en.wikipedia.org/wiki/Savitzky%E2%80%93Golay_filter"
   ]
  },
  {
   "cell_type": "code",
   "execution_count": 10,
   "metadata": {},
   "outputs": [
    {
     "data": {
      "text/plain": [
       "(395, 293)"
      ]
     },
     "execution_count": 10,
     "metadata": {},
     "output_type": "execute_result"
    }
   ],
   "source": [
    "from scipy.signal import savgol_filter\n",
    "\n",
    "class Savgol(BaseEstimator, TransformerMixin):\n",
    "    \"\"\"Apply a lambda feature\"\"\"\n",
    "    def __init__(self, window_length=5, polyorder=2, deriv=0):# \n",
    "        self.window_length = window_length\n",
    "        self.polyorder = polyorder\n",
    "        self.deriv = deriv\n",
    "    \n",
    "    def fit(self, X, y=None):\n",
    "        return self\n",
    "    \n",
    "    def transform(self, X, y=None):\n",
    "        df = X.copy(deep=True)\n",
    "        toreturn = df.apply(savgol_filter, args=(self.window_length, self.polyorder, self.deriv,1. , 0, 'nearest'), axis=1, raw=True, result_type='broadcast')\n",
    "        return toreturn\n",
    "\n",
    "params={'window_length':27, 'polyorder':2, 'deriv':2}\n",
    "savgol = Savgol(**params)\n",
    "Xtr = savgol.fit_transform(X_train)\n",
    "Xtr.shape"
   ]
  },
  {
   "cell_type": "code",
   "execution_count": 11,
   "metadata": {},
   "outputs": [
    {
     "data": {
      "image/png": "[encoded data removed]",
      "text/plain": [
       "<Figure size 1080x720 with 1 Axes>"
      ]
     },
     "metadata": {},
     "output_type": "display_data"
    }
   ],
   "source": [
    "df = savgol.transform(spectra)\n",
    "df.head(50).T.plot(legend=None, figsize=(15,10))\n",
    "plt.xlabel('Wave Length')\n",
    "plt.ylabel('1rst derivative')\n",
    "plt.show()"
   ]
  },
  {
   "cell_type": "markdown",
   "metadata": {},
   "source": [
    "## Log(1/(p+n))"
   ]
  },
  {
   "cell_type": "code",
   "execution_count": 12,
   "metadata": {},
   "outputs": [
    {
     "data": {
      "text/plain": [
       "(395, 293)"
      ]
     },
     "execution_count": 12,
     "metadata": {},
     "output_type": "execute_result"
    }
   ],
   "source": [
    "class Log1overN(BaseEstimator, TransformerMixin):\n",
    "    def __init__(self, n=1):# \n",
    "        self.n = n\n",
    "    \n",
    "    def fit(self, X, y=None):\n",
    "        return self\n",
    "    \n",
    "    def transform(self, X, y=None):\n",
    "        df = X.copy(deep=True)\n",
    "        toreturn = df.apply(lambda x:np.log(1/(x+self.n)), axis=0)\n",
    "        return toreturn\n",
    "\n",
    "log1over = Log1overN(n=3)\n",
    "log1over.fit_transform(X_train).shape"
   ]
  },
  {
   "cell_type": "markdown",
   "metadata": {},
   "source": [
    "## SNV"
   ]
  },
  {
   "cell_type": "code",
   "execution_count": 13,
   "metadata": {},
   "outputs": [
    {
     "data": {
      "text/plain": [
       "(395, 293)"
      ]
     },
     "execution_count": 13,
     "metadata": {},
     "output_type": "execute_result"
    }
   ],
   "source": [
    "class Snv(BaseEstimator, TransformerMixin):\n",
    "    def __init__(self,):# \n",
    "        pass\n",
    "    \n",
    "    def fit(self, X, y=None):\n",
    "        return self\n",
    "    \n",
    "    def transform(self, X, y=None):\n",
    "        data_snv = np.zeros_like(X.values)\n",
    "        for i in range(X.shape[0]):\n",
    "            # Apply correction\n",
    "            data_snv[i,:] = (X.values[i,:] - np.mean(X.values[i,:])) / np.std(X.values[i,:])\n",
    "        return pd.DataFrame(data_snv, columns=X.columns, index=X.index)\n",
    "\n",
    "snv = Snv()\n",
    "snv.fit_transform(X_train).shape"
   ]
  },
  {
   "cell_type": "markdown",
   "metadata": {},
   "source": [
    "## Blocs creation"
   ]
  },
  {
   "cell_type": "code",
   "execution_count": 14,
   "metadata": {},
   "outputs": [],
   "source": [
    "trimmer = Trimmer()"
   ]
  },
  {
   "cell_type": "code",
   "execution_count": 15,
   "metadata": {},
   "outputs": [],
   "source": [
    "params={'window_length':5, 'polyorder':2, 'deriv':1}\n",
    "savgol = Savgol(**params)"
   ]
  },
  {
   "cell_type": "code",
   "execution_count": 16,
   "metadata": {},
   "outputs": [],
   "source": [
    "snv = Snv()"
   ]
  },
  {
   "cell_type": "code",
   "execution_count": 17,
   "metadata": {},
   "outputs": [],
   "source": [
    "log1over = Log1overN(n=3)"
   ]
  },
  {
   "cell_type": "code",
   "execution_count": 18,
   "metadata": {},
   "outputs": [],
   "source": [
    "from sklearn.preprocessing import StandardScaler\n",
    "scaler = StandardScaler()"
   ]
  },
  {
   "cell_type": "code",
   "execution_count": 19,
   "metadata": {},
   "outputs": [],
   "source": [
    "from sklearn.decomposition import PCA\n",
    "pca = PCA(random_state=0)"
   ]
  },
  {
   "cell_type": "markdown",
   "metadata": {},
   "source": [
    "# Tree construction"
   ]
  },
  {
   "cell_type": "code",
   "execution_count": 20,
   "metadata": {},
   "outputs": [],
   "source": [
    "lrpipelist1 = [#\n",
    "               ('trimmer', trimmer),\n",
    "               ('snv', snv),\n",
    "               ('savgol', savgol),\n",
    "               ('log1over', log1over),\n",
    "               ('scaler', scaler),\n",
    "               ('pca', pca),\n",
    "                ] #\n",
    "pipe1 = Pipeline(lrpipelist1)\n",
    "#Xtrans = pipe1.fit_transform(spectra)#.shape"
   ]
  },
  {
   "cell_type": "code",
   "execution_count": 21,
   "metadata": {},
   "outputs": [
    {
     "data": {
      "text/plain": [
       "(395, 291)"
      ]
     },
     "execution_count": 21,
     "metadata": {},
     "output_type": "execute_result"
    }
   ],
   "source": [
    "pipe1.fit_transform(X_train).shape"
   ]
  },
  {
   "cell_type": "code",
   "execution_count": 22,
   "metadata": {},
   "outputs": [],
   "source": [
    "from sklearn.svm import SVR\n",
    "svr = SVR()"
   ]
  },
  {
   "cell_type": "code",
   "execution_count": 23,
   "metadata": {},
   "outputs": [],
   "source": [
    "listpipereg = [('pipe1', pipe1), ('svr', svr)] #\n",
    "pipereg = Pipeline(listpipereg)"
   ]
  },
  {
   "cell_type": "code",
   "execution_count": 24,
   "metadata": {},
   "outputs": [
    {
     "data": {
      "text/plain": [
       "Pipeline(memory=None,\n",
       "     steps=[('pipe1', Pipeline(memory=None,\n",
       "     steps=[('trimmer', Trimmer(wavemax=1530, wavemin=950)), ('snv', Snv()), ('savgol', Savgol(deriv=1, polyorder=2, window_length=5)), ('log1over', Log1overN(n=3)), ('scaler', StandardScaler(copy=True, with_mean=True, with_std=True)), ('pca', PCA(copy=True, it... epsilon=0.1, gamma='auto',\n",
       "  kernel='rbf', max_iter=-1, shrinking=True, tol=0.001, verbose=False))])"
      ]
     },
     "execution_count": 24,
     "metadata": {},
     "output_type": "execute_result"
    }
   ],
   "source": [
    "pipereg.fit(X_train, y_train)"
   ]
  },
  {
   "cell_type": "code",
   "execution_count": null,
   "metadata": {},
   "outputs": [],
   "source": []
  },
  {
   "cell_type": "code",
   "execution_count": null,
   "metadata": {},
   "outputs": [],
   "source": []
  },
  {
   "cell_type": "markdown",
   "metadata": {},
   "source": [
    "### HyperOpt"
   ]
  },
  {
   "cell_type": "code",
   "execution_count": 25,
   "metadata": {},
   "outputs": [
    {
     "data": {
      "text/plain": [
       "dict_keys(['memory', 'steps', 'trimmer', 'snv', 'savgol', 'log1over', 'scaler', 'pca', 'trimmer__wavemax', 'trimmer__wavemin', 'savgol__deriv', 'savgol__polyorder', 'savgol__window_length', 'log1over__n', 'scaler__copy', 'scaler__with_mean', 'scaler__with_std', 'pca__copy', 'pca__iterated_power', 'pca__n_components', 'pca__random_state', 'pca__svd_solver', 'pca__tol', 'pca__whiten'])"
      ]
     },
     "execution_count": 25,
     "metadata": {},
     "output_type": "execute_result"
    }
   ],
   "source": [
    "pipe1.get_params().keys()"
   ]
  },
  {
   "cell_type": "code",
   "execution_count": 26,
   "metadata": {},
   "outputs": [],
   "source": [
    "from hyperopt import hp, tpe\n",
    "from hyperopt.fmin import fmin"
   ]
  },
  {
   "cell_type": "code",
   "execution_count": 27,
   "metadata": {},
   "outputs": [],
   "source": [
    "from sklearn.metrics import r2_score"
   ]
  },
  {
   "cell_type": "code",
   "execution_count": 28,
   "metadata": {},
   "outputs": [
    {
     "name": "stdout",
     "output_type": "stream",
     "text": [
      "1 - RMSECV -0.2813451723414364 - {'C': 3.1721718899028564, 'epsilon': 1.8076613146456164, 'kernel': 'linear', 'savgol__deriv': 2.0, 'savgol__polyorder': 2.0, 'savgol__window_length': 8.0, 'trimmer__wavemax': 1348.0, 'trimmer__wavemin': 1038.0}\n",
      "4 - RMSECV -0.3143071738529767 - {'C': 2.298894080226445, 'epsilon': 0.14834971269693656, 'kernel': 'linear', 'savgol__deriv': 1.0, 'savgol__polyorder': 2.0, 'savgol__window_length': 8.0, 'trimmer__wavemax': 1528.0, 'trimmer__wavemin': 1096.0}\n",
      "5 - RMSECV -0.34519937892300356 - {'C': 2.022399267058851, 'epsilon': 0.29868027554996857, 'kernel': 'linear', 'savgol__deriv': 2.0, 'savgol__polyorder': 2.0, 'savgol__window_length': 14.0, 'trimmer__wavemax': 1464.0, 'trimmer__wavemin': 994.0}\n",
      "8 - RMSECV -0.34609808381762086 - {'C': 0.7556343991364586, 'epsilon': 5.488054508518135, 'kernel': 'linear', 'savgol__deriv': 2.0, 'savgol__polyorder': 3.0, 'savgol__window_length': 14.0, 'trimmer__wavemax': 1372.0, 'trimmer__wavemin': 1028.0}\n",
      "21 - RMSECV -0.36014171983682464 - {'C': 0.5684449050777531, 'epsilon': 5.922791209960184, 'kernel': 'linear', 'savgol__deriv': 2.0, 'savgol__polyorder': 2.0, 'savgol__window_length': 14.0, 'trimmer__wavemax': 1402.0, 'trimmer__wavemin': 964.0}\n",
      "25 - RMSECV -0.49943834801868503 - {'C': 0.20398184515837317, 'epsilon': 3.5326118386621115, 'kernel': 'linear', 'savgol__deriv': 2.0, 'savgol__polyorder': 2.0, 'savgol__window_length': 16.0, 'trimmer__wavemax': 1432.0, 'trimmer__wavemin': 1200.0}\n",
      "40 - RMSECV -0.513774406267738 - {'C': 0.17233411968308698, 'epsilon': 7.127576676160374, 'kernel': 'linear', 'savgol__deriv': 2.0, 'savgol__polyorder': 2.0, 'savgol__window_length': 16.0, 'trimmer__wavemax': 1334.0, 'trimmer__wavemin': 1188.0}\n",
      "51 - RMSECV -0.5737990801282074 - {'C': 1.402197169030994, 'epsilon': 0.2610813769689288, 'kernel': 'linear', 'savgol__deriv': 2.0, 'savgol__polyorder': 2.0, 'savgol__window_length': 16.0, 'trimmer__wavemax': 1310.0, 'trimmer__wavemin': 1160.0}\n",
      "67 - RMSECV -0.5792839293886818 - {'C': 4.369254856869722, 'epsilon': 0.19068005926605539, 'kernel': 'linear', 'savgol__deriv': 2.0, 'savgol__polyorder': 3.0, 'savgol__window_length': 18.0, 'trimmer__wavemax': 1302.0, 'trimmer__wavemin': 1160.0}\n",
      "69 - RMSECV -0.6087673311173514 - {'C': 4.6462673086701765, 'epsilon': 0.3058841986969062, 'kernel': 'linear', 'savgol__deriv': 2.0, 'savgol__polyorder': 3.0, 'savgol__window_length': 16.0, 'trimmer__wavemax': 1352.0, 'trimmer__wavemin': 1162.0}\n",
      "270 - RMSECV -0.6120459555026625 - {'C': 3.2875418915059935, 'epsilon': 2.936342280257402, 'kernel': 'linear', 'savgol__deriv': 2.0, 'savgol__polyorder': 3.0, 'savgol__window_length': 16.0, 'trimmer__wavemax': 1348.0, 'trimmer__wavemin': 1164.0}\n",
      "5 --> [False, True, True, True, True] -0.6120459555026625 {'C': 3.2875418915059935, 'epsilon': 2.936342280257402, 'kernel': 1, 'savgol__deriv': 2.0, 'savgol__polyorder': 3.0, 'savgol__window_length': 16.0, 'trimmer__wavemax': 1348.0, 'trimmer__wavemin': 1164.0}\n",
      "1 - RMSECV -0.34952879450953345 - {'C': 0.18183006080768085, 'epsilon': 0.2790804240483453, 'kernel': 'linear', 'savgol__deriv': 1.0, 'savgol__polyorder': 2.0, 'savgol__window_length': 10.0, 'trimmer__wavemax': 1448.0, 'trimmer__wavemin': 1126.0}\n",
      "14 - RMSECV -0.3508440767457046 - {'C': 0.13836243273188026, 'epsilon': 2.131679442737437, 'kernel': 'linear', 'savgol__deriv': 1.0, 'savgol__polyorder': 2.0, 'savgol__window_length': 14.0, 'trimmer__wavemax': 1450.0, 'trimmer__wavemin': 1136.0}\n",
      "21 - RMSECV -0.42077259835325387 - {'C': 6.826708272007235, 'epsilon': 2.0284356065603704, 'kernel': 'linear', 'savgol__deriv': 1.0, 'savgol__polyorder': 2.0, 'savgol__window_length': 10.0, 'trimmer__wavemax': 1478.0, 'trimmer__wavemin': 1140.0}\n",
      "34 - RMSECV -0.464620199985439 - {'C': 0.21134240643499125, 'epsilon': 2.941986077513986, 'kernel': 'linear', 'savgol__deriv': 2.0, 'savgol__polyorder': 2.0, 'savgol__window_length': 16.0, 'trimmer__wavemax': 1444.0, 'trimmer__wavemin': 1186.0}\n",
      "97 - RMSECV -0.47287784049244275 - {'C': 0.24550223130152776, 'epsilon': 2.2162837806658087, 'kernel': 'linear', 'savgol__deriv': 1.0, 'savgol__polyorder': 2.0, 'savgol__window_length': 14.0, 'trimmer__wavemax': 1412.0, 'trimmer__wavemin': 1194.0}\n",
      "103 - RMSECV -0.5130030766992433 - {'C': 0.31147119430217224, 'epsilon': 2.0148818430812385, 'kernel': 'linear', 'savgol__deriv': 2.0, 'savgol__polyorder': 3.0, 'savgol__window_length': 14.0, 'trimmer__wavemax': 1348.0, 'trimmer__wavemin': 1198.0}\n",
      "104 - RMSECV -0.5178462845872008 - {'C': 0.31633578139367213, 'epsilon': 0.5633566510704979, 'kernel': 'linear', 'savgol__deriv': 2.0, 'savgol__polyorder': 3.0, 'savgol__window_length': 14.0, 'trimmer__wavemax': 1346.0, 'trimmer__wavemin': 1200.0}\n",
      "109 - RMSECV -0.5612876789807006 - {'C': 0.4650352148772348, 'epsilon': 0.2104241496562711, 'kernel': 'linear', 'savgol__deriv': 2.0, 'savgol__polyorder': 3.0, 'savgol__window_length': 14.0, 'trimmer__wavemax': 1300.0, 'trimmer__wavemin': 1170.0}\n",
      "120 - RMSECV -0.5637426088725053 - {'C': 0.7227700185366034, 'epsilon': 0.4469127271964136, 'kernel': 'linear', 'savgol__deriv': 2.0, 'savgol__polyorder': 3.0, 'savgol__window_length': 16.0, 'trimmer__wavemax': 1314.0, 'trimmer__wavemin': 1160.0}\n",
      "154 - RMSECV -0.5861733333279886 - {'C': 0.968788302560776, 'epsilon': 0.4983424647501182, 'kernel': 'linear', 'savgol__deriv': 2.0, 'savgol__polyorder': 3.0, 'savgol__window_length': 18.0, 'trimmer__wavemax': 1326.0, 'trimmer__wavemin': 1162.0}\n",
      "157 - RMSECV -0.5879934408621644 - {'C': 0.586599004405155, 'epsilon': 0.42302242157498604, 'kernel': 'linear', 'savgol__deriv': 2.0, 'savgol__polyorder': 3.0, 'savgol__window_length': 18.0, 'trimmer__wavemax': 1306.0, 'trimmer__wavemin': 1164.0}\n",
      "178 - RMSECV -0.6014096296872838 - {'C': 0.37758125935346604, 'epsilon': 1.055686540556233, 'kernel': 'linear', 'savgol__deriv': 2.0, 'savgol__polyorder': 3.0, 'savgol__window_length': 18.0, 'trimmer__wavemax': 1350.0, 'trimmer__wavemin': 1162.0}\n",
      "5 --> [False, True, False, True, True] -0.6014096296872838 {'C': 0.37758125935346604, 'epsilon': 1.055686540556233, 'kernel': 1, 'savgol__deriv': 2.0, 'savgol__polyorder': 3.0, 'savgol__window_length': 18.0, 'trimmer__wavemax': 1350.0, 'trimmer__wavemin': 1162.0}\n",
      "1 - RMSECV -0.5849265355770306 - {'C': 0.663345973033962, 'epsilon': 2.113814329621696, 'kernel': 'linear', 'savgol__deriv': 2.0, 'savgol__polyorder': 2.0, 'savgol__window_length': 10.0, 'trimmer__wavemax': 1490.0, 'trimmer__wavemin': 960.0}\n",
      "4 - RMSECV -0.6146608633089119 - {'C': 0.3697635419066394, 'epsilon': 0.4316586534791036, 'kernel': 'linear', 'savgol__deriv': 2.0, 'savgol__polyorder': 2.0, 'savgol__window_length': 14.0, 'trimmer__wavemax': 1316.0, 'trimmer__wavemin': 1146.0}\n",
      "24 - RMSECV -0.6149491038651556 - {'C': 2.7924742629006225, 'epsilon': 0.35464728846168014, 'kernel': 'linear', 'savgol__deriv': 2.0, 'savgol__polyorder': 2.0, 'savgol__window_length': 16.0, 'trimmer__wavemax': 1410.0, 'trimmer__wavemin': 1148.0}\n",
      "31 - RMSECV -0.6822605948475308 - {'C': 0.42186716969293825, 'epsilon': 0.17634715198363596, 'kernel': 'linear', 'savgol__deriv': 2.0, 'savgol__polyorder': 2.0, 'savgol__window_length': 10.0, 'trimmer__wavemax': 1326.0, 'trimmer__wavemin': 1170.0}\n",
      "277 - RMSECV -0.6825092992638895 - {'C': 2.4390814184354555, 'epsilon': 0.19928940898725336, 'kernel': 'linear', 'savgol__deriv': 1.0, 'savgol__polyorder': 2.0, 'savgol__window_length': 12.0, 'trimmer__wavemax': 1412.0, 'trimmer__wavemin': 1182.0}\n",
      "280 - RMSECV -0.6827836991019354 - {'C': 2.4254100119798645, 'epsilon': 0.2852646877296057, 'kernel': 'linear', 'savgol__deriv': 1.0, 'savgol__polyorder': 2.0, 'savgol__window_length': 14.0, 'trimmer__wavemax': 1410.0, 'trimmer__wavemin': 1180.0}\n",
      "8 --> [False, True, True, True, True] -0.6827836991019354 {'C': 2.4254100119798645, 'epsilon': 0.2852646877296057, 'kernel': 1, 'savgol__deriv': 1.0, 'savgol__polyorder': 2.0, 'savgol__window_length': 14.0, 'trimmer__wavemax': 1410.0, 'trimmer__wavemin': 1180.0}\n",
      "1 - RMSECV -0.34000781005015335 - {'C': 1.3730717318604224, 'epsilon': 5.03654671438234, 'kernel': 'linear', 'savgol__deriv': 1.0, 'savgol__polyorder': 2.0, 'savgol__window_length': 4.0, 'trimmer__wavemax': 1356.0, 'trimmer__wavemin': 986.0}\n",
      "3 - RMSECV -0.515885422350977 - {'C': 1.1179081526432517, 'epsilon': 0.3957760081399583, 'kernel': 'linear', 'savgol__deriv': 1.0, 'savgol__polyorder': 2.0, 'savgol__window_length': 18.0, 'trimmer__wavemax': 1478.0, 'trimmer__wavemin': 1046.0}\n",
      "8 - RMSECV -0.6401213763489735 - {'C': 0.2537620111493956, 'epsilon': 0.36064862244248075, 'kernel': 'linear', 'savgol__deriv': 1.0, 'savgol__polyorder': 3.0, 'savgol__window_length': 16.0, 'trimmer__wavemax': 1346.0, 'trimmer__wavemin': 1122.0}\n",
      "11 - RMSECV -0.6512236663210016 - {'C': 5.80346319912242, 'epsilon': 0.5728825611612839, 'kernel': 'linear', 'savgol__deriv': 1.0, 'savgol__polyorder': 2.0, 'savgol__window_length': 16.0, 'trimmer__wavemax': 1410.0, 'trimmer__wavemin': 1152.0}\n",
      "22 - RMSECV -0.6703872172072634 - {'C': 0.8235721200401647, 'epsilon': 0.363610127752015, 'kernel': 'linear', 'savgol__deriv': 1.0, 'savgol__polyorder': 3.0, 'savgol__window_length': 14.0, 'trimmer__wavemax': 1390.0, 'trimmer__wavemin': 1168.0}\n",
      "69 - RMSECV -0.6720511971081523 - {'C': 0.5419060846981714, 'epsilon': 4.046365238022914, 'kernel': 'linear', 'savgol__deriv': 1.0, 'savgol__polyorder': 3.0, 'savgol__window_length': 10.0, 'trimmer__wavemax': 1388.0, 'trimmer__wavemin': 1168.0}\n",
      "264 - RMSECV -0.6742586522316694 - {'C': 1.2469217159619614, 'epsilon': 0.15215453369604526, 'kernel': 'linear', 'savgol__deriv': 1.0, 'savgol__polyorder': 3.0, 'savgol__window_length': 16.0, 'trimmer__wavemax': 1410.0, 'trimmer__wavemin': 1168.0}\n",
      "285 - RMSECV -0.6757514940174993 - {'C': 0.9680255015300557, 'epsilon': 0.32787640331789514, 'kernel': 'linear', 'savgol__deriv': 1.0, 'savgol__polyorder': 3.0, 'savgol__window_length': 14.0, 'trimmer__wavemax': 1416.0, 'trimmer__wavemin': 1168.0}\n",
      "8 --> [False, True, False, True, True] -0.6757514940174993 {'C': 0.9680255015300557, 'epsilon': 0.32787640331789514, 'kernel': 1, 'savgol__deriv': 1.0, 'savgol__polyorder': 3.0, 'savgol__window_length': 14.0, 'trimmer__wavemax': 1416.0, 'trimmer__wavemin': 1168.0}\n",
      "1 - RMSECV -0.42797972509659943 - {'C': 0.22040798750722318, 'epsilon': 1.2806937855608431, 'kernel': 'linear', 'savgol__deriv': 2.0, 'savgol__polyorder': 3.0, 'savgol__window_length': 4.0, 'trimmer__wavemax': 1410.0, 'trimmer__wavemin': 1118.0}\n",
      "2 - RMSECV -0.5518431926505777 - {'C': 3.2079909507415003, 'epsilon': 0.19177463375928336, 'kernel': 'linear', 'savgol__deriv': 1.0, 'savgol__polyorder': 2.0, 'savgol__window_length': 12.0, 'trimmer__wavemax': 1470.0, 'trimmer__wavemin': 992.0}\n",
      "5 - RMSECV -0.5739638581150354 - {'C': 3.6339030600824422, 'epsilon': 0.35747784033379354, 'kernel': 'linear', 'savgol__deriv': 2.0, 'savgol__polyorder': 2.0, 'savgol__window_length': 10.0, 'trimmer__wavemax': 1342.0, 'trimmer__wavemin': 1194.0}\n",
      "6 - RMSECV -0.631691743854245 - {'C': 0.21459218844366126, 'epsilon': 3.188190850217803, 'kernel': 'linear', 'savgol__deriv': 1.0, 'savgol__polyorder': 2.0, 'savgol__window_length': 10.0, 'trimmer__wavemax': 1326.0, 'trimmer__wavemin': 1152.0}\n",
      "7 - RMSECV -0.6496138748662796 - {'C': 0.3083109351900312, 'epsilon': 6.106439061655365, 'kernel': 'linear', 'savgol__deriv': 2.0, 'savgol__polyorder': 3.0, 'savgol__window_length': 16.0, 'trimmer__wavemax': 1362.0, 'trimmer__wavemin': 1016.0}\n",
      "34 - RMSECV -0.6640478618005561 - {'C': 1.715929853086317, 'epsilon': 1.1651482137979428, 'kernel': 'linear', 'savgol__deriv': 1.0, 'savgol__polyorder': 3.0, 'savgol__window_length': 10.0, 'trimmer__wavemax': 1414.0, 'trimmer__wavemin': 1052.0}\n",
      "44 - RMSECV -0.6717272900911918 - {'C': 2.003364140377449, 'epsilon': 3.52805532714571, 'kernel': 'linear', 'savgol__deriv': 1.0, 'savgol__polyorder': 3.0, 'savgol__window_length': 8.0, 'trimmer__wavemax': 1422.0, 'trimmer__wavemin': 984.0}\n",
      "58 - RMSECV -0.683557603679859 - {'C': 0.9225358936265105, 'epsilon': 4.615867174104229, 'kernel': 'linear', 'savgol__deriv': 1.0, 'savgol__polyorder': 2.0, 'savgol__window_length': 6.0, 'trimmer__wavemax': 1332.0, 'trimmer__wavemin': 980.0}\n",
      "69 - RMSECV -0.6893041446638501 - {'C': 4.205777232266852, 'epsilon': 1.984191095118831, 'kernel': 'linear', 'savgol__deriv': 1.0, 'savgol__polyorder': 2.0, 'savgol__window_length': 6.0, 'trimmer__wavemax': 1350.0, 'trimmer__wavemin': 1020.0}\n",
      "220 - RMSECV -0.6937894757845335 - {'C': 2.025493170104521, 'epsilon': 3.162966549512327, 'kernel': 'linear', 'savgol__deriv': 1.0, 'savgol__polyorder': 2.0, 'savgol__window_length': 16.0, 'trimmer__wavemax': 1320.0, 'trimmer__wavemin': 994.0}\n",
      "10 --> [False, True, True, True, True] -0.6937894757845335 {'C': 2.025493170104521, 'epsilon': 3.162966549512327, 'kernel': 1, 'savgol__deriv': 1.0, 'savgol__polyorder': 2.0, 'savgol__window_length': 16.0, 'trimmer__wavemax': 1320.0, 'trimmer__wavemin': 994.0}\n",
      "1 - RMSECV -0.4568039123911478 - {'C': 0.3384956906430244, 'epsilon': 2.7643706251112166, 'kernel': 'poly', 'savgol__deriv': 2.0, 'savgol__polyorder': 2.0, 'savgol__window_length': 8.0, 'trimmer__wavemax': 1328.0, 'trimmer__wavemin': 1142.0}\n",
      "2 - RMSECV -0.6866979890258793 - {'C': 0.6032342725145186, 'epsilon': 4.379332800332699, 'kernel': 'linear', 'savgol__deriv': 1.0, 'savgol__polyorder': 2.0, 'savgol__window_length': 14.0, 'trimmer__wavemax': 1320.0, 'trimmer__wavemin': 1028.0}\n",
      "41 - RMSECV -0.6878836485170272 - {'C': 0.7922139584038002, 'epsilon': 4.145202873622278, 'kernel': 'linear', 'savgol__deriv': 1.0, 'savgol__polyorder': 2.0, 'savgol__window_length': 18.0, 'trimmer__wavemax': 1360.0, 'trimmer__wavemin': 980.0}\n",
      "130 - RMSECV -0.6890318456109 - {'C': 3.4531588342547557, 'epsilon': 1.6496867795147856, 'kernel': 'linear', 'savgol__deriv': 1.0, 'savgol__polyorder': 2.0, 'savgol__window_length': 10.0, 'trimmer__wavemax': 1330.0, 'trimmer__wavemin': 1012.0}\n",
      "148 - RMSECV -0.6899396581923493 - {'C': 4.580306603575814, 'epsilon': 2.1741986199037293, 'kernel': 'linear', 'savgol__deriv': 1.0, 'savgol__polyorder': 2.0, 'savgol__window_length': 10.0, 'trimmer__wavemax': 1328.0, 'trimmer__wavemin': 1026.0}\n",
      "149 - RMSECV -0.6919641203502838 - {'C': 4.816679802854453, 'epsilon': 2.7375058957648086, 'kernel': 'linear', 'savgol__deriv': 1.0, 'savgol__polyorder': 2.0, 'savgol__window_length': 10.0, 'trimmer__wavemax': 1354.0, 'trimmer__wavemin': 1028.0}\n",
      "10 --> [False, True, False, True, True] -0.6919641203502838 {'C': 4.816679802854453, 'epsilon': 2.7375058957648086, 'kernel': 1, 'savgol__deriv': 1.0, 'savgol__polyorder': 2.0, 'savgol__window_length': 10.0, 'trimmer__wavemax': 1354.0, 'trimmer__wavemin': 1028.0}\n",
      "1 - RMSECV -0.4122393107798519 - {'C': 0.6020042817441847, 'epsilon': 0.4692256711875102, 'kernel': 'poly', 'savgol__deriv': 1.0, 'savgol__polyorder': 2.0, 'savgol__window_length': 8.0, 'trimmer__wavemax': 1314.0, 'trimmer__wavemin': 1150.0}\n",
      "2 - RMSECV -0.6507676235900008 - {'C': 5.56413196549101, 'epsilon': 0.16139730288619072, 'kernel': 'linear', 'savgol__deriv': 1.0, 'savgol__polyorder': 3.0, 'savgol__window_length': 18.0, 'trimmer__wavemax': 1416.0, 'trimmer__wavemin': 996.0}\n",
      "3 - RMSECV -0.6572547084604303 - {'C': 0.28663811951020146, 'epsilon': 0.20664701528633578, 'kernel': 'linear', 'savgol__deriv': 1.0, 'savgol__polyorder': 3.0, 'savgol__window_length': 6.0, 'trimmer__wavemax': 1428.0, 'trimmer__wavemin': 958.0}\n",
      "15 - RMSECV -0.6748464393427818 - {'C': 2.674286736012937, 'epsilon': 1.6620650249493132, 'kernel': 'linear', 'savgol__deriv': 1.0, 'savgol__polyorder': 2.0, 'savgol__window_length': 12.0, 'trimmer__wavemax': 1306.0, 'trimmer__wavemin': 970.0}\n",
      "21 - RMSECV -0.6786055246444773 - {'C': 2.5335715818611835, 'epsilon': 0.9627115233905321, 'kernel': 'linear', 'savgol__deriv': 1.0, 'savgol__polyorder': 2.0, 'savgol__window_length': 16.0, 'trimmer__wavemax': 1474.0, 'trimmer__wavemin': 1134.0}\n",
      "25 - RMSECV -0.6823252687363413 - {'C': 1.609753781434422, 'epsilon': 0.9079155368126475, 'kernel': 'linear', 'savgol__deriv': 1.0, 'savgol__polyorder': 2.0, 'savgol__window_length': 16.0, 'trimmer__wavemax': 1460.0, 'trimmer__wavemin': 1194.0}\n",
      "29 - RMSECV -0.6843871986818821 - {'C': 1.6680798213606618, 'epsilon': 0.5661559704460664, 'kernel': 'linear', 'savgol__deriv': 1.0, 'savgol__polyorder': 2.0, 'savgol__window_length': 16.0, 'trimmer__wavemax': 1392.0, 'trimmer__wavemin': 1160.0}\n",
      "31 - RMSECV -0.6967576896298842 - {'C': 7.1942930608857765, 'epsilon': 0.47578486657689295, 'kernel': 'linear', 'savgol__deriv': 1.0, 'savgol__polyorder': 2.0, 'savgol__window_length': 18.0, 'trimmer__wavemax': 1398.0, 'trimmer__wavemin': 1150.0}\n",
      "32 - RMSECV -0.6985614269565312 - {'C': 6.215600099568677, 'epsilon': 0.137920217945156, 'kernel': 'linear', 'savgol__deriv': 1.0, 'savgol__polyorder': 2.0, 'savgol__window_length': 18.0, 'trimmer__wavemax': 1398.0, 'trimmer__wavemin': 1152.0}\n",
      "66 - RMSECV -0.7036531505452772 - {'C': 4.683158128975584, 'epsilon': 0.1946842207058321, 'kernel': 'linear', 'savgol__deriv': 1.0, 'savgol__polyorder': 2.0, 'savgol__window_length': 18.0, 'trimmer__wavemax': 1398.0, 'trimmer__wavemin': 1144.0}\n",
      "154 - RMSECV -0.7037832356315362 - {'C': 5.9614059066662275, 'epsilon': 1.3543087598570773, 'kernel': 'linear', 'savgol__deriv': 1.0, 'savgol__polyorder': 2.0, 'savgol__window_length': 16.0, 'trimmer__wavemax': 1404.0, 'trimmer__wavemin': 1152.0}\n",
      "155 - RMSECV -0.7059702022355046 - {'C': 6.134605431002032, 'epsilon': 4.055275921707148, 'kernel': 'linear', 'savgol__deriv': 1.0, 'savgol__polyorder': 2.0, 'savgol__window_length': 16.0, 'trimmer__wavemax': 1408.0, 'trimmer__wavemin': 1148.0}\n",
      "12 --> [False, True, True, True, True] -0.7059702022355046 {'C': 6.134605431002032, 'epsilon': 4.055275921707148, 'kernel': 1, 'savgol__deriv': 1.0, 'savgol__polyorder': 2.0, 'savgol__window_length': 16.0, 'trimmer__wavemax': 1408.0, 'trimmer__wavemin': 1148.0}\n",
      "1 - RMSECV 6.55983693370426 - {'C': 3.688199161675683, 'epsilon': 1.4201190482996973, 'kernel': 'poly', 'savgol__deriv': 2.0, 'savgol__polyorder': 3.0, 'savgol__window_length': 18.0, 'trimmer__wavemax': 1362.0, 'trimmer__wavemin': 954.0}\n",
      "2 - RMSECV 1.2161836405236977 - {'C': 2.6449471487999237, 'epsilon': 0.15966521223348326, 'kernel': 'poly', 'savgol__deriv': 2.0, 'savgol__polyorder': 3.0, 'savgol__window_length': 14.0, 'trimmer__wavemax': 1468.0, 'trimmer__wavemin': 1154.0}\n",
      "3 - RMSECV 0.7021757504181729 - {'C': 2.429035326129561, 'epsilon': 2.8299529738855806, 'kernel': 'poly', 'savgol__deriv': 2.0, 'savgol__polyorder': 2.0, 'savgol__window_length': 18.0, 'trimmer__wavemax': 1436.0, 'trimmer__wavemin': 982.0}\n",
      "4 - RMSECV -0.6022524251512763 - {'C': 0.16687025162891092, 'epsilon': 0.7691416542002439, 'kernel': 'linear', 'savgol__deriv': 2.0, 'savgol__polyorder': 3.0, 'savgol__window_length': 8.0, 'trimmer__wavemax': 1490.0, 'trimmer__wavemin': 1176.0}\n",
      "9 - RMSECV -0.6079229935478971 - {'C': 1.1238692809428181, 'epsilon': 0.15196443408280064, 'kernel': 'linear', 'savgol__deriv': 2.0, 'savgol__polyorder': 3.0, 'savgol__window_length': 18.0, 'trimmer__wavemax': 1512.0, 'trimmer__wavemin': 1172.0}\n",
      "10 - RMSECV -0.6277943686072627 - {'C': 0.9426858816615822, 'epsilon': 0.1735460153950463, 'kernel': 'linear', 'savgol__deriv': 2.0, 'savgol__polyorder': 3.0, 'savgol__window_length': 14.0, 'trimmer__wavemax': 1512.0, 'trimmer__wavemin': 966.0}\n",
      "12 - RMSECV -0.6386609815355013 - {'C': 0.17376570745708914, 'epsilon': 0.31919873643073604, 'kernel': 'linear', 'savgol__deriv': 1.0, 'savgol__polyorder': 3.0, 'savgol__window_length': 12.0, 'trimmer__wavemax': 1490.0, 'trimmer__wavemin': 1006.0}\n",
      "18 - RMSECV -0.64455873118152 - {'C': 0.5007443526208843, 'epsilon': 0.15618193871878788, 'kernel': 'linear', 'savgol__deriv': 1.0, 'savgol__polyorder': 3.0, 'savgol__window_length': 16.0, 'trimmer__wavemax': 1310.0, 'trimmer__wavemin': 1078.0}\n",
      "23 - RMSECV -0.6777548489250771 - {'C': 0.6903829580763544, 'epsilon': 0.2214005084302039, 'kernel': 'linear', 'savgol__deriv': 1.0, 'savgol__polyorder': 3.0, 'savgol__window_length': 16.0, 'trimmer__wavemax': 1408.0, 'trimmer__wavemin': 1058.0}\n",
      "24 - RMSECV -0.6804774561175311 - {'C': 0.7359948579743774, 'epsilon': 0.22309806331141607, 'kernel': 'linear', 'savgol__deriv': 1.0, 'savgol__polyorder': 3.0, 'savgol__window_length': 16.0, 'trimmer__wavemax': 1410.0, 'trimmer__wavemin': 1040.0}\n",
      "34 - RMSECV -0.6819363665453103 - {'C': 0.5701971366045299, 'epsilon': 0.8520402349440394, 'kernel': 'linear', 'savgol__deriv': 1.0, 'savgol__polyorder': 3.0, 'savgol__window_length': 18.0, 'trimmer__wavemax': 1348.0, 'trimmer__wavemin': 1022.0}\n",
      "36 - RMSECV -0.682585549420013 - {'C': 0.5595759981268448, 'epsilon': 3.861624125733587, 'kernel': 'linear', 'savgol__deriv': 1.0, 'savgol__polyorder': 3.0, 'savgol__window_length': 18.0, 'trimmer__wavemax': 1366.0, 'trimmer__wavemin': 1024.0}\n",
      "37 - RMSECV -0.6836166405807602 - {'C': 0.5553944860010827, 'epsilon': 3.5608978741995747, 'kernel': 'linear', 'savgol__deriv': 1.0, 'savgol__polyorder': 3.0, 'savgol__window_length': 8.0, 'trimmer__wavemax': 1330.0, 'trimmer__wavemin': 1024.0}\n",
      "119 - RMSECV -0.6849514807404613 - {'C': 0.7568237347967978, 'epsilon': 3.9752935545389247, 'kernel': 'linear', 'savgol__deriv': 1.0, 'savgol__polyorder': 2.0, 'savgol__window_length': 10.0, 'trimmer__wavemax': 1360.0, 'trimmer__wavemin': 1020.0}\n",
      "126 - RMSECV -0.6875888049409621 - {'C': 2.1209063936264756, 'epsilon': 3.096037529753971, 'kernel': 'linear', 'savgol__deriv': 1.0, 'savgol__polyorder': 2.0, 'savgol__window_length': 8.0, 'trimmer__wavemax': 1326.0, 'trimmer__wavemin': 978.0}\n",
      "148 - RMSECV -0.6905568518880714 - {'C': 2.4493606357614985, 'epsilon': 3.460924054781687, 'kernel': 'linear', 'savgol__deriv': 1.0, 'savgol__polyorder': 2.0, 'savgol__window_length': 8.0, 'trimmer__wavemax': 1338.0, 'trimmer__wavemin': 956.0}\n",
      "159 - RMSECV -0.6906081742784942 - {'C': 1.9365056978715238, 'epsilon': 1.4677829067307728, 'kernel': 'linear', 'savgol__deriv': 1.0, 'savgol__polyorder': 2.0, 'savgol__window_length': 12.0, 'trimmer__wavemax': 1400.0, 'trimmer__wavemin': 1004.0}\n",
      "161 - RMSECV -0.6907507247794527 - {'C': 2.669066194917028, 'epsilon': 1.5232118240794317, 'kernel': 'linear', 'savgol__deriv': 1.0, 'savgol__polyorder': 2.0, 'savgol__window_length': 12.0, 'trimmer__wavemax': 1408.0, 'trimmer__wavemin': 986.0}\n",
      "192 - RMSECV -0.6911541121735385 - {'C': 1.5440692083386074, 'epsilon': 1.8813202168202012, 'kernel': 'linear', 'savgol__deriv': 1.0, 'savgol__polyorder': 2.0, 'savgol__window_length': 14.0, 'trimmer__wavemax': 1364.0, 'trimmer__wavemin': 996.0}\n",
      "258 - RMSECV -0.6925421175066266 - {'C': 2.3922230706292362, 'epsilon': 1.9378549516761248, 'kernel': 'linear', 'savgol__deriv': 1.0, 'savgol__polyorder': 2.0, 'savgol__window_length': 8.0, 'trimmer__wavemax': 1394.0, 'trimmer__wavemin': 1022.0}\n",
      "12 --> [False, True, False, True, True] -0.6925421175066266 {'C': 2.3922230706292362, 'epsilon': 1.9378549516761248, 'kernel': 1, 'savgol__deriv': 1.0, 'savgol__polyorder': 2.0, 'savgol__window_length': 8.0, 'trimmer__wavemax': 1394.0, 'trimmer__wavemin': 1022.0}\n",
      "1 - RMSECV 2.492104502271403 - {'C': 1.3967282696570391, 'epsilon': 0.6914498584017225, 'kernel': 'poly', 'savgol__deriv': 1.0, 'savgol__polyorder': 3.0, 'savgol__window_length': 14.0, 'trimmer__wavemax': 1384.0, 'trimmer__wavemin': 1012.0}\n",
      "2 - RMSECV -0.4068432972733198 - {'C': 1.260861732523632, 'epsilon': 0.16215869415350417, 'kernel': 'poly', 'savgol__deriv': 2.0, 'savgol__polyorder': 2.0, 'savgol__window_length': 8.0, 'trimmer__wavemax': 1362.0, 'trimmer__wavemin': 1144.0}\n",
      "3 - RMSECV -0.6623752926183986 - {'C': 0.26926350377341596, 'epsilon': 2.63700062710261, 'kernel': 'linear', 'savgol__deriv': 2.0, 'savgol__polyorder': 2.0, 'savgol__window_length': 10.0, 'trimmer__wavemax': 1514.0, 'trimmer__wavemin': 1078.0}\n",
      "7 - RMSECV -0.7134203910740238 - {'C': 0.5232175016139531, 'epsilon': 2.0818989646785275, 'kernel': 'linear', 'savgol__deriv': 2.0, 'savgol__polyorder': 3.0, 'savgol__window_length': 14.0, 'trimmer__wavemax': 1482.0, 'trimmer__wavemin': 1040.0}\n",
      "158 - RMSECV -0.7314047734039602 - {'C': 1.2285540141908933, 'epsilon': 4.407010699702432, 'kernel': 'linear', 'savgol__deriv': 2.0, 'savgol__polyorder': 3.0, 'savgol__window_length': 14.0, 'trimmer__wavemax': 1406.0, 'trimmer__wavemin': 1026.0}\n",
      "258 - RMSECV -0.7328497819664737 - {'C': 1.4128385460740804, 'epsilon': 5.9307536026007055, 'kernel': 'linear', 'savgol__deriv': 2.0, 'savgol__polyorder': 3.0, 'savgol__window_length': 16.0, 'trimmer__wavemax': 1414.0, 'trimmer__wavemin': 1028.0}\n",
      "270 - RMSECV -0.7367209643687929 - {'C': 2.1168521495311157, 'epsilon': 5.974527029272287, 'kernel': 'linear', 'savgol__deriv': 2.0, 'savgol__polyorder': 3.0, 'savgol__window_length': 14.0, 'trimmer__wavemax': 1436.0, 'trimmer__wavemin': 1032.0}\n",
      "15 --> [False, True, True, True, True] -0.7367209643687929 {'C': 2.1168521495311157, 'epsilon': 5.974527029272287, 'kernel': 1, 'savgol__deriv': 2.0, 'savgol__polyorder': 3.0, 'savgol__window_length': 14.0, 'trimmer__wavemax': 1436.0, 'trimmer__wavemin': 1032.0}\n",
      "1 - RMSECV -0.6693951570169978 - {'C': 0.39821425318902653, 'epsilon': 0.17665131197917508, 'kernel': 'linear', 'savgol__deriv': 1.0, 'savgol__polyorder': 2.0, 'savgol__window_length': 6.0, 'trimmer__wavemax': 1320.0, 'trimmer__wavemin': 1044.0}\n",
      "7 - RMSECV -0.6849464215363218 - {'C': 3.5666121251937084, 'epsilon': 0.22937845143052235, 'kernel': 'linear', 'savgol__deriv': 2.0, 'savgol__polyorder': 3.0, 'savgol__window_length': 10.0, 'trimmer__wavemax': 1400.0, 'trimmer__wavemin': 1118.0}\n",
      "11 - RMSECV -0.7333824527667137 - {'C': 1.7866608802038537, 'epsilon': 6.370521002030904, 'kernel': 'linear', 'savgol__deriv': 2.0, 'savgol__polyorder': 2.0, 'savgol__window_length': 16.0, 'trimmer__wavemax': 1440.0, 'trimmer__wavemin': 1024.0}\n",
      "154 - RMSECV -0.7338854987942189 - {'C': 1.4357719303262373, 'epsilon': 5.48797193111015, 'kernel': 'linear', 'savgol__deriv': 2.0, 'savgol__polyorder': 2.0, 'savgol__window_length': 14.0, 'trimmer__wavemax': 1410.0, 'trimmer__wavemin': 1036.0}\n",
      "240 - RMSECV -0.7349023107285557 - {'C': 3.9028415928118143, 'epsilon': 6.72154556407313, 'kernel': 'linear', 'savgol__deriv': 2.0, 'savgol__polyorder': 2.0, 'savgol__window_length': 16.0, 'trimmer__wavemax': 1420.0, 'trimmer__wavemin': 1030.0}\n",
      "15 --> [False, True, False, True, True] -0.7349023107285557 {'C': 3.9028415928118143, 'epsilon': 6.72154556407313, 'kernel': 1, 'savgol__deriv': 2.0, 'savgol__polyorder': 2.0, 'savgol__window_length': 16.0, 'trimmer__wavemax': 1420.0, 'trimmer__wavemin': 1030.0}\n"
     ]
    }
   ],
   "source": [
    "counter = 0\n",
    "bestscore = 1e20\n",
    "\n",
    "trainscore = True\n",
    "\n",
    "def objective(params):\n",
    "    global counter\n",
    "    global bestscore\n",
    "    counter += 1\n",
    "    hyperparams = {\n",
    "        'kernel': params['kernel'],\n",
    "        'C':params['C'],\n",
    "        'epsilon':params['epsilon'],\n",
    "        'max_iter':10000\n",
    "        }\n",
    "    \n",
    "    lrpipelist1 = [('trimmer', trimmer), ]\n",
    "    if pipeoption[0] == True:\n",
    "        lrpipelist1.append(('snv', snv))\n",
    "    if pipeoption[1] == True:\n",
    "        lrpipelist1.append(('savgol', savgol))\n",
    "    if pipeoption[2] == True:\n",
    "        lrpipelist1.append(('log1over', log1over))\n",
    "    if pipeoption[3] == True:\n",
    "        lrpipelist1.append(('scaler', scaler))\n",
    "    if pipeoption[4] == True:\n",
    "        lrpipelist1.append(('pca', pca))\n",
    "\n",
    "    pipe1 = Pipeline(lrpipelist1)\n",
    "    \n",
    "    pipe1.set_params(pca__n_components=int(component))\n",
    "    pipe1.set_params(savgol__window_length=int(params['savgol__window_length'])+1)\n",
    "    pipe1.set_params(savgol__deriv=int(params['savgol__deriv']))\n",
    "    pipe1.set_params(trimmer__wavemin=int(params['trimmer__wavemin']))\n",
    "    pipe1.set_params(trimmer__wavemax=int(params['trimmer__wavemax']))\n",
    "    pipe1.set_params(savgol__polyorder=int(params['savgol__polyorder']))\n",
    "    \n",
    "    Xtrans = pipe1.fit_transform(X_train)\n",
    "    \n",
    "    svr = SVR(**hyperparams)\n",
    "    \n",
    "    if trainscore:\n",
    "        preds = cross_val_predict(svr, Xtrans, y_train, cv=kf, n_jobs=-2)\n",
    "        #score = mean_squared_error(y_train , preds)\n",
    "        score = -r2_score(y_train, preds)\n",
    "    else:\n",
    "        Xtranstest = pipe1.transform(X_test)\n",
    "        svr.fit(Xtrans, y_train)\n",
    "        preds = svr.predict(Xtranstest)\n",
    "        score = mean_squared_error(y_test , preds)\n",
    "        #score = -r2_score(y_test , preds)\n",
    "    \n",
    "    \n",
    "    if counter % 50 == 0:\n",
    "        #print(\"{} - RMSECV {}\".format(counter, score))\n",
    "        pass\n",
    "    if score < bestscore:\n",
    "        bestscore = score\n",
    "        print(\"{} - RMSECV {} - {}\".format(counter, score, params))\n",
    "        pass\n",
    "    \n",
    "    return score\n",
    "\n",
    "pipeoptions = [#[True, True, True, True, True], #SNV - SAVFOL - LOG1p - SCALER - PCA\n",
    "               # [True, True, False, True, True], # No log1p\n",
    "               [False, True, True, True, True],  #No SNV\n",
    "               [False, True, False, True, True], #No SNV or log1p\n",
    "                ]\n",
    "\n",
    "kernels =['poly', 'linear', ] # 'rbf'\n",
    "\n",
    "space = {\n",
    "    'kernel':hp.choice('kernel', kernels), #'linear', 'poly', 'rbf'\n",
    "    #'degree':hp.quniform('degree', 2, 3, 1),\n",
    "    'C': hp.loguniform('C', -2, 2),\n",
    "    'epsilon': hp.loguniform('epsilon', -2, 2),\n",
    "    #'pca__n_components': hp.quniform('pca__n_components',10, 30, 1),\n",
    "    'savgol__window_length': hp.quniform('savgol__window_length', 3, 19, 2),\n",
    "    'savgol__deriv':hp.quniform('savgol__deriv', 1, 2, 1),\n",
    "    'trimmer__wavemin': hp.quniform('trimmer__wavemin', 950, 1200, 2),\n",
    "    'trimmer__wavemax': hp.quniform('trimmer__wavemax', 1300, 1530, 2),\n",
    "    'savgol__polyorder':hp.quniform('savgol__polyorder', 2, 3, 1)\n",
    "}\n",
    "bestscores = []\n",
    "pcacomp = {}\n",
    "components = [5, 8, 10, 12, 15]\n",
    "\n",
    "for component in components:\n",
    "    for pipeoption in pipeoptions:\n",
    "        #print(pipeoption, component)\n",
    "        #print()\n",
    "        counter = 0\n",
    "        bestscore = 1e20\n",
    "        best = fmin(fn=objective,\n",
    "                    space=space,\n",
    "                    algo=tpe.suggest,\n",
    "                    max_evals=300)\n",
    "        print(component, '-->', pipeoption, bestscore, best)\n",
    "        bestscores.append((pipeoption, bestscore, best))\n",
    "    pcacomp[component] = bestscores\n",
    "    bestscores = []"
   ]
  },
  {
   "cell_type": "code",
   "execution_count": 29,
   "metadata": {},
   "outputs": [
    {
     "data": {
      "text/plain": [
       "[{'C': 3.2875418915059935,\n",
       "  'epsilon': 2.936342280257402,\n",
       "  'kernel': 1,\n",
       "  'savgol__deriv': 2.0,\n",
       "  'savgol__polyorder': 3.0,\n",
       "  'savgol__window_length': 16.0,\n",
       "  'trimmer__wavemax': 1348.0,\n",
       "  'trimmer__wavemin': 1164.0,\n",
       "  'pca': 5,\n",
       "  'SNV': False,\n",
       "  'savgol': True,\n",
       "  'log1op': True},\n",
       " {'C': 2.4254100119798645,\n",
       "  'epsilon': 0.2852646877296057,\n",
       "  'kernel': 1,\n",
       "  'savgol__deriv': 1.0,\n",
       "  'savgol__polyorder': 2.0,\n",
       "  'savgol__window_length': 14.0,\n",
       "  'trimmer__wavemax': 1410.0,\n",
       "  'trimmer__wavemin': 1180.0,\n",
       "  'pca': 8,\n",
       "  'SNV': False,\n",
       "  'savgol': True,\n",
       "  'log1op': True},\n",
       " {'C': 2.025493170104521,\n",
       "  'epsilon': 3.162966549512327,\n",
       "  'kernel': 1,\n",
       "  'savgol__deriv': 1.0,\n",
       "  'savgol__polyorder': 2.0,\n",
       "  'savgol__window_length': 16.0,\n",
       "  'trimmer__wavemax': 1320.0,\n",
       "  'trimmer__wavemin': 994.0,\n",
       "  'pca': 10,\n",
       "  'SNV': False,\n",
       "  'savgol': True,\n",
       "  'log1op': True},\n",
       " {'C': 6.134605431002032,\n",
       "  'epsilon': 4.055275921707148,\n",
       "  'kernel': 1,\n",
       "  'savgol__deriv': 1.0,\n",
       "  'savgol__polyorder': 2.0,\n",
       "  'savgol__window_length': 16.0,\n",
       "  'trimmer__wavemax': 1408.0,\n",
       "  'trimmer__wavemin': 1148.0,\n",
       "  'pca': 12,\n",
       "  'SNV': False,\n",
       "  'savgol': True,\n",
       "  'log1op': True},\n",
       " {'C': 2.1168521495311157,\n",
       "  'epsilon': 5.974527029272287,\n",
       "  'kernel': 1,\n",
       "  'savgol__deriv': 2.0,\n",
       "  'savgol__polyorder': 3.0,\n",
       "  'savgol__window_length': 14.0,\n",
       "  'trimmer__wavemax': 1436.0,\n",
       "  'trimmer__wavemin': 1032.0,\n",
       "  'pca': 15,\n",
       "  'SNV': False,\n",
       "  'savgol': True,\n",
       "  'log1op': True}]"
      ]
     },
     "execution_count": 29,
     "metadata": {},
     "output_type": "execute_result"
    }
   ],
   "source": [
    "cleaned = {comp:results[np.argmin([x[1] for x in results])] for comp, results in pcacomp.items()}\n",
    "cleaned = [{**v[2], 'pca':k, 'SNV':v[0][0], 'savgol':v[0][1], 'log1op':v[0][2]} for k, v in cleaned.items()]\n",
    "cleaned"
   ]
  },
  {
   "cell_type": "code",
   "execution_count": 30,
   "metadata": {},
   "outputs": [
    {
     "data": {
      "text/html": [
       "<div>\n",
       "<style scoped>\n",
       "    .dataframe tbody tr th:only-of-type {\n",
       "        vertical-align: middle;\n",
       "    }\n",
       "\n",
       "    .dataframe tbody tr th {\n",
       "        vertical-align: top;\n",
       "    }\n",
       "\n",
       "    .dataframe thead th {\n",
       "        text-align: right;\n",
       "    }\n",
       "</style>\n",
       "<table border=\"1\" class=\"dataframe\">\n",
       "  <thead>\n",
       "    <tr style=\"text-align: right;\">\n",
       "      <th></th>\n",
       "      <th>0</th>\n",
       "      <th>1</th>\n",
       "      <th>2</th>\n",
       "      <th>3</th>\n",
       "      <th>4</th>\n",
       "    </tr>\n",
       "  </thead>\n",
       "  <tbody>\n",
       "    <tr>\n",
       "      <th>C</th>\n",
       "      <td>3.28754</td>\n",
       "      <td>2.42541</td>\n",
       "      <td>2.02549</td>\n",
       "      <td>6.13461</td>\n",
       "      <td>2.11685</td>\n",
       "    </tr>\n",
       "    <tr>\n",
       "      <th>SNV</th>\n",
       "      <td>False</td>\n",
       "      <td>False</td>\n",
       "      <td>False</td>\n",
       "      <td>False</td>\n",
       "      <td>False</td>\n",
       "    </tr>\n",
       "    <tr>\n",
       "      <th>epsilon</th>\n",
       "      <td>2.93634</td>\n",
       "      <td>0.285265</td>\n",
       "      <td>3.16297</td>\n",
       "      <td>4.05528</td>\n",
       "      <td>5.97453</td>\n",
       "    </tr>\n",
       "    <tr>\n",
       "      <th>kernel</th>\n",
       "      <td>1</td>\n",
       "      <td>1</td>\n",
       "      <td>1</td>\n",
       "      <td>1</td>\n",
       "      <td>1</td>\n",
       "    </tr>\n",
       "    <tr>\n",
       "      <th>log1op</th>\n",
       "      <td>True</td>\n",
       "      <td>True</td>\n",
       "      <td>True</td>\n",
       "      <td>True</td>\n",
       "      <td>True</td>\n",
       "    </tr>\n",
       "    <tr>\n",
       "      <th>pca</th>\n",
       "      <td>5</td>\n",
       "      <td>8</td>\n",
       "      <td>10</td>\n",
       "      <td>12</td>\n",
       "      <td>15</td>\n",
       "    </tr>\n",
       "    <tr>\n",
       "      <th>savgol</th>\n",
       "      <td>True</td>\n",
       "      <td>True</td>\n",
       "      <td>True</td>\n",
       "      <td>True</td>\n",
       "      <td>True</td>\n",
       "    </tr>\n",
       "    <tr>\n",
       "      <th>savgol__deriv</th>\n",
       "      <td>2</td>\n",
       "      <td>1</td>\n",
       "      <td>1</td>\n",
       "      <td>1</td>\n",
       "      <td>2</td>\n",
       "    </tr>\n",
       "    <tr>\n",
       "      <th>savgol__polyorder</th>\n",
       "      <td>3</td>\n",
       "      <td>2</td>\n",
       "      <td>2</td>\n",
       "      <td>2</td>\n",
       "      <td>3</td>\n",
       "    </tr>\n",
       "    <tr>\n",
       "      <th>savgol__window_length</th>\n",
       "      <td>16</td>\n",
       "      <td>14</td>\n",
       "      <td>16</td>\n",
       "      <td>16</td>\n",
       "      <td>14</td>\n",
       "    </tr>\n",
       "    <tr>\n",
       "      <th>trimmer__wavemax</th>\n",
       "      <td>1348</td>\n",
       "      <td>1410</td>\n",
       "      <td>1320</td>\n",
       "      <td>1408</td>\n",
       "      <td>1436</td>\n",
       "    </tr>\n",
       "    <tr>\n",
       "      <th>trimmer__wavemin</th>\n",
       "      <td>1164</td>\n",
       "      <td>1180</td>\n",
       "      <td>994</td>\n",
       "      <td>1148</td>\n",
       "      <td>1032</td>\n",
       "    </tr>\n",
       "    <tr>\n",
       "      <th>RMSE CV train</th>\n",
       "      <td>NaN</td>\n",
       "      <td>NaN</td>\n",
       "      <td>NaN</td>\n",
       "      <td>NaN</td>\n",
       "      <td>NaN</td>\n",
       "    </tr>\n",
       "    <tr>\n",
       "      <th>RMSE test</th>\n",
       "      <td>NaN</td>\n",
       "      <td>NaN</td>\n",
       "      <td>NaN</td>\n",
       "      <td>NaN</td>\n",
       "      <td>NaN</td>\n",
       "    </tr>\n",
       "    <tr>\n",
       "      <th>R2 CV train</th>\n",
       "      <td>NaN</td>\n",
       "      <td>NaN</td>\n",
       "      <td>NaN</td>\n",
       "      <td>NaN</td>\n",
       "      <td>NaN</td>\n",
       "    </tr>\n",
       "    <tr>\n",
       "      <th>R2 test</th>\n",
       "      <td>NaN</td>\n",
       "      <td>NaN</td>\n",
       "      <td>NaN</td>\n",
       "      <td>NaN</td>\n",
       "      <td>NaN</td>\n",
       "    </tr>\n",
       "  </tbody>\n",
       "</table>\n",
       "</div>"
      ],
      "text/plain": [
       "                             0         1        2        3        4\n",
       "C                      3.28754   2.42541  2.02549  6.13461  2.11685\n",
       "SNV                      False     False    False    False    False\n",
       "epsilon                2.93634  0.285265  3.16297  4.05528  5.97453\n",
       "kernel                       1         1        1        1        1\n",
       "log1op                    True      True     True     True     True\n",
       "pca                          5         8       10       12       15\n",
       "savgol                    True      True     True     True     True\n",
       "savgol__deriv                2         1        1        1        2\n",
       "savgol__polyorder            3         2        2        2        3\n",
       "savgol__window_length       16        14       16       16       14\n",
       "trimmer__wavemax          1348      1410     1320     1408     1436\n",
       "trimmer__wavemin          1164      1180      994     1148     1032\n",
       "RMSE CV train              NaN       NaN      NaN      NaN      NaN\n",
       "RMSE test                  NaN       NaN      NaN      NaN      NaN\n",
       "R2 CV train                NaN       NaN      NaN      NaN      NaN\n",
       "R2 test                    NaN       NaN      NaN      NaN      NaN"
      ]
     },
     "execution_count": 30,
     "metadata": {},
     "output_type": "execute_result"
    }
   ],
   "source": [
    "dataset = pd.DataFrame(cleaned)#.set_index('pca')\n",
    "\n",
    "errors = [1 ,2 ,3 ,4 ,6 ,8, 10]\n",
    "\n",
    "dataset = dataset.join(pd.DataFrame({'RMSE CV train':[np.nan], 'RMSE test':[np.nan],\n",
    "                             'R2 CV train':[np.nan], 'R2 test':[np.nan],\n",
    "                           #**{'Pred +/- {}'.format(x):[np.nan] for x in errors}\n",
    "                              }))\n",
    "\n",
    "dataset.T"
   ]
  },
  {
   "cell_type": "code",
   "execution_count": 51,
   "metadata": {},
   "outputs": [
    {
     "name": "stdout",
     "output_type": "stream",
     "text": [
      "Done!\n"
     ]
    }
   ],
   "source": [
    "for index, best in dataset.iterrows():\n",
    "    lrpipelist1 = [('trimmer', Trimmer(wavemin=int(best.trimmer__wavemin), wavemax=int(best.trimmer__wavemax))) ]\n",
    "\n",
    "    if best.SNV:\n",
    "        lrpipelist1.append( ('snv', Snv()) )\n",
    "    lrpipelist1.append(('savgol', Savgol(window_length=int(best.savgol__window_length)+1, polyorder=int(best.savgol__polyorder), deriv=int(best.savgol__deriv), )))\n",
    "    if best.log1op:\n",
    "        lrpipelist1.append(('log1over', log1over))\n",
    "    lrpipelist1.append(('scaler', scaler))\n",
    "    lrpipelist1.append(('pca', PCA(n_components=int(best.pca), random_state=0)))\n",
    "    #print(best.pca)\n",
    "\n",
    "    pipe1 = Pipeline(lrpipelist1)\n",
    "    \n",
    "    params = {\n",
    "            'epsilon': best.epsilon,\n",
    "            'C': best.C,\n",
    "            'kernel':kernels[best.kernel],\n",
    "            }\n",
    "    #print(pipe1)\n",
    "    svr = SVR(**params)\n",
    "    \n",
    "    Xtrans = pipe1.fit_transform(X_train)\n",
    "    preds_train = cross_val_predict(svr, Xtrans, y_train, cv=kf, n_jobs=-2)\n",
    "    \n",
    "    #Fit with best parameters\n",
    "    svr.fit(Xtrans, y_train)\n",
    "    Xtranstest = pipe1.transform(X_test)\n",
    "    preds_test = svr.predict(Xtranstest)\n",
    "\n",
    "    dataset['kernel'].loc[index]        = kernels[best.kernel]\n",
    "    dataset['RMSE CV train'].loc[index] = (mean_squared_error(y_train, preds_train, ))**.5\n",
    "    dataset['RMSE test'].loc[index]     = (mean_squared_error(y_test, preds_test, ))**.5\n",
    "    dataset['R2 CV train'].loc[index]   = r2_score(y_train, preds_train)\n",
    "    dataset['R2 test'].loc[index]       = r2_score(y_test, preds_test)\n",
    "    \n",
    "    for error in errors:\n",
    "        pass\n",
    "print('Done!')"
   ]
  },
  {
   "cell_type": "code",
   "execution_count": 52,
   "metadata": {},
   "outputs": [
    {
     "data": {
      "text/plain": [
       "(196,)"
      ]
     },
     "execution_count": 52,
     "metadata": {},
     "output_type": "execute_result"
    }
   ],
   "source": [
    "y_test.shape"
   ]
  },
  {
   "cell_type": "code",
   "execution_count": 53,
   "metadata": {},
   "outputs": [
    {
     "data": {
      "text/html": [
       "<div>\n",
       "<style scoped>\n",
       "    .dataframe tbody tr th:only-of-type {\n",
       "        vertical-align: middle;\n",
       "    }\n",
       "\n",
       "    .dataframe tbody tr th {\n",
       "        vertical-align: top;\n",
       "    }\n",
       "\n",
       "    .dataframe thead th {\n",
       "        text-align: right;\n",
       "    }\n",
       "</style>\n",
       "<table border=\"1\" class=\"dataframe\">\n",
       "  <thead>\n",
       "    <tr style=\"text-align: right;\">\n",
       "      <th>pca</th>\n",
       "      <th>5</th>\n",
       "      <th>8</th>\n",
       "      <th>10</th>\n",
       "      <th>12</th>\n",
       "      <th>15</th>\n",
       "    </tr>\n",
       "  </thead>\n",
       "  <tbody>\n",
       "    <tr>\n",
       "      <th>C</th>\n",
       "      <td>3.28754</td>\n",
       "      <td>2.42541</td>\n",
       "      <td>2.02549</td>\n",
       "      <td>6.13461</td>\n",
       "      <td>2.11685</td>\n",
       "    </tr>\n",
       "    <tr>\n",
       "      <th>SNV</th>\n",
       "      <td>False</td>\n",
       "      <td>False</td>\n",
       "      <td>False</td>\n",
       "      <td>False</td>\n",
       "      <td>False</td>\n",
       "    </tr>\n",
       "    <tr>\n",
       "      <th>epsilon</th>\n",
       "      <td>2.93634</td>\n",
       "      <td>0.285265</td>\n",
       "      <td>3.16297</td>\n",
       "      <td>4.05528</td>\n",
       "      <td>5.97453</td>\n",
       "    </tr>\n",
       "    <tr>\n",
       "      <th>kernel</th>\n",
       "      <td>linear</td>\n",
       "      <td>linear</td>\n",
       "      <td>linear</td>\n",
       "      <td>linear</td>\n",
       "      <td>linear</td>\n",
       "    </tr>\n",
       "    <tr>\n",
       "      <th>log1op</th>\n",
       "      <td>True</td>\n",
       "      <td>True</td>\n",
       "      <td>True</td>\n",
       "      <td>True</td>\n",
       "      <td>True</td>\n",
       "    </tr>\n",
       "    <tr>\n",
       "      <th>savgol</th>\n",
       "      <td>True</td>\n",
       "      <td>True</td>\n",
       "      <td>True</td>\n",
       "      <td>True</td>\n",
       "      <td>True</td>\n",
       "    </tr>\n",
       "    <tr>\n",
       "      <th>savgol__deriv</th>\n",
       "      <td>2</td>\n",
       "      <td>1</td>\n",
       "      <td>1</td>\n",
       "      <td>1</td>\n",
       "      <td>2</td>\n",
       "    </tr>\n",
       "    <tr>\n",
       "      <th>savgol__polyorder</th>\n",
       "      <td>3</td>\n",
       "      <td>2</td>\n",
       "      <td>2</td>\n",
       "      <td>2</td>\n",
       "      <td>3</td>\n",
       "    </tr>\n",
       "    <tr>\n",
       "      <th>savgol__window_length</th>\n",
       "      <td>16</td>\n",
       "      <td>14</td>\n",
       "      <td>16</td>\n",
       "      <td>16</td>\n",
       "      <td>14</td>\n",
       "    </tr>\n",
       "    <tr>\n",
       "      <th>trimmer__wavemax</th>\n",
       "      <td>1348</td>\n",
       "      <td>1410</td>\n",
       "      <td>1320</td>\n",
       "      <td>1408</td>\n",
       "      <td>1436</td>\n",
       "    </tr>\n",
       "    <tr>\n",
       "      <th>trimmer__wavemin</th>\n",
       "      <td>1164</td>\n",
       "      <td>1180</td>\n",
       "      <td>994</td>\n",
       "      <td>1148</td>\n",
       "      <td>1032</td>\n",
       "    </tr>\n",
       "    <tr>\n",
       "      <th>RMSE CV train</th>\n",
       "      <td>5.53781</td>\n",
       "      <td>5.02285</td>\n",
       "      <td>4.94196</td>\n",
       "      <td>4.85237</td>\n",
       "      <td>4.54786</td>\n",
       "    </tr>\n",
       "    <tr>\n",
       "      <th>RMSE test</th>\n",
       "      <td>4.91249</td>\n",
       "      <td>5.05756</td>\n",
       "      <td>4.86866</td>\n",
       "      <td>4.56915</td>\n",
       "      <td>4.49731</td>\n",
       "    </tr>\n",
       "    <tr>\n",
       "      <th>R2 CV train</th>\n",
       "      <td>0.612835</td>\n",
       "      <td>0.681492</td>\n",
       "      <td>0.691668</td>\n",
       "      <td>0.702745</td>\n",
       "      <td>0.738883</td>\n",
       "    </tr>\n",
       "    <tr>\n",
       "      <th>R2 test</th>\n",
       "      <td>0.667489</td>\n",
       "      <td>0.647562</td>\n",
       "      <td>0.673396</td>\n",
       "      <td>0.712344</td>\n",
       "      <td>0.721319</td>\n",
       "    </tr>\n",
       "  </tbody>\n",
       "</table>\n",
       "</div>"
      ],
      "text/plain": [
       "pca                          5         8         10        12        15\n",
       "C                       3.28754   2.42541   2.02549   6.13461   2.11685\n",
       "SNV                       False     False     False     False     False\n",
       "epsilon                 2.93634  0.285265   3.16297   4.05528   5.97453\n",
       "kernel                   linear    linear    linear    linear    linear\n",
       "log1op                     True      True      True      True      True\n",
       "savgol                     True      True      True      True      True\n",
       "savgol__deriv                 2         1         1         1         2\n",
       "savgol__polyorder             3         2         2         2         3\n",
       "savgol__window_length        16        14        16        16        14\n",
       "trimmer__wavemax           1348      1410      1320      1408      1436\n",
       "trimmer__wavemin           1164      1180       994      1148      1032\n",
       "RMSE CV train           5.53781   5.02285   4.94196   4.85237   4.54786\n",
       "RMSE test               4.91249   5.05756   4.86866   4.56915   4.49731\n",
       "R2 CV train            0.612835  0.681492  0.691668  0.702745  0.738883\n",
       "R2 test                0.667489  0.647562  0.673396  0.712344  0.721319"
      ]
     },
     "execution_count": 53,
     "metadata": {},
     "output_type": "execute_result"
    }
   ],
   "source": [
    "dataset.set_index('pca').T.to_csv('../data/SVR_analysis.csv')\n",
    "dataset.set_index('pca').T"
   ]
  },
  {
   "cell_type": "code",
   "execution_count": null,
   "metadata": {},
   "outputs": [],
   "source": []
  },
  {
   "cell_type": "code",
   "execution_count": null,
   "metadata": {},
   "outputs": [],
   "source": []
  },
  {
   "cell_type": "code",
   "execution_count": null,
   "metadata": {},
   "outputs": [],
   "source": []
  }
 ],
 "metadata": {
  "kernelspec": {
   "display_name": "Python 3",
   "language": "python",
   "name": "python3"
  },
  "language_info": {
   "codemirror_mode": {
    "name": "ipython",
    "version": 3
   },
   "file_extension": ".py",
   "mimetype": "text/x-python",
   "name": "python",
   "nbconvert_exporter": "python",
   "pygments_lexer": "ipython3",
   "version": "3.6.6"
  }
 },
 "nbformat": 4,
 "nbformat_minor": 2
}
