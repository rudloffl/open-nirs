{
 "cells": [
  {
   "cell_type": "code",
   "execution_count": 1,
   "metadata": {},
   "outputs": [],
   "source": [
    "import numpy as np\n",
    "import pandas as pd\n",
    "import matplotlib.pyplot as plt"
   ]
  },
  {
   "cell_type": "code",
   "execution_count": 2,
   "metadata": {},
   "outputs": [],
   "source": [
    "# Font modification\n",
    "#plt.rcParams['font.sans-serif'] = \"Times New Roman\"\n",
    "#plt.rcParams['font.family'] = \"sans-serif\"\n",
    "plt.rcParams['font.size'] = 18\n"
   ]
  },
  {
   "cell_type": "code",
   "execution_count": 3,
   "metadata": {},
   "outputs": [],
   "source": [
    "# Use with caution\n",
    "if True:\n",
    "    import warnings\n",
    "    warnings.filterwarnings(\"ignore\")"
   ]
  },
  {
   "cell_type": "markdown",
   "metadata": {},
   "source": [
    "# Data loading and assembly"
   ]
  },
  {
   "cell_type": "code",
   "execution_count": 4,
   "metadata": {},
   "outputs": [
    {
     "name": "stdout",
     "output_type": "stream",
     "text": [
      "(591, 293)\n"
     ]
    },
    {
     "data": {
      "text/html": [
       "<div>\n",
       "<style scoped>\n",
       "    .dataframe tbody tr th:only-of-type {\n",
       "        vertical-align: middle;\n",
       "    }\n",
       "\n",
       "    .dataframe tbody tr th {\n",
       "        vertical-align: top;\n",
       "    }\n",
       "\n",
       "    .dataframe thead th {\n",
       "        text-align: right;\n",
       "    }\n",
       "</style>\n",
       "<table border=\"1\" class=\"dataframe\">\n",
       "  <thead>\n",
       "    <tr style=\"text-align: right;\">\n",
       "      <th></th>\n",
       "      <th>target</th>\n",
       "      <th>sampleID</th>\n",
       "      <th>950</th>\n",
       "      <th>952</th>\n",
       "      <th>954</th>\n",
       "      <th>956</th>\n",
       "      <th>958</th>\n",
       "      <th>960</th>\n",
       "      <th>962</th>\n",
       "      <th>964</th>\n",
       "      <th>...</th>\n",
       "      <th>1512</th>\n",
       "      <th>1514</th>\n",
       "      <th>1516</th>\n",
       "      <th>1518</th>\n",
       "      <th>1520</th>\n",
       "      <th>1522</th>\n",
       "      <th>1524</th>\n",
       "      <th>1526</th>\n",
       "      <th>1528</th>\n",
       "      <th>1530</th>\n",
       "    </tr>\n",
       "  </thead>\n",
       "  <tbody>\n",
       "    <tr>\n",
       "      <th>0</th>\n",
       "      <td>94.333333</td>\n",
       "      <td>0.0</td>\n",
       "      <td>36.723839</td>\n",
       "      <td>35.745964</td>\n",
       "      <td>34.811623</td>\n",
       "      <td>33.955212</td>\n",
       "      <td>33.197552</td>\n",
       "      <td>32.570518</td>\n",
       "      <td>32.147972</td>\n",
       "      <td>31.807793</td>\n",
       "      <td>...</td>\n",
       "      <td>0.791820</td>\n",
       "      <td>0.831189</td>\n",
       "      <td>0.883438</td>\n",
       "      <td>0.940272</td>\n",
       "      <td>0.993729</td>\n",
       "      <td>1.046867</td>\n",
       "      <td>1.098642</td>\n",
       "      <td>1.152454</td>\n",
       "      <td>1.215338</td>\n",
       "      <td>1.271571</td>\n",
       "    </tr>\n",
       "    <tr>\n",
       "      <th>1</th>\n",
       "      <td>94.333333</td>\n",
       "      <td>0.0</td>\n",
       "      <td>36.369366</td>\n",
       "      <td>35.383987</td>\n",
       "      <td>34.443897</td>\n",
       "      <td>33.584080</td>\n",
       "      <td>32.823158</td>\n",
       "      <td>32.192280</td>\n",
       "      <td>31.770844</td>\n",
       "      <td>31.431589</td>\n",
       "      <td>...</td>\n",
       "      <td>0.685869</td>\n",
       "      <td>0.728103</td>\n",
       "      <td>0.785778</td>\n",
       "      <td>0.845810</td>\n",
       "      <td>0.902551</td>\n",
       "      <td>0.961095</td>\n",
       "      <td>1.017545</td>\n",
       "      <td>1.073209</td>\n",
       "      <td>1.138063</td>\n",
       "      <td>1.196826</td>\n",
       "    </tr>\n",
       "    <tr>\n",
       "      <th>2</th>\n",
       "      <td>94.333333</td>\n",
       "      <td>0.0</td>\n",
       "      <td>35.385422</td>\n",
       "      <td>34.405182</td>\n",
       "      <td>33.466976</td>\n",
       "      <td>32.614578</td>\n",
       "      <td>31.862633</td>\n",
       "      <td>31.242191</td>\n",
       "      <td>30.828016</td>\n",
       "      <td>30.496775</td>\n",
       "      <td>...</td>\n",
       "      <td>0.618997</td>\n",
       "      <td>0.659589</td>\n",
       "      <td>0.712821</td>\n",
       "      <td>0.769303</td>\n",
       "      <td>0.822148</td>\n",
       "      <td>0.875681</td>\n",
       "      <td>0.929040</td>\n",
       "      <td>0.979519</td>\n",
       "      <td>1.040625</td>\n",
       "      <td>1.100850</td>\n",
       "    </tr>\n",
       "    <tr>\n",
       "      <th>3</th>\n",
       "      <td>94.333333</td>\n",
       "      <td>0.0</td>\n",
       "      <td>35.121685</td>\n",
       "      <td>34.145687</td>\n",
       "      <td>33.217796</td>\n",
       "      <td>32.374218</td>\n",
       "      <td>31.630789</td>\n",
       "      <td>31.019081</td>\n",
       "      <td>30.611959</td>\n",
       "      <td>30.286642</td>\n",
       "      <td>...</td>\n",
       "      <td>0.751016</td>\n",
       "      <td>0.796110</td>\n",
       "      <td>0.852175</td>\n",
       "      <td>0.909087</td>\n",
       "      <td>0.965727</td>\n",
       "      <td>1.024710</td>\n",
       "      <td>1.080235</td>\n",
       "      <td>1.133445</td>\n",
       "      <td>1.197904</td>\n",
       "      <td>1.262516</td>\n",
       "    </tr>\n",
       "    <tr>\n",
       "      <th>4</th>\n",
       "      <td>76.333333</td>\n",
       "      <td>1.0</td>\n",
       "      <td>36.185947</td>\n",
       "      <td>35.209904</td>\n",
       "      <td>34.280155</td>\n",
       "      <td>33.430157</td>\n",
       "      <td>32.679989</td>\n",
       "      <td>32.062084</td>\n",
       "      <td>31.647160</td>\n",
       "      <td>31.312046</td>\n",
       "      <td>...</td>\n",
       "      <td>1.001077</td>\n",
       "      <td>1.051815</td>\n",
       "      <td>1.112780</td>\n",
       "      <td>1.175900</td>\n",
       "      <td>1.240040</td>\n",
       "      <td>1.304035</td>\n",
       "      <td>1.365576</td>\n",
       "      <td>1.426388</td>\n",
       "      <td>1.495515</td>\n",
       "      <td>1.561842</td>\n",
       "    </tr>\n",
       "  </tbody>\n",
       "</table>\n",
       "<p>5 rows × 293 columns</p>\n",
       "</div>"
      ],
      "text/plain": [
       "      target  sampleID        950        952        954        956        958  \\\n",
       "0  94.333333       0.0  36.723839  35.745964  34.811623  33.955212  33.197552   \n",
       "1  94.333333       0.0  36.369366  35.383987  34.443897  33.584080  32.823158   \n",
       "2  94.333333       0.0  35.385422  34.405182  33.466976  32.614578  31.862633   \n",
       "3  94.333333       0.0  35.121685  34.145687  33.217796  32.374218  31.630789   \n",
       "4  76.333333       1.0  36.185947  35.209904  34.280155  33.430157  32.679989   \n",
       "\n",
       "         960        962        964    ...         1512      1514      1516  \\\n",
       "0  32.570518  32.147972  31.807793    ...     0.791820  0.831189  0.883438   \n",
       "1  32.192280  31.770844  31.431589    ...     0.685869  0.728103  0.785778   \n",
       "2  31.242191  30.828016  30.496775    ...     0.618997  0.659589  0.712821   \n",
       "3  31.019081  30.611959  30.286642    ...     0.751016  0.796110  0.852175   \n",
       "4  32.062084  31.647160  31.312046    ...     1.001077  1.051815  1.112780   \n",
       "\n",
       "       1518      1520      1522      1524      1526      1528      1530  \n",
       "0  0.940272  0.993729  1.046867  1.098642  1.152454  1.215338  1.271571  \n",
       "1  0.845810  0.902551  0.961095  1.017545  1.073209  1.138063  1.196826  \n",
       "2  0.769303  0.822148  0.875681  0.929040  0.979519  1.040625  1.100850  \n",
       "3  0.909087  0.965727  1.024710  1.080235  1.133445  1.197904  1.262516  \n",
       "4  1.175900  1.240040  1.304035  1.365576  1.426388  1.495515  1.561842  \n",
       "\n",
       "[5 rows x 293 columns]"
      ]
     },
     "execution_count": 4,
     "metadata": {},
     "output_type": "execute_result"
    }
   ],
   "source": [
    "spectra = pd.read_csv('../data/cleanedset.csv')\n",
    "columns = ['target', 'sampleID'] \n",
    "columns.extend([str(x) for x in range(950, 1530+1,2)])\n",
    "spectra = spectra[columns]\n",
    "print(spectra.shape)\n",
    "spectra.head()"
   ]
  },
  {
   "cell_type": "markdown",
   "metadata": {},
   "source": [
    "# Regression"
   ]
  },
  {
   "cell_type": "code",
   "execution_count": 5,
   "metadata": {},
   "outputs": [],
   "source": [
    "from sklearn.pipeline import Pipeline\n",
    "from sklearn.model_selection import GridSearchCV\n",
    "from sklearn.model_selection import cross_val_score\n",
    "from sklearn.model_selection import cross_val_predict\n",
    "from sklearn.metrics import mean_squared_error\n",
    "from sklearn.base import BaseEstimator, TransformerMixin\n",
    "from sklearn.pipeline import make_union"
   ]
  },
  {
   "cell_type": "markdown",
   "metadata": {},
   "source": [
    "## Folds definition"
   ]
  },
  {
   "cell_type": "code",
   "execution_count": 6,
   "metadata": {},
   "outputs": [],
   "source": [
    "from sklearn.model_selection import KFold\n",
    "kf = KFold(n_splits=5, shuffle=False, random_state=47)"
   ]
  },
  {
   "cell_type": "markdown",
   "metadata": {},
   "source": [
    "# Splits definition"
   ]
  },
  {
   "cell_type": "code",
   "execution_count": 7,
   "metadata": {},
   "outputs": [],
   "source": [
    "from sklearn.model_selection import train_test_split"
   ]
  },
  {
   "cell_type": "code",
   "execution_count": 8,
   "metadata": {},
   "outputs": [],
   "source": [
    "spectra[(spectra['target'] > 72) & (spectra['target'] < 72.5)]\n",
    "spectra.drop([72,73,74,75], inplace=True)"
   ]
  },
  {
   "cell_type": "code",
   "execution_count": 9,
   "metadata": {},
   "outputs": [],
   "source": [
    "X_train, X_test, y_train, y_test = train_test_split(spectra, spectra['target'], test_size=0.33, random_state=53)"
   ]
  },
  {
   "cell_type": "markdown",
   "metadata": {},
   "source": [
    "## Data trimmer"
   ]
  },
  {
   "cell_type": "code",
   "execution_count": 10,
   "metadata": {},
   "outputs": [
    {
     "data": {
      "text/plain": [
       "(393, 105)"
      ]
     },
     "execution_count": 10,
     "metadata": {},
     "output_type": "execute_result"
    }
   ],
   "source": [
    "class Trimmer(BaseEstimator, TransformerMixin):\n",
    "    \"\"\"Apply a lambda feature\"\"\"\n",
    "    def __init__(self,wavemin=950, wavemax=1530):# \n",
    "        self.wavemin = wavemin\n",
    "        self.wavemax = wavemax\n",
    "    \n",
    "    def fit(self, X, y=None):\n",
    "        return self\n",
    "    \n",
    "    def transform(self, X, y=None):\n",
    "        colnames = [str(x) for x in range(self.wavemin, self.wavemax+1,2)]\n",
    "        return X[colnames]\n",
    "\n",
    "params={'wavemin':992, 'wavemax':1200,}\n",
    "trimmer = Trimmer(**params)\n",
    "Xtr = trimmer.fit_transform(X_train)\n",
    "Xtr.shape"
   ]
  },
  {
   "cell_type": "code",
   "execution_count": null,
   "metadata": {},
   "outputs": [],
   "source": []
  },
  {
   "cell_type": "markdown",
   "metadata": {},
   "source": [
    "## Savgol filter"
   ]
  },
  {
   "cell_type": "markdown",
   "metadata": {},
   "source": [
    "https://en.wikipedia.org/wiki/Savitzky%E2%80%93Golay_filter"
   ]
  },
  {
   "cell_type": "code",
   "execution_count": 11,
   "metadata": {},
   "outputs": [
    {
     "data": {
      "text/plain": [
       "(393, 293)"
      ]
     },
     "execution_count": 11,
     "metadata": {},
     "output_type": "execute_result"
    }
   ],
   "source": [
    "from scipy.signal import savgol_filter\n",
    "\n",
    "class Savgol(BaseEstimator, TransformerMixin):\n",
    "    \"\"\"Apply a lambda feature\"\"\"\n",
    "    def __init__(self, window_length=5, polyorder=2, deriv=0):# \n",
    "        self.window_length = window_length\n",
    "        self.polyorder = polyorder\n",
    "        self.deriv = deriv\n",
    "    \n",
    "    def fit(self, X, y=None):\n",
    "        return self\n",
    "    \n",
    "    def transform(self, X, y=None):\n",
    "        df = X.copy(deep=True)\n",
    "        toreturn = df.apply(savgol_filter, args=(self.window_length, self.polyorder, self.deriv,1. , 0, 'nearest'), axis=1, raw=True, result_type='broadcast')\n",
    "        return toreturn\n",
    "\n",
    "params={'window_length':27, 'polyorder':2, 'deriv':2}\n",
    "savgol = Savgol(**params)\n",
    "Xtr = savgol.fit_transform(X_train)\n",
    "Xtr.shape"
   ]
  },
  {
   "cell_type": "code",
   "execution_count": 12,
   "metadata": {},
   "outputs": [
    {
     "data": {
      "image/png": "[encoded data removed]",
      "text/plain": [
       "<Figure size 1080x720 with 1 Axes>"
      ]
     },
     "metadata": {},
     "output_type": "display_data"
    }
   ],
   "source": [
    "df = savgol.transform(spectra)\n",
    "df.head(50).T.plot(legend=None, figsize=(15,10))\n",
    "plt.xlabel('Wave Length')\n",
    "plt.ylabel('1rst derivative')\n",
    "plt.show()"
   ]
  },
  {
   "cell_type": "markdown",
   "metadata": {},
   "source": [
    "## Log(1/(p+n))"
   ]
  },
  {
   "cell_type": "code",
   "execution_count": 13,
   "metadata": {},
   "outputs": [
    {
     "data": {
      "text/plain": [
       "(393, 293)"
      ]
     },
     "execution_count": 13,
     "metadata": {},
     "output_type": "execute_result"
    }
   ],
   "source": [
    "class Log1overN(BaseEstimator, TransformerMixin):\n",
    "    def __init__(self, n=1):# \n",
    "        self.n = n\n",
    "    \n",
    "    def fit(self, X, y=None):\n",
    "        return self\n",
    "    \n",
    "    def transform(self, X, y=None):\n",
    "        df = X.copy(deep=True)\n",
    "        toreturn = df.apply(lambda x:np.log(1/(x+self.n)), axis=0)\n",
    "        return toreturn\n",
    "\n",
    "log1over = Log1overN(n=3)\n",
    "log1over.fit_transform(X_train).shape"
   ]
  },
  {
   "cell_type": "markdown",
   "metadata": {},
   "source": [
    "## SNV"
   ]
  },
  {
   "cell_type": "code",
   "execution_count": 14,
   "metadata": {},
   "outputs": [
    {
     "data": {
      "text/plain": [
       "(393, 293)"
      ]
     },
     "execution_count": 14,
     "metadata": {},
     "output_type": "execute_result"
    }
   ],
   "source": [
    "class Snv(BaseEstimator, TransformerMixin):\n",
    "    def __init__(self,):# \n",
    "        pass\n",
    "    \n",
    "    def fit(self, X, y=None):\n",
    "        return self\n",
    "    \n",
    "    def transform(self, X, y=None):\n",
    "        data_snv = np.zeros_like(X.values)\n",
    "        for i in range(X.shape[0]):\n",
    "            # Apply correction\n",
    "            data_snv[i,:] = (X.values[i,:] - np.mean(X.values[i,:])) / np.std(X.values[i,:])\n",
    "        return pd.DataFrame(data_snv, columns=X.columns, index=X.index)\n",
    "\n",
    "snv = Snv()\n",
    "snv.fit_transform(X_train).shape"
   ]
  },
  {
   "cell_type": "markdown",
   "metadata": {},
   "source": [
    "## Blocs creation"
   ]
  },
  {
   "cell_type": "code",
   "execution_count": 15,
   "metadata": {},
   "outputs": [],
   "source": [
    "trimmer = Trimmer()"
   ]
  },
  {
   "cell_type": "code",
   "execution_count": 16,
   "metadata": {},
   "outputs": [],
   "source": [
    "params={'window_length':5, 'polyorder':2, 'deriv':1}\n",
    "savgol = Savgol(**params)"
   ]
  },
  {
   "cell_type": "code",
   "execution_count": 17,
   "metadata": {},
   "outputs": [],
   "source": [
    "snv = Snv()"
   ]
  },
  {
   "cell_type": "code",
   "execution_count": 18,
   "metadata": {},
   "outputs": [],
   "source": [
    "log1over = Log1overN(n=3)"
   ]
  },
  {
   "cell_type": "code",
   "execution_count": 19,
   "metadata": {},
   "outputs": [],
   "source": [
    "from sklearn.preprocessing import StandardScaler\n",
    "scaler = StandardScaler()"
   ]
  },
  {
   "cell_type": "code",
   "execution_count": 20,
   "metadata": {},
   "outputs": [],
   "source": [
    "from sklearn.decomposition import PCA\n",
    "pca = PCA(random_state=0)"
   ]
  },
  {
   "cell_type": "markdown",
   "metadata": {},
   "source": [
    "# Tree construction"
   ]
  },
  {
   "cell_type": "code",
   "execution_count": 21,
   "metadata": {},
   "outputs": [],
   "source": [
    "lrpipelist1 = [#\n",
    "               ('trimmer', trimmer),\n",
    "               ('snv', snv),\n",
    "               ('savgol', savgol),\n",
    "               ('log1over', log1over),\n",
    "               ('scaler', scaler),\n",
    "               ('pca', pca),\n",
    "                ] #\n",
    "pipe1 = Pipeline(lrpipelist1)\n",
    "#Xtrans = pipe1.fit_transform(spectra)#.shape"
   ]
  },
  {
   "cell_type": "code",
   "execution_count": 22,
   "metadata": {},
   "outputs": [
    {
     "data": {
      "text/plain": [
       "(393, 291)"
      ]
     },
     "execution_count": 22,
     "metadata": {},
     "output_type": "execute_result"
    }
   ],
   "source": [
    "pipe1.fit_transform(X_train).shape"
   ]
  },
  {
   "cell_type": "code",
   "execution_count": 23,
   "metadata": {},
   "outputs": [],
   "source": [
    "from sklearn.svm import SVR\n",
    "svr = SVR()"
   ]
  },
  {
   "cell_type": "code",
   "execution_count": 24,
   "metadata": {},
   "outputs": [],
   "source": [
    "listpipereg = [('pipe1', pipe1), ('svr', svr)] #\n",
    "pipereg = Pipeline(listpipereg)"
   ]
  },
  {
   "cell_type": "code",
   "execution_count": 25,
   "metadata": {},
   "outputs": [
    {
     "data": {
      "text/plain": [
       "Pipeline(memory=None,\n",
       "     steps=[('pipe1', Pipeline(memory=None,\n",
       "     steps=[('trimmer', Trimmer(wavemax=1530, wavemin=950)), ('snv', Snv()), ('savgol', Savgol(deriv=1, polyorder=2, window_length=5)), ('log1over', Log1overN(n=3)), ('scaler', StandardScaler(copy=True, with_mean=True, with_std=True)), ('pca', PCA(copy=True, it... epsilon=0.1, gamma='auto',\n",
       "  kernel='rbf', max_iter=-1, shrinking=True, tol=0.001, verbose=False))])"
      ]
     },
     "execution_count": 25,
     "metadata": {},
     "output_type": "execute_result"
    }
   ],
   "source": [
    "pipereg.fit(X_train, y_train)"
   ]
  },
  {
   "cell_type": "code",
   "execution_count": null,
   "metadata": {},
   "outputs": [],
   "source": []
  },
  {
   "cell_type": "code",
   "execution_count": null,
   "metadata": {},
   "outputs": [],
   "source": []
  },
  {
   "cell_type": "markdown",
   "metadata": {},
   "source": [
    "### HyperOpt"
   ]
  },
  {
   "cell_type": "code",
   "execution_count": 26,
   "metadata": {},
   "outputs": [
    {
     "data": {
      "text/plain": [
       "dict_keys(['memory', 'steps', 'trimmer', 'snv', 'savgol', 'log1over', 'scaler', 'pca', 'trimmer__wavemax', 'trimmer__wavemin', 'savgol__deriv', 'savgol__polyorder', 'savgol__window_length', 'log1over__n', 'scaler__copy', 'scaler__with_mean', 'scaler__with_std', 'pca__copy', 'pca__iterated_power', 'pca__n_components', 'pca__random_state', 'pca__svd_solver', 'pca__tol', 'pca__whiten'])"
      ]
     },
     "execution_count": 26,
     "metadata": {},
     "output_type": "execute_result"
    }
   ],
   "source": [
    "pipe1.get_params().keys()"
   ]
  },
  {
   "cell_type": "code",
   "execution_count": 27,
   "metadata": {},
   "outputs": [],
   "source": [
    "from hyperopt import hp, tpe\n",
    "from hyperopt.fmin import fmin"
   ]
  },
  {
   "cell_type": "code",
   "execution_count": 28,
   "metadata": {},
   "outputs": [],
   "source": [
    "from sklearn.metrics import r2_score"
   ]
  },
  {
   "cell_type": "code",
   "execution_count": 29,
   "metadata": {},
   "outputs": [
    {
     "name": "stdout",
     "output_type": "stream",
     "text": [
      "1 - RMSECV 53.49770531798175 - {'C': 0.15102055117126256, 'epsilon': 3.7731707625902073, 'kernel': 'linear', 'savgol__deriv': 1.0, 'savgol__polyorder': 3.0, 'savgol__window_length': 12.0, 'trimmer__wavemax': 1352.0, 'trimmer__wavemin': 1024.0}\n",
      "5 - RMSECV 51.709487331889186 - {'C': 5.67878052930074, 'epsilon': 4.655917304451177, 'kernel': 'linear', 'savgol__deriv': 1.0, 'savgol__polyorder': 2.0, 'savgol__window_length': 18.0, 'trimmer__wavemax': 1366.0, 'trimmer__wavemin': 1126.0}\n",
      "8 - RMSECV 45.48372437794603 - {'C': 3.018196282034905, 'epsilon': 1.089634717633701, 'kernel': 'linear', 'savgol__deriv': 2.0, 'savgol__polyorder': 3.0, 'savgol__window_length': 16.0, 'trimmer__wavemax': 1348.0, 'trimmer__wavemin': 1054.0}\n",
      "28 - RMSECV 44.5780306568033 - {'C': 4.641852422883277, 'epsilon': 0.2715302391001362, 'kernel': 'linear', 'savgol__deriv': 2.0, 'savgol__polyorder': 2.0, 'savgol__window_length': 16.0, 'trimmer__wavemax': 1312.0, 'trimmer__wavemin': 1086.0}\n",
      "33 - RMSECV 43.799436007611504 - {'C': 1.8862191316331587, 'epsilon': 0.8945591283405623, 'kernel': 'linear', 'savgol__deriv': 2.0, 'savgol__polyorder': 2.0, 'savgol__window_length': 18.0, 'trimmer__wavemax': 1406.0, 'trimmer__wavemin': 1122.0}\n",
      "34 - RMSECV 39.61928493399076 - {'C': 1.0763265479839306, 'epsilon': 0.31275507167959876, 'kernel': 'linear', 'savgol__deriv': 2.0, 'savgol__polyorder': 2.0, 'savgol__window_length': 18.0, 'trimmer__wavemax': 1444.0, 'trimmer__wavemin': 1192.0}\n",
      "35 - RMSECV 39.34444593414077 - {'C': 1.0407092015010586, 'epsilon': 0.8748309882673121, 'kernel': 'linear', 'savgol__deriv': 2.0, 'savgol__polyorder': 2.0, 'savgol__window_length': 18.0, 'trimmer__wavemax': 1438.0, 'trimmer__wavemin': 1190.0}\n",
      "40 - RMSECV 38.64294156923144 - {'C': 0.7341442575001603, 'epsilon': 0.3645968655764089, 'kernel': 'linear', 'savgol__deriv': 2.0, 'savgol__polyorder': 2.0, 'savgol__window_length': 14.0, 'trimmer__wavemax': 1428.0, 'trimmer__wavemin': 1200.0}\n",
      "61 - RMSECV 36.9083740606836 - {'C': 3.5452467542135744, 'epsilon': 5.719239171889338, 'kernel': 'linear', 'savgol__deriv': 1.0, 'savgol__polyorder': 2.0, 'savgol__window_length': 14.0, 'trimmer__wavemax': 1398.0, 'trimmer__wavemin': 1200.0}\n",
      "111 - RMSECV 36.39769268132595 - {'C': 0.2858564417743937, 'epsilon': 4.16149016258409, 'kernel': 'linear', 'savgol__deriv': 2.0, 'savgol__polyorder': 2.0, 'savgol__window_length': 16.0, 'trimmer__wavemax': 1338.0, 'trimmer__wavemin': 1158.0}\n",
      "117 - RMSECV 32.9439933909202 - {'C': 0.15619228384441514, 'epsilon': 5.915107353952515, 'kernel': 'linear', 'savgol__deriv': 2.0, 'savgol__polyorder': 2.0, 'savgol__window_length': 18.0, 'trimmer__wavemax': 1302.0, 'trimmer__wavemin': 1128.0}\n",
      "124 - RMSECV 32.57240490148129 - {'C': 0.40914295343166773, 'epsilon': 3.969071168896307, 'kernel': 'linear', 'savgol__deriv': 2.0, 'savgol__polyorder': 3.0, 'savgol__window_length': 18.0, 'trimmer__wavemax': 1300.0, 'trimmer__wavemin': 1134.0}\n",
      "125 - RMSECV 32.31483773916838 - {'C': 0.2949950607650361, 'epsilon': 2.3577238351035383, 'kernel': 'linear', 'savgol__deriv': 2.0, 'savgol__polyorder': 3.0, 'savgol__window_length': 18.0, 'trimmer__wavemax': 1300.0, 'trimmer__wavemin': 1132.0}\n",
      "154 - RMSECV 30.357953510859346 - {'C': 0.8975396325038983, 'epsilon': 3.0453569571543775, 'kernel': 'linear', 'savgol__deriv': 2.0, 'savgol__polyorder': 3.0, 'savgol__window_length': 16.0, 'trimmer__wavemax': 1330.0, 'trimmer__wavemin': 1162.0}\n",
      "156 - RMSECV 29.896133765407942 - {'C': 1.324217532212294, 'epsilon': 2.2909976442991, 'kernel': 'linear', 'savgol__deriv': 2.0, 'savgol__polyorder': 3.0, 'savgol__window_length': 16.0, 'trimmer__wavemax': 1348.0, 'trimmer__wavemin': 1168.0}\n",
      "159 - RMSECV 28.339010920646935 - {'C': 0.9967066193076164, 'epsilon': 1.0448596253581814, 'kernel': 'linear', 'savgol__deriv': 2.0, 'savgol__polyorder': 3.0, 'savgol__window_length': 16.0, 'trimmer__wavemax': 1344.0, 'trimmer__wavemin': 1166.0}\n",
      "5 --> [False, True, True, True, True] 28.339010920646935 {'C': 0.9967066193076164, 'epsilon': 1.0448596253581814, 'kernel': 1, 'savgol__deriv': 2.0, 'savgol__polyorder': 3.0, 'savgol__window_length': 16.0, 'trimmer__wavemax': 1344.0, 'trimmer__wavemin': 1166.0}\n",
      "1 - RMSECV 53.11327811217007 - {'C': 2.585522307680366, 'epsilon': 4.568771892542371, 'kernel': 'linear', 'savgol__deriv': 2.0, 'savgol__polyorder': 2.0, 'savgol__window_length': 10.0, 'trimmer__wavemax': 1366.0, 'trimmer__wavemin': 1122.0}\n",
      "3 - RMSECV 51.316205931638805 - {'C': 0.17536701292315074, 'epsilon': 0.7268179960035281, 'kernel': 'linear', 'savgol__deriv': 1.0, 'savgol__polyorder': 3.0, 'savgol__window_length': 16.0, 'trimmer__wavemax': 1506.0, 'trimmer__wavemin': 1078.0}\n",
      "14 - RMSECV 41.1093432125123 - {'C': 1.069987314258832, 'epsilon': 0.23695761867076767, 'kernel': 'linear', 'savgol__deriv': 2.0, 'savgol__polyorder': 2.0, 'savgol__window_length': 18.0, 'trimmer__wavemax': 1458.0, 'trimmer__wavemin': 1180.0}\n",
      "19 - RMSECV 40.01947291471383 - {'C': 0.5605000939449264, 'epsilon': 2.93807434915665, 'kernel': 'linear', 'savgol__deriv': 2.0, 'savgol__polyorder': 3.0, 'savgol__window_length': 18.0, 'trimmer__wavemax': 1346.0, 'trimmer__wavemin': 1062.0}\n",
      "26 - RMSECV 33.51328642915996 - {'C': 0.21388128883242527, 'epsilon': 3.4329741622705674, 'kernel': 'linear', 'savgol__deriv': 2.0, 'savgol__polyorder': 3.0, 'savgol__window_length': 14.0, 'trimmer__wavemax': 1342.0, 'trimmer__wavemin': 1200.0}\n",
      "79 - RMSECV 28.853649664555178 - {'C': 0.158012248644615, 'epsilon': 0.6987623220388681, 'kernel': 'linear', 'savgol__deriv': 2.0, 'savgol__polyorder': 3.0, 'savgol__window_length': 18.0, 'trimmer__wavemax': 1352.0, 'trimmer__wavemin': 1164.0}\n",
      "84 - RMSECV 28.72585310290741 - {'C': 0.6112047234611091, 'epsilon': 0.45079329248055056, 'kernel': 'linear', 'savgol__deriv': 2.0, 'savgol__polyorder': 3.0, 'savgol__window_length': 18.0, 'trimmer__wavemax': 1346.0, 'trimmer__wavemin': 1164.0}\n",
      "5 --> [False, True, False, True, True] 28.72585310290741 {'C': 0.6112047234611091, 'epsilon': 0.45079329248055056, 'kernel': 1, 'savgol__deriv': 2.0, 'savgol__polyorder': 3.0, 'savgol__window_length': 18.0, 'trimmer__wavemax': 1346.0, 'trimmer__wavemin': 1164.0}\n",
      "1 - RMSECV 129.121271398473 - {'C': 0.2548584801881878, 'epsilon': 2.1020212140628836, 'kernel': 'poly', 'savgol__deriv': 2.0, 'savgol__polyorder': 2.0, 'savgol__window_length': 12.0, 'trimmer__wavemax': 1522.0, 'trimmer__wavemin': 1058.0}\n",
      "2 - RMSECV 29.48634716706254 - {'C': 0.19745554038713545, 'epsilon': 0.3002166100618804, 'kernel': 'linear', 'savgol__deriv': 2.0, 'savgol__polyorder': 3.0, 'savgol__window_length': 12.0, 'trimmer__wavemax': 1400.0, 'trimmer__wavemin': 1066.0}\n",
      "9 - RMSECV 26.98933208952936 - {'C': 3.0057733142669902, 'epsilon': 1.1116646326354302, 'kernel': 'linear', 'savgol__deriv': 2.0, 'savgol__polyorder': 2.0, 'savgol__window_length': 12.0, 'trimmer__wavemax': 1404.0, 'trimmer__wavemin': 1136.0}\n",
      "13 - RMSECV 26.62918469171243 - {'C': 0.3864694348754447, 'epsilon': 0.9058540308817182, 'kernel': 'linear', 'savgol__deriv': 1.0, 'savgol__polyorder': 3.0, 'savgol__window_length': 10.0, 'trimmer__wavemax': 1428.0, 'trimmer__wavemin': 1166.0}\n",
      "30 - RMSECV 26.562901857085418 - {'C': 0.5483974033350595, 'epsilon': 1.2038547565795357, 'kernel': 'linear', 'savgol__deriv': 1.0, 'savgol__polyorder': 3.0, 'savgol__window_length': 10.0, 'trimmer__wavemax': 1366.0, 'trimmer__wavemin': 1170.0}\n",
      "37 - RMSECV 26.308752643692834 - {'C': 0.905325480672616, 'epsilon': 2.908012351544129, 'kernel': 'linear', 'savgol__deriv': 1.0, 'savgol__polyorder': 3.0, 'savgol__window_length': 12.0, 'trimmer__wavemax': 1390.0, 'trimmer__wavemin': 1144.0}\n",
      "42 - RMSECV 26.097055141933268 - {'C': 1.143468382507692, 'epsilon': 4.533040619476252, 'kernel': 'linear', 'savgol__deriv': 1.0, 'savgol__polyorder': 3.0, 'savgol__window_length': 12.0, 'trimmer__wavemax': 1392.0, 'trimmer__wavemin': 1080.0}\n",
      "44 - RMSECV 23.828854439988564 - {'C': 3.1284565824199992, 'epsilon': 4.393003498674342, 'kernel': 'linear', 'savgol__deriv': 1.0, 'savgol__polyorder': 3.0, 'savgol__window_length': 16.0, 'trimmer__wavemax': 1348.0, 'trimmer__wavemin': 1012.0}\n",
      "8 --> [False, True, True, True, True] 23.828854439988564 {'C': 3.1284565824199992, 'epsilon': 4.393003498674342, 'kernel': 1, 'savgol__deriv': 1.0, 'savgol__polyorder': 3.0, 'savgol__window_length': 16.0, 'trimmer__wavemax': 1348.0, 'trimmer__wavemin': 1012.0}\n",
      "1 - RMSECV 52.808086636694 - {'C': 0.41307335564837877, 'epsilon': 6.20261026406038, 'kernel': 'linear', 'savgol__deriv': 2.0, 'savgol__polyorder': 3.0, 'savgol__window_length': 4.0, 'trimmer__wavemax': 1386.0, 'trimmer__wavemin': 1158.0}\n",
      "5 - RMSECV 33.423428616358294 - {'C': 3.1138568209981505, 'epsilon': 2.2281995204972245, 'kernel': 'linear', 'savgol__deriv': 2.0, 'savgol__polyorder': 2.0, 'savgol__window_length': 8.0, 'trimmer__wavemax': 1428.0, 'trimmer__wavemin': 1120.0}\n",
      "8 - RMSECV 32.91651311116954 - {'C': 4.615444981320192, 'epsilon': 0.8667148128758837, 'kernel': 'linear', 'savgol__deriv': 2.0, 'savgol__polyorder': 3.0, 'savgol__window_length': 6.0, 'trimmer__wavemax': 1352.0, 'trimmer__wavemin': 1176.0}\n",
      "10 - RMSECV 28.13362031952971 - {'C': 4.034133766471437, 'epsilon': 2.1639440012404316, 'kernel': 'linear', 'savgol__deriv': 2.0, 'savgol__polyorder': 2.0, 'savgol__window_length': 18.0, 'trimmer__wavemax': 1460.0, 'trimmer__wavemin': 1132.0}\n",
      "19 - RMSECV 26.074697526498042 - {'C': 0.1664051709227649, 'epsilon': 0.3410063724964237, 'kernel': 'linear', 'savgol__deriv': 2.0, 'savgol__polyorder': 2.0, 'savgol__window_length': 12.0, 'trimmer__wavemax': 1350.0, 'trimmer__wavemin': 1084.0}\n",
      "28 - RMSECV 24.863771094987563 - {'C': 1.5855258493716398, 'epsilon': 0.22913451360624026, 'kernel': 'linear', 'savgol__deriv': 2.0, 'savgol__polyorder': 2.0, 'savgol__window_length': 8.0, 'trimmer__wavemax': 1344.0, 'trimmer__wavemin': 1080.0}\n",
      "32 - RMSECV 24.61607366985675 - {'C': 1.938705399450154, 'epsilon': 0.34822048548957674, 'kernel': 'linear', 'savgol__deriv': 2.0, 'savgol__polyorder': 2.0, 'savgol__window_length': 10.0, 'trimmer__wavemax': 1380.0, 'trimmer__wavemin': 1002.0}\n",
      "69 - RMSECV 24.345889123885637 - {'C': 0.14575177317656876, 'epsilon': 0.2887930584767007, 'kernel': 'linear', 'savgol__deriv': 2.0, 'savgol__polyorder': 3.0, 'savgol__window_length': 8.0, 'trimmer__wavemax': 1366.0, 'trimmer__wavemin': 1088.0}\n",
      "78 - RMSECV 23.849000665647175 - {'C': 0.3359152408535818, 'epsilon': 0.18872101786578796, 'kernel': 'linear', 'savgol__deriv': 2.0, 'savgol__polyorder': 2.0, 'savgol__window_length': 8.0, 'trimmer__wavemax': 1340.0, 'trimmer__wavemin': 1040.0}\n",
      "291 - RMSECV 23.843859301622196 - {'C': 1.7963110359898211, 'epsilon': 0.41967659022950937, 'kernel': 'linear', 'savgol__deriv': 2.0, 'savgol__polyorder': 2.0, 'savgol__window_length': 8.0, 'trimmer__wavemax': 1344.0, 'trimmer__wavemin': 980.0}\n",
      "8 --> [False, True, False, True, True] 23.843859301622196 {'C': 1.7963110359898211, 'epsilon': 0.41967659022950937, 'kernel': 1, 'savgol__deriv': 2.0, 'savgol__polyorder': 2.0, 'savgol__window_length': 8.0, 'trimmer__wavemax': 1344.0, 'trimmer__wavemin': 980.0}\n",
      "1 - RMSECV 135.75773154043483 - {'C': 0.3215400813040126, 'epsilon': 0.4038291108151099, 'kernel': 'poly', 'savgol__deriv': 2.0, 'savgol__polyorder': 2.0, 'savgol__window_length': 12.0, 'trimmer__wavemax': 1342.0, 'trimmer__wavemin': 964.0}\n",
      "2 - RMSECV 36.79805061878457 - {'C': 3.586348181622792, 'epsilon': 0.5636823239172549, 'kernel': 'linear', 'savgol__deriv': 2.0, 'savgol__polyorder': 2.0, 'savgol__window_length': 8.0, 'trimmer__wavemax': 1474.0, 'trimmer__wavemin': 1178.0}\n",
      "5 - RMSECV 27.93932826177221 - {'C': 0.19305173502109169, 'epsilon': 1.2762279594634853, 'kernel': 'linear', 'savgol__deriv': 2.0, 'savgol__polyorder': 3.0, 'savgol__window_length': 16.0, 'trimmer__wavemax': 1394.0, 'trimmer__wavemin': 1114.0}\n",
      "7 - RMSECV 26.869235565078515 - {'C': 0.2348017956518418, 'epsilon': 0.8163366863748861, 'kernel': 'linear', 'savgol__deriv': 1.0, 'savgol__polyorder': 3.0, 'savgol__window_length': 18.0, 'trimmer__wavemax': 1366.0, 'trimmer__wavemin': 1110.0}\n",
      "18 - RMSECV 26.484644685632986 - {'C': 5.9994237546256866, 'epsilon': 1.757342884054922, 'kernel': 'linear', 'savgol__deriv': 1.0, 'savgol__polyorder': 3.0, 'savgol__window_length': 14.0, 'trimmer__wavemax': 1486.0, 'trimmer__wavemin': 1168.0}\n",
      "28 - RMSECV 25.962038017456983 - {'C': 1.44575963447632, 'epsilon': 4.703657928703549, 'kernel': 'linear', 'savgol__deriv': 1.0, 'savgol__polyorder': 3.0, 'savgol__window_length': 14.0, 'trimmer__wavemax': 1404.0, 'trimmer__wavemin': 1088.0}\n",
      "30 - RMSECV 25.407922582446783 - {'C': 1.645564198800987, 'epsilon': 5.605906664717768, 'kernel': 'linear', 'savgol__deriv': 1.0, 'savgol__polyorder': 3.0, 'savgol__window_length': 10.0, 'trimmer__wavemax': 1410.0, 'trimmer__wavemin': 1182.0}\n",
      "35 - RMSECV 24.50691708104339 - {'C': 1.013842105307666, 'epsilon': 2.2688011339025476, 'kernel': 'linear', 'savgol__deriv': 1.0, 'savgol__polyorder': 3.0, 'savgol__window_length': 10.0, 'trimmer__wavemax': 1402.0, 'trimmer__wavemin': 1132.0}\n",
      "55 - RMSECV 23.17503467302376 - {'C': 3.003998321701248, 'epsilon': 0.9029233720641214, 'kernel': 'linear', 'savgol__deriv': 2.0, 'savgol__polyorder': 3.0, 'savgol__window_length': 10.0, 'trimmer__wavemax': 1330.0, 'trimmer__wavemin': 1120.0}\n",
      "68 - RMSECV 22.534216707632613 - {'C': 0.743399283770323, 'epsilon': 2.2636400813612156, 'kernel': 'linear', 'savgol__deriv': 2.0, 'savgol__polyorder': 3.0, 'savgol__window_length': 10.0, 'trimmer__wavemax': 1344.0, 'trimmer__wavemin': 1122.0}\n",
      "258 - RMSECV 22.498366166317282 - {'C': 1.9581026069459329, 'epsilon': 0.2265451365522267, 'kernel': 'linear', 'savgol__deriv': 2.0, 'savgol__polyorder': 3.0, 'savgol__window_length': 10.0, 'trimmer__wavemax': 1420.0, 'trimmer__wavemin': 1168.0}\n",
      "10 --> [False, True, True, True, True] 22.498366166317282 {'C': 1.9581026069459329, 'epsilon': 0.2265451365522267, 'kernel': 1, 'savgol__deriv': 2.0, 'savgol__polyorder': 3.0, 'savgol__window_length': 10.0, 'trimmer__wavemax': 1420.0, 'trimmer__wavemin': 1168.0}\n",
      "1 - RMSECV 61.7908710776505 - {'C': 1.630153299907605, 'epsilon': 7.378868262007971, 'kernel': 'poly', 'savgol__deriv': 1.0, 'savgol__polyorder': 2.0, 'savgol__window_length': 12.0, 'trimmer__wavemax': 1396.0, 'trimmer__wavemin': 1162.0}\n",
      "2 - RMSECV 39.332619203108365 - {'C': 6.153264671575561, 'epsilon': 0.9909049515612351, 'kernel': 'linear', 'savgol__deriv': 2.0, 'savgol__polyorder': 2.0, 'savgol__window_length': 6.0, 'trimmer__wavemax': 1314.0, 'trimmer__wavemin': 978.0}\n",
      "3 - RMSECV 27.668498573136066 - {'C': 5.483455034383881, 'epsilon': 0.18410429589933677, 'kernel': 'linear', 'savgol__deriv': 1.0, 'savgol__polyorder': 2.0, 'savgol__window_length': 4.0, 'trimmer__wavemax': 1448.0, 'trimmer__wavemin': 1142.0}\n",
      "9 - RMSECV 26.64093015946676 - {'C': 6.6651446588543, 'epsilon': 0.1895803423160643, 'kernel': 'linear', 'savgol__deriv': 1.0, 'savgol__polyorder': 3.0, 'savgol__window_length': 6.0, 'trimmer__wavemax': 1354.0, 'trimmer__wavemin': 996.0}\n",
      "12 - RMSECV 25.10738597873211 - {'C': 0.9707542029789035, 'epsilon': 3.582607630938015, 'kernel': 'linear', 'savgol__deriv': 2.0, 'savgol__polyorder': 2.0, 'savgol__window_length': 18.0, 'trimmer__wavemax': 1462.0, 'trimmer__wavemin': 1004.0}\n",
      "21 - RMSECV 24.571171714219304 - {'C': 0.5083279896837322, 'epsilon': 2.2579906306257067, 'kernel': 'linear', 'savgol__deriv': 2.0, 'savgol__polyorder': 2.0, 'savgol__window_length': 8.0, 'trimmer__wavemax': 1374.0, 'trimmer__wavemin': 1014.0}\n",
      "24 - RMSECV 24.4697143278431 - {'C': 0.850335128078762, 'epsilon': 1.7750398117605937, 'kernel': 'linear', 'savgol__deriv': 2.0, 'savgol__polyorder': 2.0, 'savgol__window_length': 8.0, 'trimmer__wavemax': 1380.0, 'trimmer__wavemin': 1022.0}\n",
      "69 - RMSECV 24.438434001698077 - {'C': 2.0679954896616075, 'epsilon': 6.30044854974343, 'kernel': 'linear', 'savgol__deriv': 2.0, 'savgol__polyorder': 2.0, 'savgol__window_length': 10.0, 'trimmer__wavemax': 1308.0, 'trimmer__wavemin': 1172.0}\n",
      "70 - RMSECV 23.921053311628892 - {'C': 4.49678330788777, 'epsilon': 7.208500877528315, 'kernel': 'linear', 'savgol__deriv': 2.0, 'savgol__polyorder': 2.0, 'savgol__window_length': 10.0, 'trimmer__wavemax': 1374.0, 'trimmer__wavemin': 1172.0}\n",
      "106 - RMSECV 22.86110776146003 - {'C': 4.152334516445883, 'epsilon': 0.793643810593564, 'kernel': 'linear', 'savgol__deriv': 2.0, 'savgol__polyorder': 2.0, 'savgol__window_length': 10.0, 'trimmer__wavemax': 1402.0, 'trimmer__wavemin': 1168.0}\n",
      "146 - RMSECV 22.814691465363317 - {'C': 3.4809275559445028, 'epsilon': 0.4155336470981945, 'kernel': 'linear', 'savgol__deriv': 2.0, 'savgol__polyorder': 2.0, 'savgol__window_length': 12.0, 'trimmer__wavemax': 1372.0, 'trimmer__wavemin': 1162.0}\n",
      "181 - RMSECV 22.551266964317637 - {'C': 2.2187986996754434, 'epsilon': 0.6365650336715408, 'kernel': 'linear', 'savgol__deriv': 2.0, 'savgol__polyorder': 2.0, 'savgol__window_length': 10.0, 'trimmer__wavemax': 1340.0, 'trimmer__wavemin': 1114.0}\n",
      "10 --> [False, True, False, True, True] 22.551266964317637 {'C': 2.2187986996754434, 'epsilon': 0.6365650336715408, 'kernel': 1, 'savgol__deriv': 2.0, 'savgol__polyorder': 2.0, 'savgol__window_length': 10.0, 'trimmer__wavemax': 1340.0, 'trimmer__wavemin': 1114.0}\n",
      "1 - RMSECV 109.51468187815209 - {'C': 2.696931811205338, 'epsilon': 1.2232394577872936, 'kernel': 'poly', 'savgol__deriv': 2.0, 'savgol__polyorder': 3.0, 'savgol__window_length': 14.0, 'trimmer__wavemax': 1374.0, 'trimmer__wavemin': 996.0}\n",
      "2 - RMSECV 49.85675586695168 - {'C': 1.2176400277240707, 'epsilon': 0.764740733019261, 'kernel': 'poly', 'savgol__deriv': 2.0, 'savgol__polyorder': 2.0, 'savgol__window_length': 8.0, 'trimmer__wavemax': 1350.0, 'trimmer__wavemin': 1082.0}\n",
      "5 - RMSECV 41.8680817402834 - {'C': 0.3690434823042649, 'epsilon': 5.506800282205054, 'kernel': 'poly', 'savgol__deriv': 1.0, 'savgol__polyorder': 3.0, 'savgol__window_length': 6.0, 'trimmer__wavemax': 1446.0, 'trimmer__wavemin': 1180.0}\n",
      "6 - RMSECV 40.8301212910429 - {'C': 0.6095406996782655, 'epsilon': 0.291163041490085, 'kernel': 'linear', 'savgol__deriv': 2.0, 'savgol__polyorder': 2.0, 'savgol__window_length': 4.0, 'trimmer__wavemax': 1412.0, 'trimmer__wavemin': 1002.0}\n",
      "9 - RMSECV 26.79498945770726 - {'C': 4.476807141553562, 'epsilon': 0.14749250996627614, 'kernel': 'linear', 'savgol__deriv': 2.0, 'savgol__polyorder': 3.0, 'savgol__window_length': 16.0, 'trimmer__wavemax': 1490.0, 'trimmer__wavemin': 1012.0}\n",
      "10 - RMSECV 26.299196174982484 - {'C': 0.3154951682507429, 'epsilon': 0.7645807396095682, 'kernel': 'linear', 'savgol__deriv': 2.0, 'savgol__polyorder': 2.0, 'savgol__window_length': 6.0, 'trimmer__wavemax': 1364.0, 'trimmer__wavemin': 1058.0}\n",
      "11 - RMSECV 25.751859384180047 - {'C': 2.388966720696671, 'epsilon': 0.8281564728077976, 'kernel': 'linear', 'savgol__deriv': 1.0, 'savgol__polyorder': 3.0, 'savgol__window_length': 18.0, 'trimmer__wavemax': 1474.0, 'trimmer__wavemin': 1168.0}\n",
      "13 - RMSECV 24.41643271827738 - {'C': 0.5726067927302283, 'epsilon': 5.619726762210484, 'kernel': 'linear', 'savgol__deriv': 1.0, 'savgol__polyorder': 3.0, 'savgol__window_length': 14.0, 'trimmer__wavemax': 1404.0, 'trimmer__wavemin': 968.0}\n",
      "21 - RMSECV 23.783914799406244 - {'C': 1.184432764459156, 'epsilon': 0.4240646326263688, 'kernel': 'linear', 'savgol__deriv': 1.0, 'savgol__polyorder': 2.0, 'savgol__window_length': 10.0, 'trimmer__wavemax': 1402.0, 'trimmer__wavemin': 956.0}\n",
      "22 - RMSECV 23.72639209490476 - {'C': 1.150829402690618, 'epsilon': 0.4632537196998289, 'kernel': 'linear', 'savgol__deriv': 1.0, 'savgol__polyorder': 2.0, 'savgol__window_length': 10.0, 'trimmer__wavemax': 1404.0, 'trimmer__wavemin': 964.0}\n",
      "24 - RMSECV 23.414905833930586 - {'C': 0.8686413000976728, 'epsilon': 0.4779739285026552, 'kernel': 'linear', 'savgol__deriv': 1.0, 'savgol__polyorder': 2.0, 'savgol__window_length': 10.0, 'trimmer__wavemax': 1314.0, 'trimmer__wavemin': 954.0}\n",
      "44 - RMSECV 22.609571053488622 - {'C': 4.0634519088835415, 'epsilon': 0.2174955703092974, 'kernel': 'linear', 'savgol__deriv': 2.0, 'savgol__polyorder': 3.0, 'savgol__window_length': 12.0, 'trimmer__wavemax': 1418.0, 'trimmer__wavemin': 1066.0}\n",
      "71 - RMSECV 22.401967780783743 - {'C': 4.737133167544401, 'epsilon': 1.687498909540286, 'kernel': 'linear', 'savgol__deriv': 2.0, 'savgol__polyorder': 3.0, 'savgol__window_length': 12.0, 'trimmer__wavemax': 1430.0, 'trimmer__wavemin': 1122.0}\n",
      "77 - RMSECV 22.126449342051217 - {'C': 3.29938225331858, 'epsilon': 1.116631892611428, 'kernel': 'linear', 'savgol__deriv': 2.0, 'savgol__polyorder': 3.0, 'savgol__window_length': 10.0, 'trimmer__wavemax': 1362.0, 'trimmer__wavemin': 1076.0}\n",
      "86 - RMSECV 20.8451983316633 - {'C': 0.7081950820803948, 'epsilon': 1.0743131749675852, 'kernel': 'linear', 'savgol__deriv': 2.0, 'savgol__polyorder': 3.0, 'savgol__window_length': 10.0, 'trimmer__wavemax': 1356.0, 'trimmer__wavemin': 1032.0}\n",
      "289 - RMSECV 20.837846018569145 - {'C': 3.131313455290465, 'epsilon': 0.9209793432519219, 'kernel': 'linear', 'savgol__deriv': 2.0, 'savgol__polyorder': 3.0, 'savgol__window_length': 10.0, 'trimmer__wavemax': 1368.0, 'trimmer__wavemin': 1026.0}\n",
      "15 --> [False, True, True, True, True] 20.837846018569145 {'C': 3.131313455290465, 'epsilon': 0.9209793432519219, 'kernel': 1, 'savgol__deriv': 2.0, 'savgol__polyorder': 3.0, 'savgol__window_length': 10.0, 'trimmer__wavemax': 1368.0, 'trimmer__wavemin': 1026.0}\n",
      "1 - RMSECV 41.09564130915649 - {'C': 3.7769820540118273, 'epsilon': 0.6037979896913027, 'kernel': 'linear', 'savgol__deriv': 2.0, 'savgol__polyorder': 3.0, 'savgol__window_length': 4.0, 'trimmer__wavemax': 1506.0, 'trimmer__wavemin': 1134.0}\n",
      "2 - RMSECV 38.94120358301067 - {'C': 0.25262177710341244, 'epsilon': 4.554802787104729, 'kernel': 'poly', 'savgol__deriv': 2.0, 'savgol__polyorder': 2.0, 'savgol__window_length': 14.0, 'trimmer__wavemax': 1482.0, 'trimmer__wavemin': 1182.0}\n",
      "3 - RMSECV 23.458456568932732 - {'C': 4.17129328650635, 'epsilon': 0.19383611289128114, 'kernel': 'linear', 'savgol__deriv': 2.0, 'savgol__polyorder': 3.0, 'savgol__window_length': 18.0, 'trimmer__wavemax': 1396.0, 'trimmer__wavemin': 1078.0}\n",
      "29 - RMSECV 23.3816999521913 - {'C': 3.2311646863488757, 'epsilon': 0.24374943005524466, 'kernel': 'linear', 'savgol__deriv': 2.0, 'savgol__polyorder': 3.0, 'savgol__window_length': 16.0, 'trimmer__wavemax': 1364.0, 'trimmer__wavemin': 1026.0}\n",
      "50 - RMSECV 22.73718274741846 - {'C': 0.6633530154540673, 'epsilon': 1.1352356869490836, 'kernel': 'linear', 'savgol__deriv': 2.0, 'savgol__polyorder': 3.0, 'savgol__window_length': 14.0, 'trimmer__wavemax': 1382.0, 'trimmer__wavemin': 1030.0}\n",
      "51 - RMSECV 21.107346616788647 - {'C': 0.6004068066252071, 'epsilon': 2.9768633927654147, 'kernel': 'linear', 'savgol__deriv': 2.0, 'savgol__polyorder': 3.0, 'savgol__window_length': 10.0, 'trimmer__wavemax': 1322.0, 'trimmer__wavemin': 1030.0}\n",
      "66 - RMSECV 20.58216113760962 - {'C': 0.7468658683278098, 'epsilon': 1.1081634818625057, 'kernel': 'linear', 'savgol__deriv': 2.0, 'savgol__polyorder': 3.0, 'savgol__window_length': 10.0, 'trimmer__wavemax': 1356.0, 'trimmer__wavemin': 1032.0}\n",
      "79 - RMSECV 20.58126552071043 - {'C': 0.9367249638413501, 'epsilon': 2.3133443550191495, 'kernel': 'linear', 'savgol__deriv': 2.0, 'savgol__polyorder': 3.0, 'savgol__window_length': 12.0, 'trimmer__wavemax': 1366.0, 'trimmer__wavemin': 1038.0}\n",
      "262 - RMSECV 20.45347532027184 - {'C': 0.7306671454358941, 'epsilon': 3.707156568562663, 'kernel': 'linear', 'savgol__deriv': 2.0, 'savgol__polyorder': 3.0, 'savgol__window_length': 10.0, 'trimmer__wavemax': 1350.0, 'trimmer__wavemin': 1032.0}\n",
      "264 - RMSECV 20.43503237260611 - {'C': 0.9790314172242746, 'epsilon': 3.8623481474133743, 'kernel': 'linear', 'savgol__deriv': 2.0, 'savgol__polyorder': 3.0, 'savgol__window_length': 10.0, 'trimmer__wavemax': 1350.0, 'trimmer__wavemin': 1034.0}\n",
      "15 --> [False, True, False, True, True] 20.43503237260611 {'C': 0.9790314172242746, 'epsilon': 3.8623481474133743, 'kernel': 1, 'savgol__deriv': 2.0, 'savgol__polyorder': 3.0, 'savgol__window_length': 10.0, 'trimmer__wavemax': 1350.0, 'trimmer__wavemin': 1034.0}\n"
     ]
    }
   ],
   "source": [
    "counter = 0\n",
    "bestscore = 1e20\n",
    "\n",
    "trainscore = True\n",
    "\n",
    "def objective(params):\n",
    "    global counter\n",
    "    global bestscore\n",
    "    counter += 1\n",
    "    hyperparams = {\n",
    "        'kernel': params['kernel'],\n",
    "        'C':params['C'],\n",
    "        'epsilon':params['epsilon'],\n",
    "        'max_iter':10000\n",
    "        }\n",
    "    \n",
    "    lrpipelist1 = [('trimmer', trimmer), ]\n",
    "    if pipeoption[0] == True:\n",
    "        lrpipelist1.append(('snv', snv))\n",
    "    if pipeoption[1] == True:\n",
    "        lrpipelist1.append(('savgol', savgol))\n",
    "    if pipeoption[2] == True:\n",
    "        lrpipelist1.append(('log1over', log1over))\n",
    "    if pipeoption[3] == True:\n",
    "        lrpipelist1.append(('scaler', scaler))\n",
    "    if pipeoption[4] == True:\n",
    "        lrpipelist1.append(('pca', pca))\n",
    "\n",
    "    pipe1 = Pipeline(lrpipelist1)\n",
    "    \n",
    "    pipe1.set_params(pca__n_components=int(component))\n",
    "    pipe1.set_params(savgol__window_length=int(params['savgol__window_length'])+1)\n",
    "    pipe1.set_params(savgol__deriv=int(params['savgol__deriv']))\n",
    "    pipe1.set_params(trimmer__wavemin=int(params['trimmer__wavemin']))\n",
    "    pipe1.set_params(trimmer__wavemax=int(params['trimmer__wavemax']))\n",
    "    pipe1.set_params(savgol__polyorder=int(params['savgol__polyorder']))\n",
    "    \n",
    "    Xtrans = pipe1.fit_transform(X_train)\n",
    "    \n",
    "    svr = SVR(**hyperparams)\n",
    "    \n",
    "    if trainscore:\n",
    "        preds = cross_val_predict(svr, Xtrans, y_train, cv=kf, n_jobs=-2)\n",
    "        score = mean_squared_error(y_train , preds)\n",
    "        #score = -r2_score(y_train, preds)\n",
    "    else:\n",
    "        Xtranstest = pipe1.transform(X_test)\n",
    "        svr.fit(Xtrans, y_train)\n",
    "        preds = svr.predict(Xtranstest)\n",
    "        score = mean_squared_error(y_test , preds)\n",
    "        #score = -r2_score(y_test , preds)\n",
    "    \n",
    "    \n",
    "    if counter % 50 == 0:\n",
    "        #print(\"{} - RMSECV {}\".format(counter, score))\n",
    "        pass\n",
    "    if score < bestscore:\n",
    "        bestscore = score\n",
    "        print(\"{} - RMSECV {} - {}\".format(counter, score, params))\n",
    "        pass\n",
    "    \n",
    "    return score\n",
    "\n",
    "pipeoptions = [#[True, True, True, True, True], #SNV - SAVFOL - LOG1p - SCALER - PCA\n",
    "               # [True, True, False, True, True], # No log1p\n",
    "               [False, True, True, True, True],  #No SNV\n",
    "               [False, True, False, True, True], #No SNV or log1p\n",
    "                ]\n",
    "\n",
    "kernels =['poly', 'linear', ] # 'rbf'\n",
    "\n",
    "space = {\n",
    "    'kernel':hp.choice('kernel', kernels), #'linear', 'poly', 'rbf'\n",
    "    #'degree':hp.quniform('degree', 2, 3, 1),\n",
    "    'C': hp.loguniform('C', -2, 2),\n",
    "    'epsilon': hp.loguniform('epsilon', -2, 2),\n",
    "    #'pca__n_components': hp.quniform('pca__n_components',10, 30, 1),\n",
    "    'savgol__window_length': hp.quniform('savgol__window_length', 3, 19, 2),\n",
    "    'savgol__deriv':hp.quniform('savgol__deriv', 1, 2, 1),\n",
    "    'trimmer__wavemin': hp.quniform('trimmer__wavemin', 950, 1200, 2),\n",
    "    'trimmer__wavemax': hp.quniform('trimmer__wavemax', 1300, 1530, 2),\n",
    "    'savgol__polyorder':hp.quniform('savgol__polyorder', 2, 3, 1)\n",
    "}\n",
    "bestscores = []\n",
    "pcacomp = {}\n",
    "components = [5, 8, 10, 15]\n",
    "\n",
    "for component in components:\n",
    "    for pipeoption in pipeoptions:\n",
    "        #print(pipeoption, component)\n",
    "        #print()\n",
    "        counter = 0\n",
    "        bestscore = 1e20\n",
    "        best = fmin(fn=objective,\n",
    "                    space=space,\n",
    "                    algo=tpe.suggest,\n",
    "                    max_evals=300)\n",
    "        print(component, '-->', pipeoption, bestscore, best)\n",
    "        bestscores.append((pipeoption, bestscore, best))\n",
    "    pcacomp[component] = bestscores\n",
    "    bestscores = []"
   ]
  },
  {
   "cell_type": "code",
   "execution_count": 30,
   "metadata": {},
   "outputs": [
    {
     "data": {
      "text/plain": [
       "[{'C': 0.9967066193076164,\n",
       "  'epsilon': 1.0448596253581814,\n",
       "  'kernel': 1,\n",
       "  'savgol__deriv': 2.0,\n",
       "  'savgol__polyorder': 3.0,\n",
       "  'savgol__window_length': 16.0,\n",
       "  'trimmer__wavemax': 1344.0,\n",
       "  'trimmer__wavemin': 1166.0,\n",
       "  'pca': 5,\n",
       "  'SNV': False,\n",
       "  'savgol': True,\n",
       "  'log1op': True},\n",
       " {'C': 3.1284565824199992,\n",
       "  'epsilon': 4.393003498674342,\n",
       "  'kernel': 1,\n",
       "  'savgol__deriv': 1.0,\n",
       "  'savgol__polyorder': 3.0,\n",
       "  'savgol__window_length': 16.0,\n",
       "  'trimmer__wavemax': 1348.0,\n",
       "  'trimmer__wavemin': 1012.0,\n",
       "  'pca': 8,\n",
       "  'SNV': False,\n",
       "  'savgol': True,\n",
       "  'log1op': True},\n",
       " {'C': 1.9581026069459329,\n",
       "  'epsilon': 0.2265451365522267,\n",
       "  'kernel': 1,\n",
       "  'savgol__deriv': 2.0,\n",
       "  'savgol__polyorder': 3.0,\n",
       "  'savgol__window_length': 10.0,\n",
       "  'trimmer__wavemax': 1420.0,\n",
       "  'trimmer__wavemin': 1168.0,\n",
       "  'pca': 10,\n",
       "  'SNV': False,\n",
       "  'savgol': True,\n",
       "  'log1op': True},\n",
       " {'C': 0.9790314172242746,\n",
       "  'epsilon': 3.8623481474133743,\n",
       "  'kernel': 1,\n",
       "  'savgol__deriv': 2.0,\n",
       "  'savgol__polyorder': 3.0,\n",
       "  'savgol__window_length': 10.0,\n",
       "  'trimmer__wavemax': 1350.0,\n",
       "  'trimmer__wavemin': 1034.0,\n",
       "  'pca': 15,\n",
       "  'SNV': False,\n",
       "  'savgol': True,\n",
       "  'log1op': False}]"
      ]
     },
     "execution_count": 30,
     "metadata": {},
     "output_type": "execute_result"
    }
   ],
   "source": [
    "cleaned = {comp:results[np.argmin([x[1] for x in results])] for comp, results in pcacomp.items()}\n",
    "cleaned = [{**v[2], 'pca':k, 'SNV':v[0][0], 'savgol':v[0][1], 'log1op':v[0][2]} for k, v in cleaned.items()]\n",
    "cleaned"
   ]
  },
  {
   "cell_type": "code",
   "execution_count": 31,
   "metadata": {},
   "outputs": [
    {
     "data": {
      "text/html": [
       "<div>\n",
       "<style scoped>\n",
       "    .dataframe tbody tr th:only-of-type {\n",
       "        vertical-align: middle;\n",
       "    }\n",
       "\n",
       "    .dataframe tbody tr th {\n",
       "        vertical-align: top;\n",
       "    }\n",
       "\n",
       "    .dataframe thead th {\n",
       "        text-align: right;\n",
       "    }\n",
       "</style>\n",
       "<table border=\"1\" class=\"dataframe\">\n",
       "  <thead>\n",
       "    <tr style=\"text-align: right;\">\n",
       "      <th></th>\n",
       "      <th>0</th>\n",
       "      <th>1</th>\n",
       "      <th>2</th>\n",
       "      <th>3</th>\n",
       "    </tr>\n",
       "  </thead>\n",
       "  <tbody>\n",
       "    <tr>\n",
       "      <th>C</th>\n",
       "      <td>0.996707</td>\n",
       "      <td>3.12846</td>\n",
       "      <td>1.9581</td>\n",
       "      <td>0.979031</td>\n",
       "    </tr>\n",
       "    <tr>\n",
       "      <th>SNV</th>\n",
       "      <td>False</td>\n",
       "      <td>False</td>\n",
       "      <td>False</td>\n",
       "      <td>False</td>\n",
       "    </tr>\n",
       "    <tr>\n",
       "      <th>epsilon</th>\n",
       "      <td>1.04486</td>\n",
       "      <td>4.393</td>\n",
       "      <td>0.226545</td>\n",
       "      <td>3.86235</td>\n",
       "    </tr>\n",
       "    <tr>\n",
       "      <th>kernel</th>\n",
       "      <td>1</td>\n",
       "      <td>1</td>\n",
       "      <td>1</td>\n",
       "      <td>1</td>\n",
       "    </tr>\n",
       "    <tr>\n",
       "      <th>log1op</th>\n",
       "      <td>True</td>\n",
       "      <td>True</td>\n",
       "      <td>True</td>\n",
       "      <td>False</td>\n",
       "    </tr>\n",
       "    <tr>\n",
       "      <th>pca</th>\n",
       "      <td>5</td>\n",
       "      <td>8</td>\n",
       "      <td>10</td>\n",
       "      <td>15</td>\n",
       "    </tr>\n",
       "    <tr>\n",
       "      <th>savgol</th>\n",
       "      <td>True</td>\n",
       "      <td>True</td>\n",
       "      <td>True</td>\n",
       "      <td>True</td>\n",
       "    </tr>\n",
       "    <tr>\n",
       "      <th>savgol__deriv</th>\n",
       "      <td>2</td>\n",
       "      <td>1</td>\n",
       "      <td>2</td>\n",
       "      <td>2</td>\n",
       "    </tr>\n",
       "    <tr>\n",
       "      <th>savgol__polyorder</th>\n",
       "      <td>3</td>\n",
       "      <td>3</td>\n",
       "      <td>3</td>\n",
       "      <td>3</td>\n",
       "    </tr>\n",
       "    <tr>\n",
       "      <th>savgol__window_length</th>\n",
       "      <td>16</td>\n",
       "      <td>16</td>\n",
       "      <td>10</td>\n",
       "      <td>10</td>\n",
       "    </tr>\n",
       "    <tr>\n",
       "      <th>trimmer__wavemax</th>\n",
       "      <td>1344</td>\n",
       "      <td>1348</td>\n",
       "      <td>1420</td>\n",
       "      <td>1350</td>\n",
       "    </tr>\n",
       "    <tr>\n",
       "      <th>trimmer__wavemin</th>\n",
       "      <td>1166</td>\n",
       "      <td>1012</td>\n",
       "      <td>1168</td>\n",
       "      <td>1034</td>\n",
       "    </tr>\n",
       "    <tr>\n",
       "      <th>RMSE CV train</th>\n",
       "      <td>NaN</td>\n",
       "      <td>NaN</td>\n",
       "      <td>NaN</td>\n",
       "      <td>NaN</td>\n",
       "    </tr>\n",
       "    <tr>\n",
       "      <th>RMSE test</th>\n",
       "      <td>NaN</td>\n",
       "      <td>NaN</td>\n",
       "      <td>NaN</td>\n",
       "      <td>NaN</td>\n",
       "    </tr>\n",
       "    <tr>\n",
       "      <th>R2 CV train</th>\n",
       "      <td>NaN</td>\n",
       "      <td>NaN</td>\n",
       "      <td>NaN</td>\n",
       "      <td>NaN</td>\n",
       "    </tr>\n",
       "    <tr>\n",
       "      <th>R2 test</th>\n",
       "      <td>NaN</td>\n",
       "      <td>NaN</td>\n",
       "      <td>NaN</td>\n",
       "      <td>NaN</td>\n",
       "    </tr>\n",
       "  </tbody>\n",
       "</table>\n",
       "</div>"
      ],
      "text/plain": [
       "                              0        1         2         3\n",
       "C                      0.996707  3.12846    1.9581  0.979031\n",
       "SNV                       False    False     False     False\n",
       "epsilon                 1.04486    4.393  0.226545   3.86235\n",
       "kernel                        1        1         1         1\n",
       "log1op                     True     True      True     False\n",
       "pca                           5        8        10        15\n",
       "savgol                     True     True      True      True\n",
       "savgol__deriv                 2        1         2         2\n",
       "savgol__polyorder             3        3         3         3\n",
       "savgol__window_length        16       16        10        10\n",
       "trimmer__wavemax           1344     1348      1420      1350\n",
       "trimmer__wavemin           1166     1012      1168      1034\n",
       "RMSE CV train               NaN      NaN       NaN       NaN\n",
       "RMSE test                   NaN      NaN       NaN       NaN\n",
       "R2 CV train                 NaN      NaN       NaN       NaN\n",
       "R2 test                     NaN      NaN       NaN       NaN"
      ]
     },
     "execution_count": 31,
     "metadata": {},
     "output_type": "execute_result"
    }
   ],
   "source": [
    "dataset = pd.DataFrame(cleaned)#.set_index('pca')\n",
    "\n",
    "errors = [1 ,2 ,3 ,4 ,6 ,8, 10]\n",
    "\n",
    "dataset = dataset.join(pd.DataFrame({'RMSE CV train':[np.nan], 'RMSE test':[np.nan],\n",
    "                             'R2 CV train':[np.nan], 'R2 test':[np.nan],\n",
    "                           #**{'Pred +/- {}'.format(x):[np.nan] for x in errors}\n",
    "                              }))\n",
    "\n",
    "dataset.T"
   ]
  },
  {
   "cell_type": "code",
   "execution_count": 32,
   "metadata": {},
   "outputs": [
    {
     "name": "stdout",
     "output_type": "stream",
     "text": [
      "Done!\n"
     ]
    }
   ],
   "source": [
    "for index, best in dataset.iterrows():\n",
    "    lrpipelist1 = [('trimmer', Trimmer(wavemin=int(best.trimmer__wavemin), wavemax=int(best.trimmer__wavemax))) ]\n",
    "\n",
    "    if best.SNV:\n",
    "        lrpipelist1.append( ('snv', Snv()) )\n",
    "    lrpipelist1.append(('savgol', Savgol(window_length=int(best.savgol__window_length)+1, polyorder=int(best.savgol__polyorder), deriv=int(best.savgol__deriv), )))\n",
    "    if best.log1op:\n",
    "        lrpipelist1.append(('log1over', log1over))\n",
    "    lrpipelist1.append(('scaler', scaler))\n",
    "    lrpipelist1.append(('pca', PCA(n_components=int(best.pca), random_state=0)))\n",
    "    #print(best.pca)\n",
    "\n",
    "    pipe1 = Pipeline(lrpipelist1)\n",
    "    \n",
    "    params = {\n",
    "            'epsilon': best.epsilon,\n",
    "            'C': best.C,\n",
    "            'kernel':kernels[best.kernel],\n",
    "            }\n",
    "    #print(pipe1)\n",
    "    svr = SVR(**params)\n",
    "    \n",
    "    Xtrans = pipe1.fit_transform(X_train)\n",
    "    preds_train = cross_val_predict(svr, Xtrans, y_train, cv=kf, n_jobs=-2)\n",
    "    \n",
    "    #Fit with best parameters\n",
    "    svr.fit(Xtrans, y_train)\n",
    "    Xtranstest = pipe1.transform(X_test)\n",
    "    preds_test = svr.predict(Xtranstest)\n",
    "\n",
    "    dataset['kernel'].loc[index]        = kernels[best.kernel]\n",
    "    dataset['RMSE CV train'].loc[index] = (mean_squared_error(y_train, preds_train, ))**.5\n",
    "    dataset['RMSE test'].loc[index]     = (mean_squared_error(y_test, preds_test, ))**.5\n",
    "    dataset['R2 CV train'].loc[index]   = r2_score(y_train, preds_train)\n",
    "    dataset['R2 test'].loc[index]       = r2_score(y_test, preds_test)\n",
    "    \n",
    "    for error in errors:\n",
    "        pass\n",
    "print('Done!')"
   ]
  },
  {
   "cell_type": "code",
   "execution_count": 33,
   "metadata": {},
   "outputs": [
    {
     "data": {
      "text/plain": [
       "(194,)"
      ]
     },
     "execution_count": 33,
     "metadata": {},
     "output_type": "execute_result"
    }
   ],
   "source": [
    "y_test.shape"
   ]
  },
  {
   "cell_type": "code",
   "execution_count": 34,
   "metadata": {},
   "outputs": [
    {
     "data": {
      "text/html": [
       "<div>\n",
       "<style scoped>\n",
       "    .dataframe tbody tr th:only-of-type {\n",
       "        vertical-align: middle;\n",
       "    }\n",
       "\n",
       "    .dataframe tbody tr th {\n",
       "        vertical-align: top;\n",
       "    }\n",
       "\n",
       "    .dataframe thead th {\n",
       "        text-align: right;\n",
       "    }\n",
       "</style>\n",
       "<table border=\"1\" class=\"dataframe\">\n",
       "  <thead>\n",
       "    <tr style=\"text-align: right;\">\n",
       "      <th>pca</th>\n",
       "      <th>5</th>\n",
       "      <th>8</th>\n",
       "      <th>10</th>\n",
       "      <th>15</th>\n",
       "    </tr>\n",
       "  </thead>\n",
       "  <tbody>\n",
       "    <tr>\n",
       "      <th>C</th>\n",
       "      <td>0.996707</td>\n",
       "      <td>3.12846</td>\n",
       "      <td>1.9581</td>\n",
       "      <td>0.979031</td>\n",
       "    </tr>\n",
       "    <tr>\n",
       "      <th>SNV</th>\n",
       "      <td>False</td>\n",
       "      <td>False</td>\n",
       "      <td>False</td>\n",
       "      <td>False</td>\n",
       "    </tr>\n",
       "    <tr>\n",
       "      <th>epsilon</th>\n",
       "      <td>1.04486</td>\n",
       "      <td>4.393</td>\n",
       "      <td>0.226545</td>\n",
       "      <td>3.86235</td>\n",
       "    </tr>\n",
       "    <tr>\n",
       "      <th>kernel</th>\n",
       "      <td>linear</td>\n",
       "      <td>linear</td>\n",
       "      <td>linear</td>\n",
       "      <td>linear</td>\n",
       "    </tr>\n",
       "    <tr>\n",
       "      <th>log1op</th>\n",
       "      <td>True</td>\n",
       "      <td>True</td>\n",
       "      <td>True</td>\n",
       "      <td>False</td>\n",
       "    </tr>\n",
       "    <tr>\n",
       "      <th>savgol</th>\n",
       "      <td>True</td>\n",
       "      <td>True</td>\n",
       "      <td>True</td>\n",
       "      <td>True</td>\n",
       "    </tr>\n",
       "    <tr>\n",
       "      <th>savgol__deriv</th>\n",
       "      <td>2</td>\n",
       "      <td>1</td>\n",
       "      <td>2</td>\n",
       "      <td>2</td>\n",
       "    </tr>\n",
       "    <tr>\n",
       "      <th>savgol__polyorder</th>\n",
       "      <td>3</td>\n",
       "      <td>3</td>\n",
       "      <td>3</td>\n",
       "      <td>3</td>\n",
       "    </tr>\n",
       "    <tr>\n",
       "      <th>savgol__window_length</th>\n",
       "      <td>16</td>\n",
       "      <td>16</td>\n",
       "      <td>10</td>\n",
       "      <td>10</td>\n",
       "    </tr>\n",
       "    <tr>\n",
       "      <th>trimmer__wavemax</th>\n",
       "      <td>1344</td>\n",
       "      <td>1348</td>\n",
       "      <td>1420</td>\n",
       "      <td>1350</td>\n",
       "    </tr>\n",
       "    <tr>\n",
       "      <th>trimmer__wavemin</th>\n",
       "      <td>1166</td>\n",
       "      <td>1012</td>\n",
       "      <td>1168</td>\n",
       "      <td>1034</td>\n",
       "    </tr>\n",
       "    <tr>\n",
       "      <th>RMSE CV train</th>\n",
       "      <td>5.32275</td>\n",
       "      <td>4.87022</td>\n",
       "      <td>4.73371</td>\n",
       "      <td>4.51472</td>\n",
       "    </tr>\n",
       "    <tr>\n",
       "      <th>RMSE test</th>\n",
       "      <td>5.15024</td>\n",
       "      <td>4.58787</td>\n",
       "      <td>4.81874</td>\n",
       "      <td>4.72042</td>\n",
       "    </tr>\n",
       "    <tr>\n",
       "      <th>R2 CV train</th>\n",
       "      <td>0.613969</td>\n",
       "      <td>0.676817</td>\n",
       "      <td>0.694681</td>\n",
       "      <td>0.722277</td>\n",
       "    </tr>\n",
       "    <tr>\n",
       "      <th>R2 test</th>\n",
       "      <td>0.669985</td>\n",
       "      <td>0.738121</td>\n",
       "      <td>0.711102</td>\n",
       "      <td>0.722771</td>\n",
       "    </tr>\n",
       "  </tbody>\n",
       "</table>\n",
       "</div>"
      ],
      "text/plain": [
       "pca                          5         8         10        15\n",
       "C                      0.996707   3.12846    1.9581  0.979031\n",
       "SNV                       False     False     False     False\n",
       "epsilon                 1.04486     4.393  0.226545   3.86235\n",
       "kernel                   linear    linear    linear    linear\n",
       "log1op                     True      True      True     False\n",
       "savgol                     True      True      True      True\n",
       "savgol__deriv                 2         1         2         2\n",
       "savgol__polyorder             3         3         3         3\n",
       "savgol__window_length        16        16        10        10\n",
       "trimmer__wavemax           1344      1348      1420      1350\n",
       "trimmer__wavemin           1166      1012      1168      1034\n",
       "RMSE CV train           5.32275   4.87022   4.73371   4.51472\n",
       "RMSE test               5.15024   4.58787   4.81874   4.72042\n",
       "R2 CV train            0.613969  0.676817  0.694681  0.722277\n",
       "R2 test                0.669985  0.738121  0.711102  0.722771"
      ]
     },
     "execution_count": 34,
     "metadata": {},
     "output_type": "execute_result"
    }
   ],
   "source": [
    "dataset.set_index('pca').T.to_csv('../data/SVR_analysis.csv')\n",
    "dataset.set_index('pca').T"
   ]
  },
  {
   "cell_type": "code",
   "execution_count": null,
   "metadata": {},
   "outputs": [],
   "source": []
  },
  {
   "cell_type": "code",
   "execution_count": null,
   "metadata": {},
   "outputs": [],
   "source": []
  },
  {
   "cell_type": "code",
   "execution_count": null,
   "metadata": {},
   "outputs": [],
   "source": []
  }
 ],
 "metadata": {
  "kernelspec": {
   "display_name": "Python 3",
   "language": "python",
   "name": "python3"
  },
  "language_info": {
   "codemirror_mode": {
    "name": "ipython",
    "version": 3
   },
   "file_extension": ".py",
   "mimetype": "text/x-python",
   "name": "python",
   "nbconvert_exporter": "python",
   "pygments_lexer": "ipython3",
   "version": "3.6.6"
  }
 },
 "nbformat": 4,
 "nbformat_minor": 2
}
