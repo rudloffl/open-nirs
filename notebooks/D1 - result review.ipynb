{
 "cells": [
  {
   "cell_type": "code",
   "execution_count": 1,
   "metadata": {},
   "outputs": [],
   "source": [
    "import pandas as pd\n",
    "import numpy as np\n",
    "import matplotlib.pyplot as plt\n",
    "import os"
   ]
  },
  {
   "cell_type": "code",
   "execution_count": 2,
   "metadata": {},
   "outputs": [],
   "source": [
    "# Font modification\n",
    "#plt.rcParams['font.sans-serif'] = \"Times New Roman\"\n",
    "#plt.rcParams['font.family'] = \"sans-serif\"\n",
    "plt.rcParams['font.size'] = 18"
   ]
  },
  {
   "cell_type": "code",
   "execution_count": 3,
   "metadata": {},
   "outputs": [
    {
     "data": {
      "text/html": [
       "<div>\n",
       "<style scoped>\n",
       "    .dataframe tbody tr th:only-of-type {\n",
       "        vertical-align: middle;\n",
       "    }\n",
       "\n",
       "    .dataframe tbody tr th {\n",
       "        vertical-align: top;\n",
       "    }\n",
       "\n",
       "    .dataframe thead th {\n",
       "        text-align: right;\n",
       "    }\n",
       "</style>\n",
       "<table border=\"1\" class=\"dataframe\">\n",
       "  <thead>\n",
       "    <tr style=\"text-align: right;\">\n",
       "      <th></th>\n",
       "      <th>elnet</th>\n",
       "      <th>SVM</th>\n",
       "    </tr>\n",
       "  </thead>\n",
       "  <tbody>\n",
       "    <tr>\n",
       "      <th>alpha</th>\n",
       "      <td>0.0316228</td>\n",
       "      <td>NA</td>\n",
       "    </tr>\n",
       "    <tr>\n",
       "      <th>l1_ratio</th>\n",
       "      <td>1</td>\n",
       "      <td>NA</td>\n",
       "    </tr>\n",
       "    <tr>\n",
       "      <th>pca__n_components</th>\n",
       "      <td>26</td>\n",
       "      <td>28</td>\n",
       "    </tr>\n",
       "    <tr>\n",
       "      <th>savgol__deriv</th>\n",
       "      <td>2</td>\n",
       "      <td>2</td>\n",
       "    </tr>\n",
       "    <tr>\n",
       "      <th>savgol__polyorder</th>\n",
       "      <td>3</td>\n",
       "      <td>3</td>\n",
       "    </tr>\n",
       "    <tr>\n",
       "      <th>savgol__wavemax</th>\n",
       "      <td>1448</td>\n",
       "      <td>1502</td>\n",
       "    </tr>\n",
       "    <tr>\n",
       "      <th>savgol__wavemin</th>\n",
       "      <td>1068</td>\n",
       "      <td>1038</td>\n",
       "    </tr>\n",
       "    <tr>\n",
       "      <th>savgol__window_length</th>\n",
       "      <td>13</td>\n",
       "      <td>13</td>\n",
       "    </tr>\n",
       "    <tr>\n",
       "      <th>RMSE train</th>\n",
       "      <td>4.35128</td>\n",
       "      <td>4.36447</td>\n",
       "    </tr>\n",
       "    <tr>\n",
       "      <th>R2 train</th>\n",
       "      <td>0.760143</td>\n",
       "      <td>0.758687</td>\n",
       "    </tr>\n",
       "    <tr>\n",
       "      <th>RMSE test</th>\n",
       "      <td>4.6336</td>\n",
       "      <td>4.8851</td>\n",
       "    </tr>\n",
       "    <tr>\n",
       "      <th>R2 test</th>\n",
       "      <td>0.706535</td>\n",
       "      <td>0.673814</td>\n",
       "    </tr>\n",
       "    <tr>\n",
       "      <th>preds +/-1</th>\n",
       "      <td>0.168367</td>\n",
       "      <td>0.158163</td>\n",
       "    </tr>\n",
       "    <tr>\n",
       "      <th>preds +/-2</th>\n",
       "      <td>0.326531</td>\n",
       "      <td>0.352041</td>\n",
       "    </tr>\n",
       "    <tr>\n",
       "      <th>preds +/-3</th>\n",
       "      <td>0.433673</td>\n",
       "      <td>0.479592</td>\n",
       "    </tr>\n",
       "    <tr>\n",
       "      <th>preds +/-4</th>\n",
       "      <td>0.586735</td>\n",
       "      <td>0.571429</td>\n",
       "    </tr>\n",
       "    <tr>\n",
       "      <th>preds +/-6</th>\n",
       "      <td>0.816327</td>\n",
       "      <td>0.795918</td>\n",
       "    </tr>\n",
       "    <tr>\n",
       "      <th>preds +/-8</th>\n",
       "      <td>0.913265</td>\n",
       "      <td>0.908163</td>\n",
       "    </tr>\n",
       "    <tr>\n",
       "      <th>preds +/-10</th>\n",
       "      <td>0.97449</td>\n",
       "      <td>0.954082</td>\n",
       "    </tr>\n",
       "    <tr>\n",
       "      <th>C</th>\n",
       "      <td>NA</td>\n",
       "      <td>1.58489</td>\n",
       "    </tr>\n",
       "    <tr>\n",
       "      <th>epsilon</th>\n",
       "      <td>NA</td>\n",
       "      <td>1</td>\n",
       "    </tr>\n",
       "    <tr>\n",
       "      <th>kernel</th>\n",
       "      <td>NA</td>\n",
       "      <td>0</td>\n",
       "    </tr>\n",
       "  </tbody>\n",
       "</table>\n",
       "</div>"
      ],
      "text/plain": [
       "                           elnet       SVM\n",
       "alpha                  0.0316228        NA\n",
       "l1_ratio                       1        NA\n",
       "pca__n_components             26        28\n",
       "savgol__deriv                  2         2\n",
       "savgol__polyorder              3         3\n",
       "savgol__wavemax             1448      1502\n",
       "savgol__wavemin             1068      1038\n",
       "savgol__window_length         13        13\n",
       "RMSE train               4.35128   4.36447\n",
       "R2 train                0.760143  0.758687\n",
       "RMSE test                 4.6336    4.8851\n",
       "R2 test                 0.706535  0.673814\n",
       "preds +/-1              0.168367  0.158163\n",
       "preds +/-2              0.326531  0.352041\n",
       "preds +/-3              0.433673  0.479592\n",
       "preds +/-4              0.586735  0.571429\n",
       "preds +/-6              0.816327  0.795918\n",
       "preds +/-8              0.913265  0.908163\n",
       "preds +/-10              0.97449  0.954082\n",
       "C                             NA   1.58489\n",
       "epsilon                       NA         1\n",
       "kernel                        NA         0"
      ]
     },
     "execution_count": 3,
     "metadata": {},
     "output_type": "execute_result"
    }
   ],
   "source": [
    "results = pd.DataFrame()\n",
    "for file in [f for f in os.listdir('../data/') if f.startswith('res_') and f.endswith('.csv')]:\n",
    "    df = pd.read_csv('../data/{}'.format(file), index_col=[0])\n",
    "    results = pd.concat([results, df], axis=0, sort=False)\n",
    "    \n",
    "results['savgol__window_length'] = results['savgol__window_length']+1\n",
    "results.fillna('NA', inplace=True)\n",
    "\n",
    "\n",
    "#results.drop(['RMSE opt-rmse', 'R2 opt-rmse'], axis=1, inplace=True)\n",
    "#results.rename(columns={'RMSE opt-r2':'RMSE', 'R2 opt-r2':'R2'}, inplace=True)\n",
    "results.sort_values('RMSE test', inplace=True)\n",
    "results.T"
   ]
  },
  {
   "cell_type": "markdown",
   "metadata": {},
   "source": [
    "# scores"
   ]
  },
  {
   "cell_type": "code",
   "execution_count": 4,
   "metadata": {},
   "outputs": [
    {
     "data": {
      "text/html": [
       "<div>\n",
       "<style scoped>\n",
       "    .dataframe tbody tr th:only-of-type {\n",
       "        vertical-align: middle;\n",
       "    }\n",
       "\n",
       "    .dataframe tbody tr th {\n",
       "        vertical-align: top;\n",
       "    }\n",
       "\n",
       "    .dataframe thead th {\n",
       "        text-align: right;\n",
       "    }\n",
       "</style>\n",
       "<table border=\"1\" class=\"dataframe\">\n",
       "  <thead>\n",
       "    <tr style=\"text-align: right;\">\n",
       "      <th></th>\n",
       "      <th>RMSE test</th>\n",
       "      <th>RMSE train</th>\n",
       "      <th>R2 test</th>\n",
       "      <th>R2 train</th>\n",
       "    </tr>\n",
       "  </thead>\n",
       "  <tbody>\n",
       "    <tr>\n",
       "      <th>elnet</th>\n",
       "      <td>4.633598</td>\n",
       "      <td>4.351283</td>\n",
       "      <td>0.706535</td>\n",
       "      <td>0.760143</td>\n",
       "    </tr>\n",
       "    <tr>\n",
       "      <th>SVM</th>\n",
       "      <td>4.885098</td>\n",
       "      <td>4.364472</td>\n",
       "      <td>0.673814</td>\n",
       "      <td>0.758687</td>\n",
       "    </tr>\n",
       "  </tbody>\n",
       "</table>\n",
       "</div>"
      ],
      "text/plain": [
       "       RMSE test  RMSE train   R2 test  R2 train\n",
       "elnet   4.633598    4.351283  0.706535  0.760143\n",
       "SVM     4.885098    4.364472  0.673814  0.758687"
      ]
     },
     "execution_count": 4,
     "metadata": {},
     "output_type": "execute_result"
    }
   ],
   "source": [
    "# Sorted by RMSE\n",
    "results[['RMSE test', 'RMSE train', 'R2 test', 'R2 train']]"
   ]
  },
  {
   "cell_type": "code",
   "execution_count": 5,
   "metadata": {},
   "outputs": [
    {
     "data": {
      "text/html": [
       "<div>\n",
       "<style scoped>\n",
       "    .dataframe tbody tr th:only-of-type {\n",
       "        vertical-align: middle;\n",
       "    }\n",
       "\n",
       "    .dataframe tbody tr th {\n",
       "        vertical-align: top;\n",
       "    }\n",
       "\n",
       "    .dataframe thead th {\n",
       "        text-align: right;\n",
       "    }\n",
       "</style>\n",
       "<table border=\"1\" class=\"dataframe\">\n",
       "  <thead>\n",
       "    <tr style=\"text-align: right;\">\n",
       "      <th></th>\n",
       "      <th>pca__n_components</th>\n",
       "    </tr>\n",
       "  </thead>\n",
       "  <tbody>\n",
       "    <tr>\n",
       "      <th>elnet</th>\n",
       "      <td>26.0</td>\n",
       "    </tr>\n",
       "    <tr>\n",
       "      <th>SVM</th>\n",
       "      <td>28.0</td>\n",
       "    </tr>\n",
       "  </tbody>\n",
       "</table>\n",
       "</div>"
      ],
      "text/plain": [
       "       pca__n_components\n",
       "elnet               26.0\n",
       "SVM                 28.0"
      ]
     },
     "execution_count": 5,
     "metadata": {},
     "output_type": "execute_result"
    }
   ],
   "source": [
    "# PCA\n",
    "results[['pca__n_components']]"
   ]
  },
  {
   "cell_type": "code",
   "execution_count": 6,
   "metadata": {},
   "outputs": [
    {
     "data": {
      "text/html": [
       "<div>\n",
       "<style scoped>\n",
       "    .dataframe tbody tr th:only-of-type {\n",
       "        vertical-align: middle;\n",
       "    }\n",
       "\n",
       "    .dataframe tbody tr th {\n",
       "        vertical-align: top;\n",
       "    }\n",
       "\n",
       "    .dataframe thead th {\n",
       "        text-align: right;\n",
       "    }\n",
       "</style>\n",
       "<table border=\"1\" class=\"dataframe\">\n",
       "  <thead>\n",
       "    <tr style=\"text-align: right;\">\n",
       "      <th></th>\n",
       "      <th>savgol__deriv</th>\n",
       "      <th>savgol__polyorder</th>\n",
       "      <th>savgol__wavemax</th>\n",
       "      <th>savgol__wavemin</th>\n",
       "      <th>savgol__window_length</th>\n",
       "    </tr>\n",
       "  </thead>\n",
       "  <tbody>\n",
       "    <tr>\n",
       "      <th>elnet</th>\n",
       "      <td>2.0</td>\n",
       "      <td>3.0</td>\n",
       "      <td>1448.0</td>\n",
       "      <td>1068.0</td>\n",
       "      <td>13.0</td>\n",
       "    </tr>\n",
       "    <tr>\n",
       "      <th>SVM</th>\n",
       "      <td>2.0</td>\n",
       "      <td>3.0</td>\n",
       "      <td>1502.0</td>\n",
       "      <td>1038.0</td>\n",
       "      <td>13.0</td>\n",
       "    </tr>\n",
       "  </tbody>\n",
       "</table>\n",
       "</div>"
      ],
      "text/plain": [
       "       savgol__deriv  savgol__polyorder  savgol__wavemax  savgol__wavemin  \\\n",
       "elnet            2.0                3.0           1448.0           1068.0   \n",
       "SVM              2.0                3.0           1502.0           1038.0   \n",
       "\n",
       "       savgol__window_length  \n",
       "elnet                   13.0  \n",
       "SVM                     13.0  "
      ]
     },
     "execution_count": 6,
     "metadata": {},
     "output_type": "execute_result"
    }
   ],
   "source": [
    "# Savgol\n",
    "results[[col for col in results.columns if col.startswith('savgol_')]]"
   ]
  },
  {
   "cell_type": "code",
   "execution_count": 7,
   "metadata": {},
   "outputs": [
    {
     "data": {
      "text/html": [
       "<div>\n",
       "<style scoped>\n",
       "    .dataframe tbody tr th:only-of-type {\n",
       "        vertical-align: middle;\n",
       "    }\n",
       "\n",
       "    .dataframe tbody tr th {\n",
       "        vertical-align: top;\n",
       "    }\n",
       "\n",
       "    .dataframe thead th {\n",
       "        text-align: right;\n",
       "    }\n",
       "</style>\n",
       "<table border=\"1\" class=\"dataframe\">\n",
       "  <thead>\n",
       "    <tr style=\"text-align: right;\">\n",
       "      <th></th>\n",
       "      <th>preds +/-1</th>\n",
       "      <th>preds +/-2</th>\n",
       "      <th>preds +/-3</th>\n",
       "      <th>preds +/-4</th>\n",
       "      <th>preds +/-6</th>\n",
       "      <th>preds +/-8</th>\n",
       "      <th>preds +/-10</th>\n",
       "    </tr>\n",
       "  </thead>\n",
       "  <tbody>\n",
       "    <tr>\n",
       "      <th>elnet</th>\n",
       "      <td>16.836735</td>\n",
       "      <td>32.653061</td>\n",
       "      <td>43.367347</td>\n",
       "      <td>58.673469</td>\n",
       "      <td>81.632653</td>\n",
       "      <td>91.326531</td>\n",
       "      <td>97.448980</td>\n",
       "    </tr>\n",
       "    <tr>\n",
       "      <th>SVM</th>\n",
       "      <td>15.816327</td>\n",
       "      <td>35.204082</td>\n",
       "      <td>47.959184</td>\n",
       "      <td>57.142857</td>\n",
       "      <td>79.591837</td>\n",
       "      <td>90.816327</td>\n",
       "      <td>95.408163</td>\n",
       "    </tr>\n",
       "  </tbody>\n",
       "</table>\n",
       "</div>"
      ],
      "text/plain": [
       "       preds +/-1  preds +/-2  preds +/-3  preds +/-4  preds +/-6  preds +/-8  \\\n",
       "elnet   16.836735   32.653061   43.367347   58.673469   81.632653   91.326531   \n",
       "SVM     15.816327   35.204082   47.959184   57.142857   79.591837   90.816327   \n",
       "\n",
       "       preds +/-10  \n",
       "elnet    97.448980  \n",
       "SVM      95.408163  "
      ]
     },
     "execution_count": 7,
     "metadata": {},
     "output_type": "execute_result"
    }
   ],
   "source": [
    "# Accuracy\n",
    "df = results[[col for col in results.columns if col.startswith('preds')]]\n",
    "df = df*100\n",
    "df"
   ]
  },
  {
   "cell_type": "code",
   "execution_count": null,
   "metadata": {},
   "outputs": [],
   "source": []
  },
  {
   "cell_type": "code",
   "execution_count": 8,
   "metadata": {},
   "outputs": [
    {
     "data": {
      "image/png": "[encoded data removed]",
      "text/plain": [
       "<Figure size 432x288 with 1 Axes>"
      ]
     },
     "metadata": {},
     "output_type": "display_data"
    }
   ],
   "source": [
    "\n",
    "for acc in df.index:\n",
    "    plt.plot([1,2,3,4,6,8,10], df.loc[acc].values, label=acc)\n",
    "    #print(df.loc[acc].values)\n",
    "\n",
    "plt.ylabel('Accuracy inetrval (% achived)')\n",
    "plt.xlabel('Achieved interval')\n",
    "plt.grid()\n",
    "plt.legend()\n",
    "plt.savefig('results - interval.png', bbox_inches = 'tight')\n",
    "plt.show()"
   ]
  },
  {
   "cell_type": "markdown",
   "metadata": {},
   "source": [
    "# Regularization"
   ]
  },
  {
   "cell_type": "code",
   "execution_count": 9,
   "metadata": {},
   "outputs": [
    {
     "data": {
      "text/html": [
       "<div>\n",
       "<style scoped>\n",
       "    .dataframe tbody tr th:only-of-type {\n",
       "        vertical-align: middle;\n",
       "    }\n",
       "\n",
       "    .dataframe tbody tr th {\n",
       "        vertical-align: top;\n",
       "    }\n",
       "\n",
       "    .dataframe thead th {\n",
       "        text-align: right;\n",
       "    }\n",
       "</style>\n",
       "<table border=\"1\" class=\"dataframe\">\n",
       "  <thead>\n",
       "    <tr style=\"text-align: right;\">\n",
       "      <th></th>\n",
       "      <th>alpha</th>\n",
       "      <th>l1_ratio</th>\n",
       "      <th>C</th>\n",
       "      <th>epsilon</th>\n",
       "    </tr>\n",
       "  </thead>\n",
       "  <tbody>\n",
       "    <tr>\n",
       "      <th>elnet</th>\n",
       "      <td>0.0316228</td>\n",
       "      <td>1</td>\n",
       "      <td>NA</td>\n",
       "      <td>NA</td>\n",
       "    </tr>\n",
       "    <tr>\n",
       "      <th>SVM</th>\n",
       "      <td>NA</td>\n",
       "      <td>NA</td>\n",
       "      <td>1.58489</td>\n",
       "      <td>1</td>\n",
       "    </tr>\n",
       "  </tbody>\n",
       "</table>\n",
       "</div>"
      ],
      "text/plain": [
       "           alpha l1_ratio        C epsilon\n",
       "elnet  0.0316228        1       NA      NA\n",
       "SVM           NA       NA  1.58489       1"
      ]
     },
     "execution_count": 9,
     "metadata": {},
     "output_type": "execute_result"
    }
   ],
   "source": [
    "results[['alpha', 'l1_ratio', 'C', 'epsilon']]"
   ]
  },
  {
   "cell_type": "code",
   "execution_count": null,
   "metadata": {},
   "outputs": [],
   "source": []
  },
  {
   "cell_type": "code",
   "execution_count": null,
   "metadata": {},
   "outputs": [],
   "source": []
  }
 ],
 "metadata": {
  "kernelspec": {
   "display_name": "Python 3",
   "language": "python",
   "name": "python3"
  },
  "language_info": {
   "codemirror_mode": {
    "name": "ipython",
    "version": 3
   },
   "file_extension": ".py",
   "mimetype": "text/x-python",
   "name": "python",
   "nbconvert_exporter": "python",
   "pygments_lexer": "ipython3",
   "version": "3.6.6"
  }
 },
 "nbformat": 4,
 "nbformat_minor": 2
}
