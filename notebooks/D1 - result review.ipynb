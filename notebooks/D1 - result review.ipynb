{
 "cells": [
  {
   "cell_type": "code",
   "execution_count": 1,
   "metadata": {},
   "outputs": [],
   "source": [
    "import pandas as pd\n",
    "import numpy as np\n",
    "import matplotlib.pyplot as plt\n",
    "import os"
   ]
  },
  {
   "cell_type": "code",
   "execution_count": 2,
   "metadata": {},
   "outputs": [],
   "source": [
    "# Font modification\n",
    "plt.rcParams['font.sans-serif'] = \"Times New Roman\"\n",
    "plt.rcParams['font.family'] = \"sans-serif\"\n",
    "plt.rcParams['font.size'] = 18"
   ]
  },
  {
   "cell_type": "code",
   "execution_count": 3,
   "metadata": {},
   "outputs": [
    {
     "data": {
      "text/html": [
       "<div>\n",
       "<style scoped>\n",
       "    .dataframe tbody tr th:only-of-type {\n",
       "        vertical-align: middle;\n",
       "    }\n",
       "\n",
       "    .dataframe tbody tr th {\n",
       "        vertical-align: top;\n",
       "    }\n",
       "\n",
       "    .dataframe thead th {\n",
       "        text-align: right;\n",
       "    }\n",
       "</style>\n",
       "<table border=\"1\" class=\"dataframe\">\n",
       "  <thead>\n",
       "    <tr style=\"text-align: right;\">\n",
       "      <th></th>\n",
       "      <th>alpha</th>\n",
       "      <th>l1_ratio</th>\n",
       "      <th>pca__n_components</th>\n",
       "      <th>savgol__deriv</th>\n",
       "      <th>savgol__polyorder</th>\n",
       "      <th>savgol__wavemax</th>\n",
       "      <th>savgol__wavemin</th>\n",
       "      <th>savgol__window_length</th>\n",
       "      <th>RMSE</th>\n",
       "      <th>R2</th>\n",
       "      <th>preds +/-1</th>\n",
       "      <th>preds +/-2</th>\n",
       "      <th>preds +/-3</th>\n",
       "      <th>preds +/-4</th>\n",
       "      <th>preds +/-6</th>\n",
       "      <th>preds +/-8</th>\n",
       "      <th>preds +/-10</th>\n",
       "      <th>C</th>\n",
       "      <th>epsilon</th>\n",
       "      <th>kernel</th>\n",
       "    </tr>\n",
       "  </thead>\n",
       "  <tbody>\n",
       "    <tr>\n",
       "      <th>elnet</th>\n",
       "      <td>0.0630957</td>\n",
       "      <td>1</td>\n",
       "      <td>32.0</td>\n",
       "      <td>2.0</td>\n",
       "      <td>3.0</td>\n",
       "      <td>1436.0</td>\n",
       "      <td>986.0</td>\n",
       "      <td>13.0</td>\n",
       "      <td>4.732336</td>\n",
       "      <td>0.709241</td>\n",
       "      <td>0.160745</td>\n",
       "      <td>0.338409</td>\n",
       "      <td>0.477157</td>\n",
       "      <td>0.582064</td>\n",
       "      <td>0.776650</td>\n",
       "      <td>0.912014</td>\n",
       "      <td>0.969543</td>\n",
       "      <td>NA</td>\n",
       "      <td>NA</td>\n",
       "      <td>NA</td>\n",
       "    </tr>\n",
       "    <tr>\n",
       "      <th>SVM</th>\n",
       "      <td>NA</td>\n",
       "      <td>NA</td>\n",
       "      <td>31.0</td>\n",
       "      <td>1.0</td>\n",
       "      <td>3.0</td>\n",
       "      <td>1446.0</td>\n",
       "      <td>1040.0</td>\n",
       "      <td>13.0</td>\n",
       "      <td>4.836822</td>\n",
       "      <td>0.696260</td>\n",
       "      <td>0.159052</td>\n",
       "      <td>0.301184</td>\n",
       "      <td>0.451777</td>\n",
       "      <td>0.582064</td>\n",
       "      <td>0.774958</td>\n",
       "      <td>0.906937</td>\n",
       "      <td>0.969543</td>\n",
       "      <td>3.16228</td>\n",
       "      <td>0.630957</td>\n",
       "      <td>0</td>\n",
       "    </tr>\n",
       "  </tbody>\n",
       "</table>\n",
       "</div>"
      ],
      "text/plain": [
       "           alpha l1_ratio  pca__n_components  savgol__deriv  \\\n",
       "elnet  0.0630957        1               32.0            2.0   \n",
       "SVM           NA       NA               31.0            1.0   \n",
       "\n",
       "       savgol__polyorder  savgol__wavemax  savgol__wavemin  \\\n",
       "elnet                3.0           1436.0            986.0   \n",
       "SVM                  3.0           1446.0           1040.0   \n",
       "\n",
       "       savgol__window_length      RMSE        R2  preds +/-1  preds +/-2  \\\n",
       "elnet                   13.0  4.732336  0.709241    0.160745    0.338409   \n",
       "SVM                     13.0  4.836822  0.696260    0.159052    0.301184   \n",
       "\n",
       "       preds +/-3  preds +/-4  preds +/-6  preds +/-8  preds +/-10        C  \\\n",
       "elnet    0.477157    0.582064    0.776650    0.912014     0.969543       NA   \n",
       "SVM      0.451777    0.582064    0.774958    0.906937     0.969543  3.16228   \n",
       "\n",
       "        epsilon kernel  \n",
       "elnet        NA     NA  \n",
       "SVM    0.630957      0  "
      ]
     },
     "execution_count": 3,
     "metadata": {},
     "output_type": "execute_result"
    }
   ],
   "source": [
    "results = pd.DataFrame()\n",
    "for file in [f for f in os.listdir('../data/') if f.startswith('res_') and f.endswith('.csv')]:\n",
    "    df = pd.read_csv('../data/{}'.format(file), index_col=[0])\n",
    "    results = pd.concat([results, df], axis=0, sort=False)\n",
    "    \n",
    "results['savgol__window_length'] = results['savgol__window_length']+1\n",
    "results.fillna('NA', inplace=True)\n",
    "\n",
    "\n",
    "results.drop(['RMSE opt-rmse', 'R2 opt-rmse'], axis=1, inplace=True)\n",
    "results.rename(columns={'RMSE opt-r2':'RMSE', 'R2 opt-r2':'R2'}, inplace=True)\n",
    "results.sort_values('RMSE', inplace=True)\n",
    "results"
   ]
  },
  {
   "cell_type": "markdown",
   "metadata": {},
   "source": [
    "# scores"
   ]
  },
  {
   "cell_type": "code",
   "execution_count": 4,
   "metadata": {},
   "outputs": [
    {
     "data": {
      "text/html": [
       "<div>\n",
       "<style scoped>\n",
       "    .dataframe tbody tr th:only-of-type {\n",
       "        vertical-align: middle;\n",
       "    }\n",
       "\n",
       "    .dataframe tbody tr th {\n",
       "        vertical-align: top;\n",
       "    }\n",
       "\n",
       "    .dataframe thead th {\n",
       "        text-align: right;\n",
       "    }\n",
       "</style>\n",
       "<table border=\"1\" class=\"dataframe\">\n",
       "  <thead>\n",
       "    <tr style=\"text-align: right;\">\n",
       "      <th></th>\n",
       "      <th>RMSE</th>\n",
       "      <th>R2</th>\n",
       "    </tr>\n",
       "  </thead>\n",
       "  <tbody>\n",
       "    <tr>\n",
       "      <th>elnet</th>\n",
       "      <td>4.732336</td>\n",
       "      <td>0.709241</td>\n",
       "    </tr>\n",
       "    <tr>\n",
       "      <th>SVM</th>\n",
       "      <td>4.836822</td>\n",
       "      <td>0.696260</td>\n",
       "    </tr>\n",
       "  </tbody>\n",
       "</table>\n",
       "</div>"
      ],
      "text/plain": [
       "           RMSE        R2\n",
       "elnet  4.732336  0.709241\n",
       "SVM    4.836822  0.696260"
      ]
     },
     "execution_count": 4,
     "metadata": {},
     "output_type": "execute_result"
    }
   ],
   "source": [
    "# Sorted by RMSE\n",
    "results[['RMSE', 'R2']]"
   ]
  },
  {
   "cell_type": "code",
   "execution_count": 5,
   "metadata": {},
   "outputs": [
    {
     "data": {
      "text/html": [
       "<div>\n",
       "<style scoped>\n",
       "    .dataframe tbody tr th:only-of-type {\n",
       "        vertical-align: middle;\n",
       "    }\n",
       "\n",
       "    .dataframe tbody tr th {\n",
       "        vertical-align: top;\n",
       "    }\n",
       "\n",
       "    .dataframe thead th {\n",
       "        text-align: right;\n",
       "    }\n",
       "</style>\n",
       "<table border=\"1\" class=\"dataframe\">\n",
       "  <thead>\n",
       "    <tr style=\"text-align: right;\">\n",
       "      <th></th>\n",
       "      <th>R2</th>\n",
       "      <th>RMSE</th>\n",
       "    </tr>\n",
       "  </thead>\n",
       "  <tbody>\n",
       "    <tr>\n",
       "      <th>elnet</th>\n",
       "      <td>0.709241</td>\n",
       "      <td>4.732336</td>\n",
       "    </tr>\n",
       "    <tr>\n",
       "      <th>SVM</th>\n",
       "      <td>0.696260</td>\n",
       "      <td>4.836822</td>\n",
       "    </tr>\n",
       "  </tbody>\n",
       "</table>\n",
       "</div>"
      ],
      "text/plain": [
       "             R2      RMSE\n",
       "elnet  0.709241  4.732336\n",
       "SVM    0.696260  4.836822"
      ]
     },
     "execution_count": 5,
     "metadata": {},
     "output_type": "execute_result"
    }
   ],
   "source": [
    "# Sorted by RMSE\n",
    "results[['R2', 'RMSE', ]].sort_values('R2', ascending = False)"
   ]
  },
  {
   "cell_type": "code",
   "execution_count": 6,
   "metadata": {},
   "outputs": [
    {
     "data": {
      "text/html": [
       "<div>\n",
       "<style scoped>\n",
       "    .dataframe tbody tr th:only-of-type {\n",
       "        vertical-align: middle;\n",
       "    }\n",
       "\n",
       "    .dataframe tbody tr th {\n",
       "        vertical-align: top;\n",
       "    }\n",
       "\n",
       "    .dataframe thead th {\n",
       "        text-align: right;\n",
       "    }\n",
       "</style>\n",
       "<table border=\"1\" class=\"dataframe\">\n",
       "  <thead>\n",
       "    <tr style=\"text-align: right;\">\n",
       "      <th></th>\n",
       "      <th>pca__n_components</th>\n",
       "    </tr>\n",
       "  </thead>\n",
       "  <tbody>\n",
       "    <tr>\n",
       "      <th>elnet</th>\n",
       "      <td>32.0</td>\n",
       "    </tr>\n",
       "    <tr>\n",
       "      <th>SVM</th>\n",
       "      <td>31.0</td>\n",
       "    </tr>\n",
       "  </tbody>\n",
       "</table>\n",
       "</div>"
      ],
      "text/plain": [
       "       pca__n_components\n",
       "elnet               32.0\n",
       "SVM                 31.0"
      ]
     },
     "execution_count": 6,
     "metadata": {},
     "output_type": "execute_result"
    }
   ],
   "source": [
    "# PCA\n",
    "results[['pca__n_components']]"
   ]
  },
  {
   "cell_type": "code",
   "execution_count": 7,
   "metadata": {},
   "outputs": [
    {
     "data": {
      "text/html": [
       "<div>\n",
       "<style scoped>\n",
       "    .dataframe tbody tr th:only-of-type {\n",
       "        vertical-align: middle;\n",
       "    }\n",
       "\n",
       "    .dataframe tbody tr th {\n",
       "        vertical-align: top;\n",
       "    }\n",
       "\n",
       "    .dataframe thead th {\n",
       "        text-align: right;\n",
       "    }\n",
       "</style>\n",
       "<table border=\"1\" class=\"dataframe\">\n",
       "  <thead>\n",
       "    <tr style=\"text-align: right;\">\n",
       "      <th></th>\n",
       "      <th>savgol__deriv</th>\n",
       "      <th>savgol__polyorder</th>\n",
       "      <th>savgol__wavemax</th>\n",
       "      <th>savgol__wavemin</th>\n",
       "      <th>savgol__window_length</th>\n",
       "    </tr>\n",
       "  </thead>\n",
       "  <tbody>\n",
       "    <tr>\n",
       "      <th>elnet</th>\n",
       "      <td>2.0</td>\n",
       "      <td>3.0</td>\n",
       "      <td>1436.0</td>\n",
       "      <td>986.0</td>\n",
       "      <td>13.0</td>\n",
       "    </tr>\n",
       "    <tr>\n",
       "      <th>SVM</th>\n",
       "      <td>1.0</td>\n",
       "      <td>3.0</td>\n",
       "      <td>1446.0</td>\n",
       "      <td>1040.0</td>\n",
       "      <td>13.0</td>\n",
       "    </tr>\n",
       "  </tbody>\n",
       "</table>\n",
       "</div>"
      ],
      "text/plain": [
       "       savgol__deriv  savgol__polyorder  savgol__wavemax  savgol__wavemin  \\\n",
       "elnet            2.0                3.0           1436.0            986.0   \n",
       "SVM              1.0                3.0           1446.0           1040.0   \n",
       "\n",
       "       savgol__window_length  \n",
       "elnet                   13.0  \n",
       "SVM                     13.0  "
      ]
     },
     "execution_count": 7,
     "metadata": {},
     "output_type": "execute_result"
    }
   ],
   "source": [
    "# Savgol\n",
    "results[[col for col in results.columns if col.startswith('savgol_')]]"
   ]
  },
  {
   "cell_type": "code",
   "execution_count": 8,
   "metadata": {},
   "outputs": [
    {
     "data": {
      "text/html": [
       "<div>\n",
       "<style scoped>\n",
       "    .dataframe tbody tr th:only-of-type {\n",
       "        vertical-align: middle;\n",
       "    }\n",
       "\n",
       "    .dataframe tbody tr th {\n",
       "        vertical-align: top;\n",
       "    }\n",
       "\n",
       "    .dataframe thead th {\n",
       "        text-align: right;\n",
       "    }\n",
       "</style>\n",
       "<table border=\"1\" class=\"dataframe\">\n",
       "  <thead>\n",
       "    <tr style=\"text-align: right;\">\n",
       "      <th></th>\n",
       "      <th>preds +/-1</th>\n",
       "      <th>preds +/-2</th>\n",
       "      <th>preds +/-3</th>\n",
       "      <th>preds +/-4</th>\n",
       "      <th>preds +/-6</th>\n",
       "      <th>preds +/-8</th>\n",
       "      <th>preds +/-10</th>\n",
       "    </tr>\n",
       "  </thead>\n",
       "  <tbody>\n",
       "    <tr>\n",
       "      <th>elnet</th>\n",
       "      <td>16.074450</td>\n",
       "      <td>33.840948</td>\n",
       "      <td>47.715736</td>\n",
       "      <td>58.20643</td>\n",
       "      <td>77.664975</td>\n",
       "      <td>91.201354</td>\n",
       "      <td>96.954315</td>\n",
       "    </tr>\n",
       "    <tr>\n",
       "      <th>SVM</th>\n",
       "      <td>15.905245</td>\n",
       "      <td>30.118443</td>\n",
       "      <td>45.177665</td>\n",
       "      <td>58.20643</td>\n",
       "      <td>77.495770</td>\n",
       "      <td>90.693739</td>\n",
       "      <td>96.954315</td>\n",
       "    </tr>\n",
       "  </tbody>\n",
       "</table>\n",
       "</div>"
      ],
      "text/plain": [
       "       preds +/-1  preds +/-2  preds +/-3  preds +/-4  preds +/-6  preds +/-8  \\\n",
       "elnet   16.074450   33.840948   47.715736    58.20643   77.664975   91.201354   \n",
       "SVM     15.905245   30.118443   45.177665    58.20643   77.495770   90.693739   \n",
       "\n",
       "       preds +/-10  \n",
       "elnet    96.954315  \n",
       "SVM      96.954315  "
      ]
     },
     "execution_count": 8,
     "metadata": {},
     "output_type": "execute_result"
    }
   ],
   "source": [
    "# Accuracy\n",
    "df = results[[col for col in results.columns if col.startswith('preds')]]\n",
    "df = df*100\n",
    "df"
   ]
  },
  {
   "cell_type": "code",
   "execution_count": null,
   "metadata": {},
   "outputs": [],
   "source": []
  },
  {
   "cell_type": "code",
   "execution_count": 9,
   "metadata": {},
   "outputs": [
    {
     "data": {
      "image/png": "[encoded data removed]",
      "text/plain": [
       "<Figure size 432x288 with 1 Axes>"
      ]
     },
     "metadata": {},
     "output_type": "display_data"
    }
   ],
   "source": [
    "\n",
    "for acc in df.index:\n",
    "    plt.plot([1,2,3,4,6,8,10], df.loc[acc].values, label=acc)\n",
    "    #print(df.loc[acc].values)\n",
    "\n",
    "plt.ylabel('Accuracy inetrval (% achived)')\n",
    "plt.xlabel('Achieved interval')\n",
    "plt.grid()\n",
    "plt.legend()\n",
    "plt.savefig('results - interval.png', bbox_inches = 'tight')\n",
    "plt.show()"
   ]
  },
  {
   "cell_type": "markdown",
   "metadata": {},
   "source": [
    "# Regularization"
   ]
  },
  {
   "cell_type": "code",
   "execution_count": 10,
   "metadata": {},
   "outputs": [
    {
     "data": {
      "text/html": [
       "<div>\n",
       "<style scoped>\n",
       "    .dataframe tbody tr th:only-of-type {\n",
       "        vertical-align: middle;\n",
       "    }\n",
       "\n",
       "    .dataframe tbody tr th {\n",
       "        vertical-align: top;\n",
       "    }\n",
       "\n",
       "    .dataframe thead th {\n",
       "        text-align: right;\n",
       "    }\n",
       "</style>\n",
       "<table border=\"1\" class=\"dataframe\">\n",
       "  <thead>\n",
       "    <tr style=\"text-align: right;\">\n",
       "      <th></th>\n",
       "      <th>alpha</th>\n",
       "      <th>l1_ratio</th>\n",
       "      <th>C</th>\n",
       "      <th>epsilon</th>\n",
       "    </tr>\n",
       "  </thead>\n",
       "  <tbody>\n",
       "    <tr>\n",
       "      <th>elnet</th>\n",
       "      <td>0.0630957</td>\n",
       "      <td>1</td>\n",
       "      <td>NA</td>\n",
       "      <td>NA</td>\n",
       "    </tr>\n",
       "    <tr>\n",
       "      <th>SVM</th>\n",
       "      <td>NA</td>\n",
       "      <td>NA</td>\n",
       "      <td>3.16228</td>\n",
       "      <td>0.630957</td>\n",
       "    </tr>\n",
       "  </tbody>\n",
       "</table>\n",
       "</div>"
      ],
      "text/plain": [
       "           alpha l1_ratio        C   epsilon\n",
       "elnet  0.0630957        1       NA        NA\n",
       "SVM           NA       NA  3.16228  0.630957"
      ]
     },
     "execution_count": 10,
     "metadata": {},
     "output_type": "execute_result"
    }
   ],
   "source": [
    "results[['alpha', 'l1_ratio', 'C', 'epsilon']]"
   ]
  },
  {
   "cell_type": "code",
   "execution_count": null,
   "metadata": {},
   "outputs": [],
   "source": []
  },
  {
   "cell_type": "code",
   "execution_count": null,
   "metadata": {},
   "outputs": [],
   "source": []
  }
 ],
 "metadata": {
  "kernelspec": {
   "display_name": "Python 3",
   "language": "python",
   "name": "python3"
  },
  "language_info": {
   "codemirror_mode": {
    "name": "ipython",
    "version": 3
   },
   "file_extension": ".py",
   "mimetype": "text/x-python",
   "name": "python",
   "nbconvert_exporter": "python",
   "pygments_lexer": "ipython3",
   "version": "3.6.6"
  }
 },
 "nbformat": 4,
 "nbformat_minor": 2
}
