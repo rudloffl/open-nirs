{
 "cells": [
  {
   "cell_type": "code",
   "execution_count": 1,
   "metadata": {},
   "outputs": [],
   "source": [
    "import pandas as pd\n",
    "import numpy as np\n",
    "import matplotlib.pyplot as plt\n",
    "import os"
   ]
  },
  {
   "cell_type": "code",
   "execution_count": 2,
   "metadata": {},
   "outputs": [],
   "source": [
    "# Font modification\n",
    "#plt.rcParams['font.sans-serif'] = \"Times New Roman\"\n",
    "#plt.rcParams['font.family'] = \"sans-serif\"\n",
    "plt.rcParams['font.size'] = 18"
   ]
  },
  {
   "cell_type": "code",
   "execution_count": 3,
   "metadata": {},
   "outputs": [
    {
     "data": {
      "text/html": [
       "<div>\n",
       "<style scoped>\n",
       "    .dataframe tbody tr th:only-of-type {\n",
       "        vertical-align: middle;\n",
       "    }\n",
       "\n",
       "    .dataframe tbody tr th {\n",
       "        vertical-align: top;\n",
       "    }\n",
       "\n",
       "    .dataframe thead th {\n",
       "        text-align: right;\n",
       "    }\n",
       "</style>\n",
       "<table border=\"1\" class=\"dataframe\">\n",
       "  <thead>\n",
       "    <tr style=\"text-align: right;\">\n",
       "      <th></th>\n",
       "      <th>elnet</th>\n",
       "      <th>SVM</th>\n",
       "    </tr>\n",
       "  </thead>\n",
       "  <tbody>\n",
       "    <tr>\n",
       "      <th>alpha</th>\n",
       "      <td>0.0500899</td>\n",
       "      <td>NA</td>\n",
       "    </tr>\n",
       "    <tr>\n",
       "      <th>l1_ratio</th>\n",
       "      <td>0.946156</td>\n",
       "      <td>NA</td>\n",
       "    </tr>\n",
       "    <tr>\n",
       "      <th>savgol__deriv</th>\n",
       "      <td>2</td>\n",
       "      <td>2</td>\n",
       "    </tr>\n",
       "    <tr>\n",
       "      <th>savgol__polyorder</th>\n",
       "      <td>3</td>\n",
       "      <td>3</td>\n",
       "    </tr>\n",
       "    <tr>\n",
       "      <th>savgol__wavemax</th>\n",
       "      <td>1424</td>\n",
       "      <td>1456</td>\n",
       "    </tr>\n",
       "    <tr>\n",
       "      <th>savgol__wavemin</th>\n",
       "      <td>1040</td>\n",
       "      <td>1028</td>\n",
       "    </tr>\n",
       "    <tr>\n",
       "      <th>savgol__window_length</th>\n",
       "      <td>19</td>\n",
       "      <td>19</td>\n",
       "    </tr>\n",
       "    <tr>\n",
       "      <th>RMSE train</th>\n",
       "      <td>4.3384</td>\n",
       "      <td>4.75475</td>\n",
       "    </tr>\n",
       "    <tr>\n",
       "      <th>R2 train</th>\n",
       "      <td>0.762382</td>\n",
       "      <td>0.714585</td>\n",
       "    </tr>\n",
       "    <tr>\n",
       "      <th>RMSE test</th>\n",
       "      <td>4.56163</td>\n",
       "      <td>4.87274</td>\n",
       "    </tr>\n",
       "    <tr>\n",
       "      <th>R2 test</th>\n",
       "      <td>0.713291</td>\n",
       "      <td>0.67285</td>\n",
       "    </tr>\n",
       "    <tr>\n",
       "      <th>preds +/-1</th>\n",
       "      <td>0.234694</td>\n",
       "      <td>0.219388</td>\n",
       "    </tr>\n",
       "    <tr>\n",
       "      <th>preds +/-2</th>\n",
       "      <td>0.372449</td>\n",
       "      <td>0.341837</td>\n",
       "    </tr>\n",
       "    <tr>\n",
       "      <th>preds +/-3</th>\n",
       "      <td>0.505102</td>\n",
       "      <td>0.494898</td>\n",
       "    </tr>\n",
       "    <tr>\n",
       "      <th>preds +/-4</th>\n",
       "      <td>0.642857</td>\n",
       "      <td>0.632653</td>\n",
       "    </tr>\n",
       "    <tr>\n",
       "      <th>preds +/-6</th>\n",
       "      <td>0.80102</td>\n",
       "      <td>0.75</td>\n",
       "    </tr>\n",
       "    <tr>\n",
       "      <th>preds +/-8</th>\n",
       "      <td>0.923469</td>\n",
       "      <td>0.892857</td>\n",
       "    </tr>\n",
       "    <tr>\n",
       "      <th>preds +/-10</th>\n",
       "      <td>0.969388</td>\n",
       "      <td>0.959184</td>\n",
       "    </tr>\n",
       "    <tr>\n",
       "      <th>C</th>\n",
       "      <td>NA</td>\n",
       "      <td>2.01105</td>\n",
       "    </tr>\n",
       "    <tr>\n",
       "      <th>epsilon</th>\n",
       "      <td>NA</td>\n",
       "      <td>0.70656</td>\n",
       "    </tr>\n",
       "    <tr>\n",
       "      <th>kernel</th>\n",
       "      <td>NA</td>\n",
       "      <td>0</td>\n",
       "    </tr>\n",
       "  </tbody>\n",
       "</table>\n",
       "</div>"
      ],
      "text/plain": [
       "                           elnet       SVM\n",
       "alpha                  0.0500899        NA\n",
       "l1_ratio                0.946156        NA\n",
       "savgol__deriv                  2         2\n",
       "savgol__polyorder              3         3\n",
       "savgol__wavemax             1424      1456\n",
       "savgol__wavemin             1040      1028\n",
       "savgol__window_length         19        19\n",
       "RMSE train                4.3384   4.75475\n",
       "R2 train                0.762382  0.714585\n",
       "RMSE test                4.56163   4.87274\n",
       "R2 test                 0.713291   0.67285\n",
       "preds +/-1              0.234694  0.219388\n",
       "preds +/-2              0.372449  0.341837\n",
       "preds +/-3              0.505102  0.494898\n",
       "preds +/-4              0.642857  0.632653\n",
       "preds +/-6               0.80102      0.75\n",
       "preds +/-8              0.923469  0.892857\n",
       "preds +/-10             0.969388  0.959184\n",
       "C                             NA   2.01105\n",
       "epsilon                       NA   0.70656\n",
       "kernel                        NA         0"
      ]
     },
     "execution_count": 3,
     "metadata": {},
     "output_type": "execute_result"
    }
   ],
   "source": [
    "results = pd.DataFrame()\n",
    "for file in [f for f in os.listdir('../data/') if f.startswith('res_') and f.endswith('.csv')]:\n",
    "    df = pd.read_csv('../data/{}'.format(file), index_col=[0])\n",
    "    results = pd.concat([results, df], axis=0, sort=False)\n",
    "    \n",
    "results['savgol__window_length'] = results['savgol__window_length']+1\n",
    "results.fillna('NA', inplace=True)\n",
    "\n",
    "\n",
    "#results.drop(['RMSE opt-rmse', 'R2 opt-rmse'], axis=1, inplace=True)\n",
    "#results.rename(columns={'RMSE opt-r2':'RMSE', 'R2 opt-r2':'R2'}, inplace=True)\n",
    "results.sort_values('RMSE test', inplace=True)\n",
    "results.T"
   ]
  },
  {
   "cell_type": "markdown",
   "metadata": {},
   "source": [
    "# scores"
   ]
  },
  {
   "cell_type": "code",
   "execution_count": 4,
   "metadata": {},
   "outputs": [
    {
     "data": {
      "text/html": [
       "<div>\n",
       "<style scoped>\n",
       "    .dataframe tbody tr th:only-of-type {\n",
       "        vertical-align: middle;\n",
       "    }\n",
       "\n",
       "    .dataframe tbody tr th {\n",
       "        vertical-align: top;\n",
       "    }\n",
       "\n",
       "    .dataframe thead th {\n",
       "        text-align: right;\n",
       "    }\n",
       "</style>\n",
       "<table border=\"1\" class=\"dataframe\">\n",
       "  <thead>\n",
       "    <tr style=\"text-align: right;\">\n",
       "      <th></th>\n",
       "      <th>RMSE test</th>\n",
       "      <th>RMSE train</th>\n",
       "      <th>R2 test</th>\n",
       "      <th>R2 train</th>\n",
       "    </tr>\n",
       "  </thead>\n",
       "  <tbody>\n",
       "    <tr>\n",
       "      <th>elnet</th>\n",
       "      <td>4.561625</td>\n",
       "      <td>4.338399</td>\n",
       "      <td>0.713291</td>\n",
       "      <td>0.762382</td>\n",
       "    </tr>\n",
       "    <tr>\n",
       "      <th>SVM</th>\n",
       "      <td>4.872736</td>\n",
       "      <td>4.754751</td>\n",
       "      <td>0.672850</td>\n",
       "      <td>0.714585</td>\n",
       "    </tr>\n",
       "  </tbody>\n",
       "</table>\n",
       "</div>"
      ],
      "text/plain": [
       "       RMSE test  RMSE train   R2 test  R2 train\n",
       "elnet   4.561625    4.338399  0.713291  0.762382\n",
       "SVM     4.872736    4.754751  0.672850  0.714585"
      ]
     },
     "execution_count": 4,
     "metadata": {},
     "output_type": "execute_result"
    }
   ],
   "source": [
    "# Sorted by RMSE\n",
    "results[['RMSE test', 'RMSE train', 'R2 test', 'R2 train']]"
   ]
  },
  {
   "cell_type": "code",
   "execution_count": 7,
   "metadata": {},
   "outputs": [],
   "source": [
    "# PCA\n",
    "#results[['pca__n_components']]"
   ]
  },
  {
   "cell_type": "code",
   "execution_count": 8,
   "metadata": {},
   "outputs": [
    {
     "data": {
      "text/html": [
       "<div>\n",
       "<style scoped>\n",
       "    .dataframe tbody tr th:only-of-type {\n",
       "        vertical-align: middle;\n",
       "    }\n",
       "\n",
       "    .dataframe tbody tr th {\n",
       "        vertical-align: top;\n",
       "    }\n",
       "\n",
       "    .dataframe thead th {\n",
       "        text-align: right;\n",
       "    }\n",
       "</style>\n",
       "<table border=\"1\" class=\"dataframe\">\n",
       "  <thead>\n",
       "    <tr style=\"text-align: right;\">\n",
       "      <th></th>\n",
       "      <th>savgol__deriv</th>\n",
       "      <th>savgol__polyorder</th>\n",
       "      <th>savgol__wavemax</th>\n",
       "      <th>savgol__wavemin</th>\n",
       "      <th>savgol__window_length</th>\n",
       "    </tr>\n",
       "  </thead>\n",
       "  <tbody>\n",
       "    <tr>\n",
       "      <th>elnet</th>\n",
       "      <td>2.0</td>\n",
       "      <td>3.0</td>\n",
       "      <td>1424.0</td>\n",
       "      <td>1040.0</td>\n",
       "      <td>19.0</td>\n",
       "    </tr>\n",
       "    <tr>\n",
       "      <th>SVM</th>\n",
       "      <td>2.0</td>\n",
       "      <td>3.0</td>\n",
       "      <td>1456.0</td>\n",
       "      <td>1028.0</td>\n",
       "      <td>19.0</td>\n",
       "    </tr>\n",
       "  </tbody>\n",
       "</table>\n",
       "</div>"
      ],
      "text/plain": [
       "       savgol__deriv  savgol__polyorder  savgol__wavemax  savgol__wavemin  \\\n",
       "elnet            2.0                3.0           1424.0           1040.0   \n",
       "SVM              2.0                3.0           1456.0           1028.0   \n",
       "\n",
       "       savgol__window_length  \n",
       "elnet                   19.0  \n",
       "SVM                     19.0  "
      ]
     },
     "execution_count": 8,
     "metadata": {},
     "output_type": "execute_result"
    }
   ],
   "source": [
    "# Savgol\n",
    "results[[col for col in results.columns if col.startswith('savgol_')]]"
   ]
  },
  {
   "cell_type": "code",
   "execution_count": 9,
   "metadata": {},
   "outputs": [
    {
     "data": {
      "text/html": [
       "<div>\n",
       "<style scoped>\n",
       "    .dataframe tbody tr th:only-of-type {\n",
       "        vertical-align: middle;\n",
       "    }\n",
       "\n",
       "    .dataframe tbody tr th {\n",
       "        vertical-align: top;\n",
       "    }\n",
       "\n",
       "    .dataframe thead th {\n",
       "        text-align: right;\n",
       "    }\n",
       "</style>\n",
       "<table border=\"1\" class=\"dataframe\">\n",
       "  <thead>\n",
       "    <tr style=\"text-align: right;\">\n",
       "      <th></th>\n",
       "      <th>preds +/-1</th>\n",
       "      <th>preds +/-2</th>\n",
       "      <th>preds +/-3</th>\n",
       "      <th>preds +/-4</th>\n",
       "      <th>preds +/-6</th>\n",
       "      <th>preds +/-8</th>\n",
       "      <th>preds +/-10</th>\n",
       "    </tr>\n",
       "  </thead>\n",
       "  <tbody>\n",
       "    <tr>\n",
       "      <th>elnet</th>\n",
       "      <td>23.469388</td>\n",
       "      <td>37.244898</td>\n",
       "      <td>50.510204</td>\n",
       "      <td>64.285714</td>\n",
       "      <td>80.102041</td>\n",
       "      <td>92.346939</td>\n",
       "      <td>96.938776</td>\n",
       "    </tr>\n",
       "    <tr>\n",
       "      <th>SVM</th>\n",
       "      <td>21.938776</td>\n",
       "      <td>34.183673</td>\n",
       "      <td>49.489796</td>\n",
       "      <td>63.265306</td>\n",
       "      <td>75.000000</td>\n",
       "      <td>89.285714</td>\n",
       "      <td>95.918367</td>\n",
       "    </tr>\n",
       "  </tbody>\n",
       "</table>\n",
       "</div>"
      ],
      "text/plain": [
       "       preds +/-1  preds +/-2  preds +/-3  preds +/-4  preds +/-6  preds +/-8  \\\n",
       "elnet   23.469388   37.244898   50.510204   64.285714   80.102041   92.346939   \n",
       "SVM     21.938776   34.183673   49.489796   63.265306   75.000000   89.285714   \n",
       "\n",
       "       preds +/-10  \n",
       "elnet    96.938776  \n",
       "SVM      95.918367  "
      ]
     },
     "execution_count": 9,
     "metadata": {},
     "output_type": "execute_result"
    }
   ],
   "source": [
    "# Accuracy\n",
    "df = results[[col for col in results.columns if col.startswith('preds')]]\n",
    "df = df*100\n",
    "df"
   ]
  },
  {
   "cell_type": "code",
   "execution_count": null,
   "metadata": {},
   "outputs": [],
   "source": []
  },
  {
   "cell_type": "code",
   "execution_count": 10,
   "metadata": {},
   "outputs": [
    {
     "data": {
      "image/png": "[encoded data removed]",
      "text/plain": [
       "<Figure size 432x288 with 1 Axes>"
      ]
     },
     "metadata": {},
     "output_type": "display_data"
    }
   ],
   "source": [
    "\n",
    "for acc in df.index:\n",
    "    plt.plot([1,2,3,4,6,8,10], df.loc[acc].values, label=acc)\n",
    "    #print(df.loc[acc].values)\n",
    "\n",
    "plt.ylabel('Accuracy inetrval (% achived)')\n",
    "plt.xlabel('Achieved interval')\n",
    "plt.grid()\n",
    "plt.legend()\n",
    "plt.savefig('results - interval.png', bbox_inches = 'tight')\n",
    "plt.show()"
   ]
  },
  {
   "cell_type": "markdown",
   "metadata": {},
   "source": [
    "# Regularization"
   ]
  },
  {
   "cell_type": "code",
   "execution_count": null,
   "metadata": {},
   "outputs": [],
   "source": [
    "results[['alpha', 'l1_ratio', 'C', 'epsilon']]"
   ]
  },
  {
   "cell_type": "code",
   "execution_count": null,
   "metadata": {},
   "outputs": [],
   "source": []
  },
  {
   "cell_type": "code",
   "execution_count": null,
   "metadata": {},
   "outputs": [],
   "source": []
  }
 ],
 "metadata": {
  "kernelspec": {
   "display_name": "Python 3",
   "language": "python",
   "name": "python3"
  },
  "language_info": {
   "codemirror_mode": {
    "name": "ipython",
    "version": 3
   },
   "file_extension": ".py",
   "mimetype": "text/x-python",
   "name": "python",
   "nbconvert_exporter": "python",
   "pygments_lexer": "ipython3",
   "version": "3.6.6"
  }
 },
 "nbformat": 4,
 "nbformat_minor": 2
}
