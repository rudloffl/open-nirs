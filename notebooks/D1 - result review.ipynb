{
 "cells": [
  {
   "cell_type": "code",
   "execution_count": 1,
   "metadata": {},
   "outputs": [],
   "source": [
    "import pandas as pd\n",
    "import numpy as np\n",
    "import matplotlib.pyplot as plt\n",
    "import os"
   ]
  },
  {
   "cell_type": "code",
   "execution_count": 2,
   "metadata": {},
   "outputs": [],
   "source": [
    "# Font modification\n",
    "plt.rcParams['font.sans-serif'] = \"Times New Roman\"\n",
    "plt.rcParams['font.family'] = \"sans-serif\"\n",
    "plt.rcParams['font.size'] = 18"
   ]
  },
  {
   "cell_type": "code",
   "execution_count": 3,
   "metadata": {},
   "outputs": [
    {
     "data": {
      "text/html": [
       "<div>\n",
       "<style scoped>\n",
       "    .dataframe tbody tr th:only-of-type {\n",
       "        vertical-align: middle;\n",
       "    }\n",
       "\n",
       "    .dataframe tbody tr th {\n",
       "        vertical-align: top;\n",
       "    }\n",
       "\n",
       "    .dataframe thead th {\n",
       "        text-align: right;\n",
       "    }\n",
       "</style>\n",
       "<table border=\"1\" class=\"dataframe\">\n",
       "  <thead>\n",
       "    <tr style=\"text-align: right;\">\n",
       "      <th></th>\n",
       "      <th>elnet</th>\n",
       "      <th>SVM</th>\n",
       "    </tr>\n",
       "  </thead>\n",
       "  <tbody>\n",
       "    <tr>\n",
       "      <th>alpha</th>\n",
       "      <td>0.0251189</td>\n",
       "      <td>NA</td>\n",
       "    </tr>\n",
       "    <tr>\n",
       "      <th>l1_ratio</th>\n",
       "      <td>1</td>\n",
       "      <td>NA</td>\n",
       "    </tr>\n",
       "    <tr>\n",
       "      <th>pca__n_components</th>\n",
       "      <td>26</td>\n",
       "      <td>35</td>\n",
       "    </tr>\n",
       "    <tr>\n",
       "      <th>savgol__deriv</th>\n",
       "      <td>2</td>\n",
       "      <td>1</td>\n",
       "    </tr>\n",
       "    <tr>\n",
       "      <th>savgol__polyorder</th>\n",
       "      <td>3</td>\n",
       "      <td>3</td>\n",
       "    </tr>\n",
       "    <tr>\n",
       "      <th>savgol__wavemax</th>\n",
       "      <td>1478</td>\n",
       "      <td>1434</td>\n",
       "    </tr>\n",
       "    <tr>\n",
       "      <th>savgol__wavemin</th>\n",
       "      <td>1038</td>\n",
       "      <td>1062</td>\n",
       "    </tr>\n",
       "    <tr>\n",
       "      <th>savgol__window_length</th>\n",
       "      <td>13</td>\n",
       "      <td>13</td>\n",
       "    </tr>\n",
       "    <tr>\n",
       "      <th>RMSE train</th>\n",
       "      <td>4.37893</td>\n",
       "      <td>4.25048</td>\n",
       "    </tr>\n",
       "    <tr>\n",
       "      <th>R2 train</th>\n",
       "      <td>0.757085</td>\n",
       "      <td>0.771127</td>\n",
       "    </tr>\n",
       "    <tr>\n",
       "      <th>RMSE test</th>\n",
       "      <td>4.67806</td>\n",
       "      <td>4.73182</td>\n",
       "    </tr>\n",
       "    <tr>\n",
       "      <th>R2 test</th>\n",
       "      <td>0.700877</td>\n",
       "      <td>0.693962</td>\n",
       "    </tr>\n",
       "    <tr>\n",
       "      <th>preds +/-1</th>\n",
       "      <td>0.147959</td>\n",
       "      <td>0.158163</td>\n",
       "    </tr>\n",
       "    <tr>\n",
       "      <th>preds +/-2</th>\n",
       "      <td>0.336735</td>\n",
       "      <td>0.326531</td>\n",
       "    </tr>\n",
       "    <tr>\n",
       "      <th>preds +/-3</th>\n",
       "      <td>0.47449</td>\n",
       "      <td>0.469388</td>\n",
       "    </tr>\n",
       "    <tr>\n",
       "      <th>preds +/-4</th>\n",
       "      <td>0.581633</td>\n",
       "      <td>0.612245</td>\n",
       "    </tr>\n",
       "    <tr>\n",
       "      <th>preds +/-6</th>\n",
       "      <td>0.806122</td>\n",
       "      <td>0.852041</td>\n",
       "    </tr>\n",
       "    <tr>\n",
       "      <th>preds +/-8</th>\n",
       "      <td>0.923469</td>\n",
       "      <td>0.892857</td>\n",
       "    </tr>\n",
       "    <tr>\n",
       "      <th>preds +/-10</th>\n",
       "      <td>0.959184</td>\n",
       "      <td>0.94898</td>\n",
       "    </tr>\n",
       "    <tr>\n",
       "      <th>C</th>\n",
       "      <td>NA</td>\n",
       "      <td>3.16228</td>\n",
       "    </tr>\n",
       "    <tr>\n",
       "      <th>epsilon</th>\n",
       "      <td>NA</td>\n",
       "      <td>1</td>\n",
       "    </tr>\n",
       "    <tr>\n",
       "      <th>kernel</th>\n",
       "      <td>NA</td>\n",
       "      <td>0</td>\n",
       "    </tr>\n",
       "  </tbody>\n",
       "</table>\n",
       "</div>"
      ],
      "text/plain": [
       "                           elnet       SVM\n",
       "alpha                  0.0251189        NA\n",
       "l1_ratio                       1        NA\n",
       "pca__n_components             26        35\n",
       "savgol__deriv                  2         1\n",
       "savgol__polyorder              3         3\n",
       "savgol__wavemax             1478      1434\n",
       "savgol__wavemin             1038      1062\n",
       "savgol__window_length         13        13\n",
       "RMSE train               4.37893   4.25048\n",
       "R2 train                0.757085  0.771127\n",
       "RMSE test                4.67806   4.73182\n",
       "R2 test                 0.700877  0.693962\n",
       "preds +/-1              0.147959  0.158163\n",
       "preds +/-2              0.336735  0.326531\n",
       "preds +/-3               0.47449  0.469388\n",
       "preds +/-4              0.581633  0.612245\n",
       "preds +/-6              0.806122  0.852041\n",
       "preds +/-8              0.923469  0.892857\n",
       "preds +/-10             0.959184   0.94898\n",
       "C                             NA   3.16228\n",
       "epsilon                       NA         1\n",
       "kernel                        NA         0"
      ]
     },
     "execution_count": 3,
     "metadata": {},
     "output_type": "execute_result"
    }
   ],
   "source": [
    "results = pd.DataFrame()\n",
    "for file in [f for f in os.listdir('../data/') if f.startswith('res_') and f.endswith('.csv')]:\n",
    "    df = pd.read_csv('../data/{}'.format(file), index_col=[0])\n",
    "    results = pd.concat([results, df], axis=0, sort=False)\n",
    "    \n",
    "results['savgol__window_length'] = results['savgol__window_length']+1\n",
    "results.fillna('NA', inplace=True)\n",
    "\n",
    "\n",
    "#results.drop(['RMSE opt-rmse', 'R2 opt-rmse'], axis=1, inplace=True)\n",
    "#results.rename(columns={'RMSE opt-r2':'RMSE', 'R2 opt-r2':'R2'}, inplace=True)\n",
    "results.sort_values('RMSE test', inplace=True)\n",
    "results.T"
   ]
  },
  {
   "cell_type": "markdown",
   "metadata": {},
   "source": [
    "# scores"
   ]
  },
  {
   "cell_type": "code",
   "execution_count": 4,
   "metadata": {},
   "outputs": [
    {
     "data": {
      "text/html": [
       "<div>\n",
       "<style scoped>\n",
       "    .dataframe tbody tr th:only-of-type {\n",
       "        vertical-align: middle;\n",
       "    }\n",
       "\n",
       "    .dataframe tbody tr th {\n",
       "        vertical-align: top;\n",
       "    }\n",
       "\n",
       "    .dataframe thead th {\n",
       "        text-align: right;\n",
       "    }\n",
       "</style>\n",
       "<table border=\"1\" class=\"dataframe\">\n",
       "  <thead>\n",
       "    <tr style=\"text-align: right;\">\n",
       "      <th></th>\n",
       "      <th>RMSE test</th>\n",
       "      <th>RMSE train</th>\n",
       "      <th>R2 test</th>\n",
       "      <th>R2 train</th>\n",
       "    </tr>\n",
       "  </thead>\n",
       "  <tbody>\n",
       "    <tr>\n",
       "      <th>elnet</th>\n",
       "      <td>4.678057</td>\n",
       "      <td>4.378928</td>\n",
       "      <td>0.700877</td>\n",
       "      <td>0.757085</td>\n",
       "    </tr>\n",
       "    <tr>\n",
       "      <th>SVM</th>\n",
       "      <td>4.731819</td>\n",
       "      <td>4.250480</td>\n",
       "      <td>0.693962</td>\n",
       "      <td>0.771127</td>\n",
       "    </tr>\n",
       "  </tbody>\n",
       "</table>\n",
       "</div>"
      ],
      "text/plain": [
       "       RMSE test  RMSE train   R2 test  R2 train\n",
       "elnet   4.678057    4.378928  0.700877  0.757085\n",
       "SVM     4.731819    4.250480  0.693962  0.771127"
      ]
     },
     "execution_count": 4,
     "metadata": {},
     "output_type": "execute_result"
    }
   ],
   "source": [
    "# Sorted by RMSE\n",
    "results[['RMSE test', 'RMSE train', 'R2 test', 'R2 train']]"
   ]
  },
  {
   "cell_type": "code",
   "execution_count": 5,
   "metadata": {},
   "outputs": [
    {
     "data": {
      "text/html": [
       "<div>\n",
       "<style scoped>\n",
       "    .dataframe tbody tr th:only-of-type {\n",
       "        vertical-align: middle;\n",
       "    }\n",
       "\n",
       "    .dataframe tbody tr th {\n",
       "        vertical-align: top;\n",
       "    }\n",
       "\n",
       "    .dataframe thead th {\n",
       "        text-align: right;\n",
       "    }\n",
       "</style>\n",
       "<table border=\"1\" class=\"dataframe\">\n",
       "  <thead>\n",
       "    <tr style=\"text-align: right;\">\n",
       "      <th></th>\n",
       "      <th>pca__n_components</th>\n",
       "    </tr>\n",
       "  </thead>\n",
       "  <tbody>\n",
       "    <tr>\n",
       "      <th>elnet</th>\n",
       "      <td>26.0</td>\n",
       "    </tr>\n",
       "    <tr>\n",
       "      <th>SVM</th>\n",
       "      <td>35.0</td>\n",
       "    </tr>\n",
       "  </tbody>\n",
       "</table>\n",
       "</div>"
      ],
      "text/plain": [
       "       pca__n_components\n",
       "elnet               26.0\n",
       "SVM                 35.0"
      ]
     },
     "execution_count": 5,
     "metadata": {},
     "output_type": "execute_result"
    }
   ],
   "source": [
    "# PCA\n",
    "results[['pca__n_components']]"
   ]
  },
  {
   "cell_type": "code",
   "execution_count": 6,
   "metadata": {},
   "outputs": [
    {
     "data": {
      "text/html": [
       "<div>\n",
       "<style scoped>\n",
       "    .dataframe tbody tr th:only-of-type {\n",
       "        vertical-align: middle;\n",
       "    }\n",
       "\n",
       "    .dataframe tbody tr th {\n",
       "        vertical-align: top;\n",
       "    }\n",
       "\n",
       "    .dataframe thead th {\n",
       "        text-align: right;\n",
       "    }\n",
       "</style>\n",
       "<table border=\"1\" class=\"dataframe\">\n",
       "  <thead>\n",
       "    <tr style=\"text-align: right;\">\n",
       "      <th></th>\n",
       "      <th>savgol__deriv</th>\n",
       "      <th>savgol__polyorder</th>\n",
       "      <th>savgol__wavemax</th>\n",
       "      <th>savgol__wavemin</th>\n",
       "      <th>savgol__window_length</th>\n",
       "    </tr>\n",
       "  </thead>\n",
       "  <tbody>\n",
       "    <tr>\n",
       "      <th>elnet</th>\n",
       "      <td>2.0</td>\n",
       "      <td>3.0</td>\n",
       "      <td>1478.0</td>\n",
       "      <td>1038.0</td>\n",
       "      <td>13.0</td>\n",
       "    </tr>\n",
       "    <tr>\n",
       "      <th>SVM</th>\n",
       "      <td>1.0</td>\n",
       "      <td>3.0</td>\n",
       "      <td>1434.0</td>\n",
       "      <td>1062.0</td>\n",
       "      <td>13.0</td>\n",
       "    </tr>\n",
       "  </tbody>\n",
       "</table>\n",
       "</div>"
      ],
      "text/plain": [
       "       savgol__deriv  savgol__polyorder  savgol__wavemax  savgol__wavemin  \\\n",
       "elnet            2.0                3.0           1478.0           1038.0   \n",
       "SVM              1.0                3.0           1434.0           1062.0   \n",
       "\n",
       "       savgol__window_length  \n",
       "elnet                   13.0  \n",
       "SVM                     13.0  "
      ]
     },
     "execution_count": 6,
     "metadata": {},
     "output_type": "execute_result"
    }
   ],
   "source": [
    "# Savgol\n",
    "results[[col for col in results.columns if col.startswith('savgol_')]]"
   ]
  },
  {
   "cell_type": "code",
   "execution_count": 7,
   "metadata": {},
   "outputs": [
    {
     "data": {
      "text/html": [
       "<div>\n",
       "<style scoped>\n",
       "    .dataframe tbody tr th:only-of-type {\n",
       "        vertical-align: middle;\n",
       "    }\n",
       "\n",
       "    .dataframe tbody tr th {\n",
       "        vertical-align: top;\n",
       "    }\n",
       "\n",
       "    .dataframe thead th {\n",
       "        text-align: right;\n",
       "    }\n",
       "</style>\n",
       "<table border=\"1\" class=\"dataframe\">\n",
       "  <thead>\n",
       "    <tr style=\"text-align: right;\">\n",
       "      <th></th>\n",
       "      <th>preds +/-1</th>\n",
       "      <th>preds +/-2</th>\n",
       "      <th>preds +/-3</th>\n",
       "      <th>preds +/-4</th>\n",
       "      <th>preds +/-6</th>\n",
       "      <th>preds +/-8</th>\n",
       "      <th>preds +/-10</th>\n",
       "    </tr>\n",
       "  </thead>\n",
       "  <tbody>\n",
       "    <tr>\n",
       "      <th>elnet</th>\n",
       "      <td>14.795918</td>\n",
       "      <td>33.673469</td>\n",
       "      <td>47.448980</td>\n",
       "      <td>58.163265</td>\n",
       "      <td>80.612245</td>\n",
       "      <td>92.346939</td>\n",
       "      <td>95.918367</td>\n",
       "    </tr>\n",
       "    <tr>\n",
       "      <th>SVM</th>\n",
       "      <td>15.816327</td>\n",
       "      <td>32.653061</td>\n",
       "      <td>46.938776</td>\n",
       "      <td>61.224490</td>\n",
       "      <td>85.204082</td>\n",
       "      <td>89.285714</td>\n",
       "      <td>94.897959</td>\n",
       "    </tr>\n",
       "  </tbody>\n",
       "</table>\n",
       "</div>"
      ],
      "text/plain": [
       "       preds +/-1  preds +/-2  preds +/-3  preds +/-4  preds +/-6  preds +/-8  \\\n",
       "elnet   14.795918   33.673469   47.448980   58.163265   80.612245   92.346939   \n",
       "SVM     15.816327   32.653061   46.938776   61.224490   85.204082   89.285714   \n",
       "\n",
       "       preds +/-10  \n",
       "elnet    95.918367  \n",
       "SVM      94.897959  "
      ]
     },
     "execution_count": 7,
     "metadata": {},
     "output_type": "execute_result"
    }
   ],
   "source": [
    "# Accuracy\n",
    "df = results[[col for col in results.columns if col.startswith('preds')]]\n",
    "df = df*100\n",
    "df"
   ]
  },
  {
   "cell_type": "code",
   "execution_count": null,
   "metadata": {},
   "outputs": [],
   "source": []
  },
  {
   "cell_type": "code",
   "execution_count": 8,
   "metadata": {},
   "outputs": [
    {
     "data": {
      "image/png": "[encoded data removed]",
      "text/plain": [
       "<Figure size 432x288 with 1 Axes>"
      ]
     },
     "metadata": {},
     "output_type": "display_data"
    }
   ],
   "source": [
    "\n",
    "for acc in df.index:\n",
    "    plt.plot([1,2,3,4,6,8,10], df.loc[acc].values, label=acc)\n",
    "    #print(df.loc[acc].values)\n",
    "\n",
    "plt.ylabel('Accuracy inetrval (% achived)')\n",
    "plt.xlabel('Achieved interval')\n",
    "plt.grid()\n",
    "plt.legend()\n",
    "plt.savefig('results - interval.png', bbox_inches = 'tight')\n",
    "plt.show()"
   ]
  },
  {
   "cell_type": "markdown",
   "metadata": {},
   "source": [
    "# Regularization"
   ]
  },
  {
   "cell_type": "code",
   "execution_count": 9,
   "metadata": {},
   "outputs": [
    {
     "data": {
      "text/html": [
       "<div>\n",
       "<style scoped>\n",
       "    .dataframe tbody tr th:only-of-type {\n",
       "        vertical-align: middle;\n",
       "    }\n",
       "\n",
       "    .dataframe tbody tr th {\n",
       "        vertical-align: top;\n",
       "    }\n",
       "\n",
       "    .dataframe thead th {\n",
       "        text-align: right;\n",
       "    }\n",
       "</style>\n",
       "<table border=\"1\" class=\"dataframe\">\n",
       "  <thead>\n",
       "    <tr style=\"text-align: right;\">\n",
       "      <th></th>\n",
       "      <th>alpha</th>\n",
       "      <th>l1_ratio</th>\n",
       "      <th>C</th>\n",
       "      <th>epsilon</th>\n",
       "    </tr>\n",
       "  </thead>\n",
       "  <tbody>\n",
       "    <tr>\n",
       "      <th>elnet</th>\n",
       "      <td>0.0251189</td>\n",
       "      <td>1</td>\n",
       "      <td>NA</td>\n",
       "      <td>NA</td>\n",
       "    </tr>\n",
       "    <tr>\n",
       "      <th>SVM</th>\n",
       "      <td>NA</td>\n",
       "      <td>NA</td>\n",
       "      <td>3.16228</td>\n",
       "      <td>1</td>\n",
       "    </tr>\n",
       "  </tbody>\n",
       "</table>\n",
       "</div>"
      ],
      "text/plain": [
       "           alpha l1_ratio        C epsilon\n",
       "elnet  0.0251189        1       NA      NA\n",
       "SVM           NA       NA  3.16228       1"
      ]
     },
     "execution_count": 9,
     "metadata": {},
     "output_type": "execute_result"
    }
   ],
   "source": [
    "results[['alpha', 'l1_ratio', 'C', 'epsilon']]"
   ]
  },
  {
   "cell_type": "code",
   "execution_count": null,
   "metadata": {},
   "outputs": [],
   "source": []
  },
  {
   "cell_type": "code",
   "execution_count": null,
   "metadata": {},
   "outputs": [],
   "source": []
  }
 ],
 "metadata": {
  "kernelspec": {
   "display_name": "Python 3",
   "language": "python",
   "name": "python3"
  },
  "language_info": {
   "codemirror_mode": {
    "name": "ipython",
    "version": 3
   },
   "file_extension": ".py",
   "mimetype": "text/x-python",
   "name": "python",
   "nbconvert_exporter": "python",
   "pygments_lexer": "ipython3",
   "version": "3.6.6"
  }
 },
 "nbformat": 4,
 "nbformat_minor": 2
}
